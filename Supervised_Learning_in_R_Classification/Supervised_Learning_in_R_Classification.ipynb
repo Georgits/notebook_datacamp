{
 "cells": [
  {
   "cell_type": "markdown",
   "metadata": {
    "hideCode": false,
    "hidePrompt": false
   },
   "source": [
    "## <font color = blue>Chapter 1: k-Nearest Neighbors (kNN)</font>"
   ]
  },
  {
   "cell_type": "markdown",
   "metadata": {
    "hideCode": false,
    "hidePrompt": false
   },
   "source": [
    "#### Recognizing a road sign with kNN"
   ]
  },
  {
   "cell_type": "code",
   "execution_count": 20,
   "metadata": {
    "hideCode": false,
    "hidePrompt": false
   },
   "outputs": [],
   "source": [
    "suppressMessages(library(class))\n",
    "suppressMessages(library(dplyr))\n",
    "suppressMessages(library(naivebayes))\n",
    "suppressMessages(library(pROC))\n",
    "suppressMessages(library(rpart))\n",
    "suppressMessages(library(rpart.plot))\n",
    "suppressMessages(library(dplyr))\n",
    "suppressMessages(library(randomForest))\n",
    "options(repr.plot.width = 8, repr.plot.height = 4)"
   ]
  },
  {
   "cell_type": "code",
   "execution_count": 2,
   "metadata": {
    "hideCode": false,
    "hidePrompt": false
   },
   "outputs": [
    {
     "data": {
      "text/html": [
       "<table>\n",
       "<thead><tr><th scope=col>sign_type</th><th scope=col>r1</th><th scope=col>g1</th><th scope=col>b1</th><th scope=col>r2</th><th scope=col>g2</th><th scope=col>b2</th><th scope=col>r3</th><th scope=col>g3</th><th scope=col>b3</th><th scope=col>...</th><th scope=col>b13</th><th scope=col>r14</th><th scope=col>g14</th><th scope=col>b14</th><th scope=col>r15</th><th scope=col>g15</th><th scope=col>b15</th><th scope=col>r16</th><th scope=col>g16</th><th scope=col>b16</th></tr></thead>\n",
       "<tbody>\n",
       "\t<tr><td>pedestrian</td><td>155       </td><td>228       </td><td>251       </td><td>135       </td><td>188       </td><td>101       </td><td>156       </td><td>227       </td><td>245       </td><td>...       </td><td>244       </td><td>172       </td><td>228       </td><td>235       </td><td>177       </td><td>235       </td><td>244       </td><td> 22       </td><td> 52       </td><td> 53       </td></tr>\n",
       "\t<tr><td>pedestrian</td><td>142       </td><td>217       </td><td>242       </td><td>166       </td><td>204       </td><td> 44       </td><td>142       </td><td>217       </td><td>242       </td><td>...       </td><td>237       </td><td>182       </td><td>228       </td><td>143       </td><td>171       </td><td>228       </td><td>196       </td><td>164       </td><td>227       </td><td>237       </td></tr>\n",
       "\t<tr><td>pedestrian</td><td> 57       </td><td> 54       </td><td> 50       </td><td>187       </td><td>201       </td><td> 68       </td><td> 51       </td><td> 51       </td><td> 45       </td><td>...       </td><td> 59       </td><td> 76       </td><td> 84       </td><td> 22       </td><td> 82       </td><td> 93       </td><td> 17       </td><td> 58       </td><td> 60       </td><td> 60       </td></tr>\n",
       "\t<tr><td>pedestrian</td><td> 22       </td><td> 35       </td><td> 41       </td><td>171       </td><td>178       </td><td> 26       </td><td> 19       </td><td> 27       </td><td> 29       </td><td>...       </td><td> 34       </td><td> 64       </td><td> 61       </td><td>  4       </td><td>211       </td><td>222       </td><td> 78       </td><td> 19       </td><td> 27       </td><td> 29       </td></tr>\n",
       "\t<tr><td>pedestrian</td><td>169       </td><td>179       </td><td>170       </td><td>231       </td><td>254       </td><td> 27       </td><td> 97       </td><td>107       </td><td> 99       </td><td>...       </td><td> 91       </td><td>188       </td><td>205       </td><td> 78       </td><td>125       </td><td>147       </td><td> 20       </td><td>160       </td><td>183       </td><td>187       </td></tr>\n",
       "\t<tr><td>pedestrian</td><td> 75       </td><td> 67       </td><td> 60       </td><td>131       </td><td> 89       </td><td> 53       </td><td>214       </td><td>144       </td><td> 75       </td><td>...       </td><td> 26       </td><td>197       </td><td>114       </td><td> 21       </td><td>123       </td><td> 74       </td><td> 22       </td><td>180       </td><td>107       </td><td> 26       </td></tr>\n",
       "</tbody>\n",
       "</table>\n"
      ],
      "text/latex": [
       "\\begin{tabular}{r|lllllllllllllllllllllllllllllllllllllllllllllllll}\n",
       " sign\\_type & r1 & g1 & b1 & r2 & g2 & b2 & r3 & g3 & b3 & ... & b13 & r14 & g14 & b14 & r15 & g15 & b15 & r16 & g16 & b16\\\\\n",
       "\\hline\n",
       "\t pedestrian & 155        & 228        & 251        & 135        & 188        & 101        & 156        & 227        & 245        & ...        & 244        & 172        & 228        & 235        & 177        & 235        & 244        &  22        &  52        &  53       \\\\\n",
       "\t pedestrian & 142        & 217        & 242        & 166        & 204        &  44        & 142        & 217        & 242        & ...        & 237        & 182        & 228        & 143        & 171        & 228        & 196        & 164        & 227        & 237       \\\\\n",
       "\t pedestrian &  57        &  54        &  50        & 187        & 201        &  68        &  51        &  51        &  45        & ...        &  59        &  76        &  84        &  22        &  82        &  93        &  17        &  58        &  60        &  60       \\\\\n",
       "\t pedestrian &  22        &  35        &  41        & 171        & 178        &  26        &  19        &  27        &  29        & ...        &  34        &  64        &  61        &   4        & 211        & 222        &  78        &  19        &  27        &  29       \\\\\n",
       "\t pedestrian & 169        & 179        & 170        & 231        & 254        &  27        &  97        & 107        &  99        & ...        &  91        & 188        & 205        &  78        & 125        & 147        &  20        & 160        & 183        & 187       \\\\\n",
       "\t pedestrian &  75        &  67        &  60        & 131        &  89        &  53        & 214        & 144        &  75        & ...        &  26        & 197        & 114        &  21        & 123        &  74        &  22        & 180        & 107        &  26       \\\\\n",
       "\\end{tabular}\n"
      ],
      "text/markdown": [
       "\n",
       "sign_type | r1 | g1 | b1 | r2 | g2 | b2 | r3 | g3 | b3 | ... | b13 | r14 | g14 | b14 | r15 | g15 | b15 | r16 | g16 | b16 | \n",
       "|---|---|---|---|---|---|\n",
       "| pedestrian | 155        | 228        | 251        | 135        | 188        | 101        | 156        | 227        | 245        | ...        | 244        | 172        | 228        | 235        | 177        | 235        | 244        |  22        |  52        |  53        | \n",
       "| pedestrian | 142        | 217        | 242        | 166        | 204        |  44        | 142        | 217        | 242        | ...        | 237        | 182        | 228        | 143        | 171        | 228        | 196        | 164        | 227        | 237        | \n",
       "| pedestrian |  57        |  54        |  50        | 187        | 201        |  68        |  51        |  51        |  45        | ...        |  59        |  76        |  84        |  22        |  82        |  93        |  17        |  58        |  60        |  60        | \n",
       "| pedestrian |  22        |  35        |  41        | 171        | 178        |  26        |  19        |  27        |  29        | ...        |  34        |  64        |  61        |   4        | 211        | 222        |  78        |  19        |  27        |  29        | \n",
       "| pedestrian | 169        | 179        | 170        | 231        | 254        |  27        |  97        | 107        |  99        | ...        |  91        | 188        | 205        |  78        | 125        | 147        |  20        | 160        | 183        | 187        | \n",
       "| pedestrian |  75        |  67        |  60        | 131        |  89        |  53        | 214        | 144        |  75        | ...        |  26        | 197        | 114        |  21        | 123        |  74        |  22        | 180        | 107        |  26        | \n",
       "\n",
       "\n"
      ],
      "text/plain": [
       "  sign_type  r1  g1  b1  r2  g2  b2  r3  g3  b3  ... b13 r14 g14 b14 r15 g15\n",
       "1 pedestrian 155 228 251 135 188 101 156 227 245 ... 244 172 228 235 177 235\n",
       "2 pedestrian 142 217 242 166 204  44 142 217 242 ... 237 182 228 143 171 228\n",
       "3 pedestrian  57  54  50 187 201  68  51  51  45 ...  59  76  84  22  82  93\n",
       "4 pedestrian  22  35  41 171 178  26  19  27  29 ...  34  64  61   4 211 222\n",
       "5 pedestrian 169 179 170 231 254  27  97 107  99 ...  91 188 205  78 125 147\n",
       "6 pedestrian  75  67  60 131  89  53 214 144  75 ...  26 197 114  21 123  74\n",
       "  b15 r16 g16 b16\n",
       "1 244  22  52  53\n",
       "2 196 164 227 237\n",
       "3  17  58  60  60\n",
       "4  78  19  27  29\n",
       "5  20 160 183 187\n",
       "6  22 180 107  26"
      ]
     },
     "metadata": {},
     "output_type": "display_data"
    },
    {
     "data": {
      "text/html": [
       "<ol class=list-inline>\n",
       "\t<li>pedestrian</li>\n",
       "\t<li>pedestrian</li>\n",
       "\t<li>pedestrian</li>\n",
       "\t<li>pedestrian</li>\n",
       "\t<li>pedestrian</li>\n",
       "\t<li>pedestrian</li>\n",
       "\t<li>pedestrian</li>\n",
       "\t<li>pedestrian</li>\n",
       "\t<li>pedestrian</li>\n",
       "\t<li>pedestrian</li>\n",
       "\t<li>pedestrian</li>\n",
       "\t<li>pedestrian</li>\n",
       "\t<li>pedestrian</li>\n",
       "\t<li>pedestrian</li>\n",
       "\t<li>pedestrian</li>\n",
       "\t<li>pedestrian</li>\n",
       "\t<li>pedestrian</li>\n",
       "\t<li>pedestrian</li>\n",
       "\t<li>pedestrian</li>\n",
       "\t<li>stop</li>\n",
       "\t<li>pedestrian</li>\n",
       "\t<li>speed</li>\n",
       "\t<li>speed</li>\n",
       "\t<li>speed</li>\n",
       "\t<li>speed</li>\n",
       "\t<li>speed</li>\n",
       "\t<li>speed</li>\n",
       "\t<li>stop</li>\n",
       "\t<li>pedestrian</li>\n",
       "\t<li>speed</li>\n",
       "\t<li>speed</li>\n",
       "\t<li>speed</li>\n",
       "\t<li>speed</li>\n",
       "\t<li>speed</li>\n",
       "\t<li>speed</li>\n",
       "\t<li>speed</li>\n",
       "\t<li>speed</li>\n",
       "\t<li>speed</li>\n",
       "\t<li>speed</li>\n",
       "\t<li>speed</li>\n",
       "\t<li>stop</li>\n",
       "\t<li>stop</li>\n",
       "\t<li>stop</li>\n",
       "\t<li>stop</li>\n",
       "\t<li>stop</li>\n",
       "\t<li>stop</li>\n",
       "\t<li>stop</li>\n",
       "\t<li>stop</li>\n",
       "\t<li>stop</li>\n",
       "\t<li>stop</li>\n",
       "\t<li>stop</li>\n",
       "\t<li>stop</li>\n",
       "\t<li>stop</li>\n",
       "\t<li>stop</li>\n",
       "\t<li>stop</li>\n",
       "\t<li>stop</li>\n",
       "\t<li>stop</li>\n",
       "\t<li>stop</li>\n",
       "\t<li>stop</li>\n",
       "</ol>\n"
      ],
      "text/latex": [
       "\\begin{enumerate*}\n",
       "\\item pedestrian\n",
       "\\item pedestrian\n",
       "\\item pedestrian\n",
       "\\item pedestrian\n",
       "\\item pedestrian\n",
       "\\item pedestrian\n",
       "\\item pedestrian\n",
       "\\item pedestrian\n",
       "\\item pedestrian\n",
       "\\item pedestrian\n",
       "\\item pedestrian\n",
       "\\item pedestrian\n",
       "\\item pedestrian\n",
       "\\item pedestrian\n",
       "\\item pedestrian\n",
       "\\item pedestrian\n",
       "\\item pedestrian\n",
       "\\item pedestrian\n",
       "\\item pedestrian\n",
       "\\item stop\n",
       "\\item pedestrian\n",
       "\\item speed\n",
       "\\item speed\n",
       "\\item speed\n",
       "\\item speed\n",
       "\\item speed\n",
       "\\item speed\n",
       "\\item stop\n",
       "\\item pedestrian\n",
       "\\item speed\n",
       "\\item speed\n",
       "\\item speed\n",
       "\\item speed\n",
       "\\item speed\n",
       "\\item speed\n",
       "\\item speed\n",
       "\\item speed\n",
       "\\item speed\n",
       "\\item speed\n",
       "\\item speed\n",
       "\\item stop\n",
       "\\item stop\n",
       "\\item stop\n",
       "\\item stop\n",
       "\\item stop\n",
       "\\item stop\n",
       "\\item stop\n",
       "\\item stop\n",
       "\\item stop\n",
       "\\item stop\n",
       "\\item stop\n",
       "\\item stop\n",
       "\\item stop\n",
       "\\item stop\n",
       "\\item stop\n",
       "\\item stop\n",
       "\\item stop\n",
       "\\item stop\n",
       "\\item stop\n",
       "\\end{enumerate*}\n"
      ],
      "text/markdown": [
       "1. pedestrian\n",
       "2. pedestrian\n",
       "3. pedestrian\n",
       "4. pedestrian\n",
       "5. pedestrian\n",
       "6. pedestrian\n",
       "7. pedestrian\n",
       "8. pedestrian\n",
       "9. pedestrian\n",
       "10. pedestrian\n",
       "11. pedestrian\n",
       "12. pedestrian\n",
       "13. pedestrian\n",
       "14. pedestrian\n",
       "15. pedestrian\n",
       "16. pedestrian\n",
       "17. pedestrian\n",
       "18. pedestrian\n",
       "19. pedestrian\n",
       "20. stop\n",
       "21. pedestrian\n",
       "22. speed\n",
       "23. speed\n",
       "24. speed\n",
       "25. speed\n",
       "26. speed\n",
       "27. speed\n",
       "28. stop\n",
       "29. pedestrian\n",
       "30. speed\n",
       "31. speed\n",
       "32. speed\n",
       "33. speed\n",
       "34. speed\n",
       "35. speed\n",
       "36. speed\n",
       "37. speed\n",
       "38. speed\n",
       "39. speed\n",
       "40. speed\n",
       "41. stop\n",
       "42. stop\n",
       "43. stop\n",
       "44. stop\n",
       "45. stop\n",
       "46. stop\n",
       "47. stop\n",
       "48. stop\n",
       "49. stop\n",
       "50. stop\n",
       "51. stop\n",
       "52. stop\n",
       "53. stop\n",
       "54. stop\n",
       "55. stop\n",
       "56. stop\n",
       "57. stop\n",
       "58. stop\n",
       "59. stop\n",
       "\n",
       "\n"
      ],
      "text/plain": [
       " [1] pedestrian pedestrian pedestrian pedestrian pedestrian pedestrian\n",
       " [7] pedestrian pedestrian pedestrian pedestrian pedestrian pedestrian\n",
       "[13] pedestrian pedestrian pedestrian pedestrian pedestrian pedestrian\n",
       "[19] pedestrian stop       pedestrian speed      speed      speed     \n",
       "[25] speed      speed      speed      stop       pedestrian speed     \n",
       "[31] speed      speed      speed      speed      speed      speed     \n",
       "[37] speed      speed      speed      speed      stop       stop      \n",
       "[43] stop       stop       stop       stop       stop       stop      \n",
       "[49] stop       stop       stop       stop       stop       stop      \n",
       "[55] stop       stop       stop       stop       stop      \n",
       "Levels: pedestrian speed stop"
      ]
     },
     "metadata": {},
     "output_type": "display_data"
    }
   ],
   "source": [
    "signs_full <- read.csv(\"knn_traffic_signs.csv\")\n",
    "signs <- signs_full %>% filter(sample == \"train\") %>% select(-id, - sample)\n",
    "test_signs <- signs_full %>% filter(sample == \"test\") %>% select(-id, - sample)\n",
    "head(signs)\n",
    "\n",
    "# Create a vector of labels\n",
    "sign_types <- signs$sign_type\n",
    "\n",
    "# Classify the next sign observed\n",
    "knn(train = signs[-1], test = test_signs[-1], cl = sign_types)"
   ]
  },
  {
   "cell_type": "markdown",
   "metadata": {
    "hideCode": false,
    "hidePrompt": false
   },
   "source": [
    "#### Exploring the traffic sign dataset"
   ]
  },
  {
   "cell_type": "code",
   "execution_count": 3,
   "metadata": {},
   "outputs": [
    {
     "name": "stdout",
     "output_type": "stream",
     "text": [
      "'data.frame':\t146 obs. of  49 variables:\n",
      " $ sign_type: Factor w/ 3 levels \"pedestrian\",\"speed\",..: 1 1 1 1 1 1 1 1 1 1 ...\n",
      " $ r1       : int  155 142 57 22 169 75 136 149 13 123 ...\n",
      " $ g1       : int  228 217 54 35 179 67 149 225 34 124 ...\n",
      " $ b1       : int  251 242 50 41 170 60 157 241 28 107 ...\n",
      " $ r2       : int  135 166 187 171 231 131 200 34 5 83 ...\n",
      " $ g2       : int  188 204 201 178 254 89 203 45 21 61 ...\n",
      " $ b2       : int  101 44 68 26 27 53 107 1 11 26 ...\n",
      " $ r3       : int  156 142 51 19 97 214 150 155 123 116 ...\n",
      " $ g3       : int  227 217 51 27 107 144 167 226 154 124 ...\n",
      " $ b3       : int  245 242 45 29 99 75 134 238 140 115 ...\n",
      " $ r4       : int  145 147 59 19 123 156 171 147 21 67 ...\n",
      " $ g4       : int  211 219 62 27 147 169 218 222 46 67 ...\n",
      " $ b4       : int  228 242 65 29 152 190 252 242 41 52 ...\n",
      " $ r5       : int  166 164 156 42 221 67 171 170 36 70 ...\n",
      " $ g5       : int  233 228 171 37 236 50 158 191 60 53 ...\n",
      " $ b5       : int  245 229 50 3 117 36 108 113 26 26 ...\n",
      " $ r6       : int  212 84 254 217 205 37 157 26 75 26 ...\n",
      " $ g6       : int  254 116 255 228 225 36 186 37 108 26 ...\n",
      " $ b6       : int  52 17 36 19 80 42 11 12 44 21 ...\n",
      " $ r7       : int  212 217 211 221 235 44 26 34 13 52 ...\n",
      " $ g7       : int  254 254 226 235 254 42 35 45 27 45 ...\n",
      " $ b7       : int  11 26 70 20 60 44 10 19 25 27 ...\n",
      " $ r8       : int  188 155 78 181 90 192 180 221 133 117 ...\n",
      " $ g8       : int  229 203 73 183 110 131 211 249 163 109 ...\n",
      " $ b8       : int  117 128 64 73 9 73 236 184 126 83 ...\n",
      " $ r9       : int  170 213 220 237 216 123 129 226 83 110 ...\n",
      " $ g9       : int  216 253 234 234 236 74 109 246 125 74 ...\n",
      " $ b9       : int  120 51 59 44 66 22 73 59 19 12 ...\n",
      " $ r10      : int  211 217 254 251 229 36 161 30 13 98 ...\n",
      " $ g10      : int  254 255 255 254 255 34 190 40 27 70 ...\n",
      " $ b10      : int  3 21 51 2 12 37 10 34 25 26 ...\n",
      " $ r11      : int  212 217 253 235 235 44 161 34 9 20 ...\n",
      " $ g11      : int  254 255 255 243 254 42 190 44 23 21 ...\n",
      " $ b11      : int  19 21 44 12 60 44 6 35 18 20 ...\n",
      " $ r12      : int  172 158 66 19 163 197 187 241 85 113 ...\n",
      " $ g12      : int  235 225 68 27 168 114 215 255 128 76 ...\n",
      " $ b12      : int  244 237 68 29 152 21 236 54 21 14 ...\n",
      " $ r13      : int  172 164 69 20 124 171 141 205 83 106 ...\n",
      " $ g13      : int  235 227 65 29 117 102 142 229 125 69 ...\n",
      " $ b13      : int  244 237 59 34 91 26 140 46 19 9 ...\n",
      " $ r14      : int  172 182 76 64 188 197 189 226 85 102 ...\n",
      " $ g14      : int  228 228 84 61 205 114 171 246 128 67 ...\n",
      " $ b14      : int  235 143 22 4 78 21 140 59 21 6 ...\n",
      " $ r15      : int  177 171 82 211 125 123 214 235 85 106 ...\n",
      " $ g15      : int  235 228 93 222 147 74 221 252 128 69 ...\n",
      " $ b15      : int  244 196 17 78 20 22 201 67 21 9 ...\n",
      " $ r16      : int  22 164 58 19 160 180 188 237 83 43 ...\n",
      " $ g16      : int  52 227 60 27 183 107 211 254 125 29 ...\n",
      " $ b16      : int  53 237 60 29 187 26 227 53 19 11 ...\n"
     ]
    },
    {
     "data": {
      "text/plain": [
       "\n",
       "pedestrian      speed       stop \n",
       "        46         49         51 "
      ]
     },
     "metadata": {},
     "output_type": "display_data"
    },
    {
     "data": {
      "text/html": [
       "<table>\n",
       "<thead><tr><th scope=col>sign_type</th><th scope=col>r10</th></tr></thead>\n",
       "<tbody>\n",
       "\t<tr><td>pedestrian</td><td>113.71739 </td></tr>\n",
       "\t<tr><td>speed     </td><td> 80.63265 </td></tr>\n",
       "\t<tr><td>stop      </td><td>132.39216 </td></tr>\n",
       "</tbody>\n",
       "</table>\n"
      ],
      "text/latex": [
       "\\begin{tabular}{r|ll}\n",
       " sign\\_type & r10\\\\\n",
       "\\hline\n",
       "\t pedestrian & 113.71739 \\\\\n",
       "\t speed      &  80.63265 \\\\\n",
       "\t stop       & 132.39216 \\\\\n",
       "\\end{tabular}\n"
      ],
      "text/markdown": [
       "\n",
       "sign_type | r10 | \n",
       "|---|---|---|\n",
       "| pedestrian | 113.71739  | \n",
       "| speed      |  80.63265  | \n",
       "| stop       | 132.39216  | \n",
       "\n",
       "\n"
      ],
      "text/plain": [
       "  sign_type  r10      \n",
       "1 pedestrian 113.71739\n",
       "2 speed       80.63265\n",
       "3 stop       132.39216"
      ]
     },
     "metadata": {},
     "output_type": "display_data"
    }
   ],
   "source": [
    "# Examine the structure of the signs dataset\n",
    "str(signs)\n",
    "\n",
    "# Count the number of signs of each type\n",
    "table(signs$sign_type)\n",
    "\n",
    "# Check r10's average red level by sign type\n",
    "aggregate(r10 ~ sign_type, data = signs, mean)"
   ]
  },
  {
   "cell_type": "markdown",
   "metadata": {},
   "source": [
    "#### Classifying a collection of road signs"
   ]
  },
  {
   "cell_type": "code",
   "execution_count": 4,
   "metadata": {},
   "outputs": [
    {
     "data": {
      "text/plain": [
       "            signs_actual\n",
       "signs_pred   pedestrian speed stop\n",
       "  pedestrian         19     2    0\n",
       "  speed               0    17    0\n",
       "  stop                0     2   19"
      ]
     },
     "metadata": {},
     "output_type": "display_data"
    },
    {
     "data": {
      "text/html": [
       "0.932203389830508"
      ],
      "text/latex": [
       "0.932203389830508"
      ],
      "text/markdown": [
       "0.932203389830508"
      ],
      "text/plain": [
       "[1] 0.9322034"
      ]
     },
     "metadata": {},
     "output_type": "display_data"
    }
   ],
   "source": [
    "# Use kNN to identify the test road signs\n",
    "sign_types <- signs$sign_type\n",
    "signs_pred <- knn(train = signs[-1], test = test_signs[-1], cl = sign_types)\n",
    "\n",
    "# Create a confusion matrix of the actual versus predicted values\n",
    "signs_actual <- test_signs$sign_type\n",
    "table(signs_pred, signs_actual)\n",
    "\n",
    "# Compute the accuracy\n",
    "mean(signs_pred == signs_actual)"
   ]
  },
  {
   "cell_type": "markdown",
   "metadata": {},
   "source": [
    "#### Testing other 'k' values"
   ]
  },
  {
   "cell_type": "code",
   "execution_count": 5,
   "metadata": {},
   "outputs": [
    {
     "data": {
      "text/html": [
       "0.932203389830508"
      ],
      "text/latex": [
       "0.932203389830508"
      ],
      "text/markdown": [
       "0.932203389830508"
      ],
      "text/plain": [
       "[1] 0.9322034"
      ]
     },
     "metadata": {},
     "output_type": "display_data"
    },
    {
     "data": {
      "text/html": [
       "0.949152542372881"
      ],
      "text/latex": [
       "0.949152542372881"
      ],
      "text/markdown": [
       "0.949152542372881"
      ],
      "text/plain": [
       "[1] 0.9491525"
      ]
     },
     "metadata": {},
     "output_type": "display_data"
    },
    {
     "data": {
      "text/html": [
       "0.88135593220339"
      ],
      "text/latex": [
       "0.88135593220339"
      ],
      "text/markdown": [
       "0.88135593220339"
      ],
      "text/plain": [
       "[1] 0.8813559"
      ]
     },
     "metadata": {},
     "output_type": "display_data"
    }
   ],
   "source": [
    "# Compute the accuracy of the baseline model (default k = 1)\n",
    "k_1 <- knn(train = signs[-1], test = test_signs[-1], cl = sign_types)\n",
    "mean(k_1 == signs_actual)\n",
    "\n",
    "# Modify the above to set k = 7\n",
    "k_7 <- knn(train = signs[-1], test = test_signs[-1], cl = sign_types, k = 7)\n",
    "mean(k_7 == signs_actual)\n",
    "\n",
    "# Set k = 15 and compare to the above\n",
    "k_15 <- knn(train = signs[-1], test = test_signs[-1], cl = sign_types, k = 15)\n",
    "mean(k_15 == signs_actual)\n"
   ]
  },
  {
   "cell_type": "markdown",
   "metadata": {},
   "source": [
    "#### Seeing how the neighbors voted"
   ]
  },
  {
   "cell_type": "code",
   "execution_count": 6,
   "metadata": {},
   "outputs": [
    {
     "data": {
      "text/html": [
       "<ol class=list-inline>\n",
       "\t<li>pedestrian</li>\n",
       "\t<li>pedestrian</li>\n",
       "\t<li>pedestrian</li>\n",
       "\t<li>stop</li>\n",
       "\t<li>pedestrian</li>\n",
       "\t<li>pedestrian</li>\n",
       "</ol>\n"
      ],
      "text/latex": [
       "\\begin{enumerate*}\n",
       "\\item pedestrian\n",
       "\\item pedestrian\n",
       "\\item pedestrian\n",
       "\\item stop\n",
       "\\item pedestrian\n",
       "\\item pedestrian\n",
       "\\end{enumerate*}\n"
      ],
      "text/markdown": [
       "1. pedestrian\n",
       "2. pedestrian\n",
       "3. pedestrian\n",
       "4. stop\n",
       "5. pedestrian\n",
       "6. pedestrian\n",
       "\n",
       "\n"
      ],
      "text/plain": [
       "[1] pedestrian pedestrian pedestrian stop       pedestrian pedestrian\n",
       "Levels: pedestrian speed stop"
      ]
     },
     "metadata": {},
     "output_type": "display_data"
    },
    {
     "data": {
      "text/html": [
       "<ol class=list-inline>\n",
       "\t<li>0.571428571428571</li>\n",
       "\t<li>0.571428571428571</li>\n",
       "\t<li>0.857142857142857</li>\n",
       "\t<li>0.571428571428571</li>\n",
       "\t<li>0.857142857142857</li>\n",
       "\t<li>0.571428571428571</li>\n",
       "</ol>\n"
      ],
      "text/latex": [
       "\\begin{enumerate*}\n",
       "\\item 0.571428571428571\n",
       "\\item 0.571428571428571\n",
       "\\item 0.857142857142857\n",
       "\\item 0.571428571428571\n",
       "\\item 0.857142857142857\n",
       "\\item 0.571428571428571\n",
       "\\end{enumerate*}\n"
      ],
      "text/markdown": [
       "1. 0.571428571428571\n",
       "2. 0.571428571428571\n",
       "3. 0.857142857142857\n",
       "4. 0.571428571428571\n",
       "5. 0.857142857142857\n",
       "6. 0.571428571428571\n",
       "\n",
       "\n"
      ],
      "text/plain": [
       "[1] 0.5714286 0.5714286 0.8571429 0.5714286 0.8571429 0.5714286"
      ]
     },
     "metadata": {},
     "output_type": "display_data"
    }
   ],
   "source": [
    "# Use the prob parameter to get the proportion of votes for the winning class\n",
    "sign_pred <- knn(train = signs[-1], test = test_signs[-1], cl = sign_types, k = 7, prob = TRUE)\n",
    "\n",
    "# Get the \"prob\" attribute from the predicted classes\n",
    "sign_prob <- attr(sign_pred, \"prob\")\n",
    "\n",
    "# Examine the first several predictions\n",
    "head(sign_pred)\n",
    "\n",
    "# Examine the proportion of votes for the winning class\n",
    "head(sign_prob)"
   ]
  },
  {
   "cell_type": "markdown",
   "metadata": {},
   "source": [
    "## <font color = blue>Chapter 2: Naive Bayes</font>"
   ]
  },
  {
   "cell_type": "code",
   "execution_count": 7,
   "metadata": {},
   "outputs": [
    {
     "data": {
      "text/html": [
       "<table>\n",
       "<thead><tr><th></th><th scope=col>month</th><th scope=col>day</th><th scope=col>weekday</th><th scope=col>daytype</th><th scope=col>hour</th><th scope=col>hourtype</th><th scope=col>location</th></tr></thead>\n",
       "<tbody>\n",
       "\t<tr><th scope=row>10</th><td>1        </td><td>4        </td><td>wednesday</td><td>weekday  </td><td>9        </td><td>morning  </td><td>office   </td></tr>\n",
       "\t<tr><th scope=row>34</th><td>1        </td><td>5        </td><td>thursday </td><td>weekday  </td><td>9        </td><td>morning  </td><td>office   </td></tr>\n",
       "\t<tr><th scope=row>58</th><td>1        </td><td>6        </td><td>friday   </td><td>weekday  </td><td>9        </td><td>morning  </td><td>office   </td></tr>\n",
       "\t<tr><th scope=row>82</th><td>1        </td><td>7        </td><td>saturday </td><td>weekend  </td><td>9        </td><td>morning  </td><td>home     </td></tr>\n",
       "\t<tr><th scope=row>106</th><td>1        </td><td>8        </td><td>sunday   </td><td>weekend  </td><td>9        </td><td>morning  </td><td>home     </td></tr>\n",
       "\t<tr><th scope=row>130</th><td>1        </td><td>9        </td><td>monday   </td><td>weekday  </td><td>9        </td><td>morning  </td><td>campus   </td></tr>\n",
       "</tbody>\n",
       "</table>\n"
      ],
      "text/latex": [
       "\\begin{tabular}{r|lllllll}\n",
       "  & month & day & weekday & daytype & hour & hourtype & location\\\\\n",
       "\\hline\n",
       "\t10 & 1         & 4         & wednesday & weekday   & 9         & morning   & office   \\\\\n",
       "\t34 & 1         & 5         & thursday  & weekday   & 9         & morning   & office   \\\\\n",
       "\t58 & 1         & 6         & friday    & weekday   & 9         & morning   & office   \\\\\n",
       "\t82 & 1         & 7         & saturday  & weekend   & 9         & morning   & home     \\\\\n",
       "\t106 & 1         & 8         & sunday    & weekend   & 9         & morning   & home     \\\\\n",
       "\t130 & 1         & 9         & monday    & weekday   & 9         & morning   & campus   \\\\\n",
       "\\end{tabular}\n"
      ],
      "text/markdown": [
       "\n",
       "| <!--/--> | month | day | weekday | daytype | hour | hourtype | location | \n",
       "|---|---|---|---|---|---|\n",
       "| 10 | 1         | 4         | wednesday | weekday   | 9         | morning   | office    | \n",
       "| 34 | 1         | 5         | thursday  | weekday   | 9         | morning   | office    | \n",
       "| 58 | 1         | 6         | friday    | weekday   | 9         | morning   | office    | \n",
       "| 82 | 1         | 7         | saturday  | weekend   | 9         | morning   | home      | \n",
       "| 106 | 1         | 8         | sunday    | weekend   | 9         | morning   | home      | \n",
       "| 130 | 1         | 9         | monday    | weekday   | 9         | morning   | campus    | \n",
       "\n",
       "\n"
      ],
      "text/plain": [
       "    month day weekday   daytype hour hourtype location\n",
       "10  1     4   wednesday weekday 9    morning  office  \n",
       "34  1     5   thursday  weekday 9    morning  office  \n",
       "58  1     6   friday    weekday 9    morning  office  \n",
       "82  1     7   saturday  weekend 9    morning  home    \n",
       "106 1     8   sunday    weekend 9    morning  home    \n",
       "130 1     9   monday    weekday 9    morning  campus  "
      ]
     },
     "metadata": {},
     "output_type": "display_data"
    },
    {
     "data": {
      "text/html": [
       "0.6"
      ],
      "text/latex": [
       "0.6"
      ],
      "text/markdown": [
       "0.6"
      ],
      "text/plain": [
       "[1] 0.6"
      ]
     },
     "metadata": {},
     "output_type": "display_data"
    }
   ],
   "source": [
    "locations <- read.csv(\"locations.csv\", header = TRUE, sep = \",\")\n",
    "where9am <- subset(locations, locations$hour == \"9\" & locations$hourtype == \"morning\")\n",
    "head(where9am)\n",
    "\n",
    "# Compute P(A) \n",
    "p_A <-  nrow(subset(where9am, where9am$location == \"office\")) / nrow(where9am)\n",
    "\n",
    "# Compute P(B)\n",
    "p_B <- nrow(subset(where9am, where9am$daytype == \"weekday\")) / nrow(where9am)\n",
    "\n",
    "# Compute the observed P(A and B)\n",
    "p_AB <- nrow(subset(where9am, where9am$location == \"office\" & where9am$daytype == \"weekday\")) / nrow(where9am)\n",
    "\n",
    "# Compute P(A | B)\n",
    "p_A_given_B <- p_AB / p_B\n",
    "\n",
    "p_A_given_B"
   ]
  },
  {
   "cell_type": "markdown",
   "metadata": {},
   "source": [
    "#### A simple Naive Bayes location model"
   ]
  },
  {
   "cell_type": "code",
   "execution_count": 8,
   "metadata": {},
   "outputs": [
    {
     "data": {
      "text/html": [
       "office"
      ],
      "text/latex": [
       "office"
      ],
      "text/markdown": [
       "office"
      ],
      "text/plain": [
       "[1] office\n",
       "Levels: appointment campus home office"
      ]
     },
     "metadata": {},
     "output_type": "display_data"
    },
    {
     "data": {
      "text/html": [
       "home"
      ],
      "text/latex": [
       "home"
      ],
      "text/markdown": [
       "home"
      ],
      "text/plain": [
       "[1] home\n",
       "Levels: appointment campus home office"
      ]
     },
     "metadata": {},
     "output_type": "display_data"
    }
   ],
   "source": [
    "thursday9am <- data.frame(daytype = factor(\"weekday\", levels = c(\"weekday\", \"weekend\")))\n",
    "saturday9am <- data.frame(daytype = factor(\"weekend\", levels = c(\"weekday\", \"weekend\")))\n",
    "where9am$location <- droplevels(where9am$location)\n",
    "\n",
    "# Build the location prediction model\n",
    "locmodel <- naive_bayes(location ~ daytype, data = where9am)\n",
    "\n",
    "# Predict Thursday's 9am location\n",
    "predict(locmodel, thursday9am)\n",
    "\n",
    "# Predict Saturdays's 9am location\n",
    "predict(locmodel, saturday9am)"
   ]
  },
  {
   "cell_type": "markdown",
   "metadata": {},
   "source": [
    "#### Examining \"raw\" probabilities"
   ]
  },
  {
   "cell_type": "code",
   "execution_count": 9,
   "metadata": {},
   "outputs": [
    {
     "data": {
      "text/plain": [
       "===================== Naive Bayes ===================== \n",
       "Call: \n",
       "naive_bayes.formula(formula = location ~ daytype, data = where9am)\n",
       "\n",
       "A priori probabilities: \n",
       "\n",
       "appointment      campus        home      office \n",
       " 0.01098901  0.10989011  0.45054945  0.42857143 \n",
       "\n",
       "Tables: \n",
       "         \n",
       "daytype   appointment    campus      home    office\n",
       "  weekday   1.0000000 1.0000000 0.3658537 1.0000000\n",
       "  weekend   0.0000000 0.0000000 0.6341463 0.0000000\n"
      ]
     },
     "metadata": {},
     "output_type": "display_data"
    },
    {
     "data": {
      "text/html": [
       "<table>\n",
       "<thead><tr><th scope=col>appointment</th><th scope=col>campus</th><th scope=col>home</th><th scope=col>office</th></tr></thead>\n",
       "<tbody>\n",
       "\t<tr><td>0.01538462</td><td>0.1538462 </td><td>0.2307692 </td><td>0.6       </td></tr>\n",
       "</tbody>\n",
       "</table>\n"
      ],
      "text/latex": [
       "\\begin{tabular}{llll}\n",
       " appointment & campus & home & office\\\\\n",
       "\\hline\n",
       "\t 0.01538462 & 0.1538462  & 0.2307692  & 0.6       \\\\\n",
       "\\end{tabular}\n"
      ],
      "text/markdown": [
       "\n",
       "appointment | campus | home | office | \n",
       "|---|\n",
       "| 0.01538462 | 0.1538462  | 0.2307692  | 0.6        | \n",
       "\n",
       "\n"
      ],
      "text/plain": [
       "     appointment campus    home      office\n",
       "[1,] 0.01538462  0.1538462 0.2307692 0.6   "
      ]
     },
     "metadata": {},
     "output_type": "display_data"
    },
    {
     "data": {
      "text/html": [
       "<table>\n",
       "<thead><tr><th scope=col>appointment</th><th scope=col>campus</th><th scope=col>home</th><th scope=col>office</th></tr></thead>\n",
       "<tbody>\n",
       "\t<tr><td>0</td><td>0</td><td>1</td><td>0</td></tr>\n",
       "</tbody>\n",
       "</table>\n"
      ],
      "text/latex": [
       "\\begin{tabular}{llll}\n",
       " appointment & campus & home & office\\\\\n",
       "\\hline\n",
       "\t 0 & 0 & 1 & 0\\\\\n",
       "\\end{tabular}\n"
      ],
      "text/markdown": [
       "\n",
       "appointment | campus | home | office | \n",
       "|---|\n",
       "| 0 | 0 | 1 | 0 | \n",
       "\n",
       "\n"
      ],
      "text/plain": [
       "     appointment campus home office\n",
       "[1,] 0           0      1    0     "
      ]
     },
     "metadata": {},
     "output_type": "display_data"
    }
   ],
   "source": [
    "# Examine the location prediction model\n",
    "locmodel\n",
    "\n",
    "# Obtain the predicted probabilities for Thursday at 9am\n",
    "predict(locmodel, thursday9am, type = \"prob\")\n",
    "\n",
    "# Obtain the predicted probabilities for Saturday at 9am\n",
    "predict(locmodel, saturday9am, type = \"prob\")\n"
   ]
  },
  {
   "cell_type": "markdown",
   "metadata": {},
   "source": [
    "#### A more sophisticated location model"
   ]
  },
  {
   "cell_type": "code",
   "execution_count": 20,
   "metadata": {},
   "outputs": [
    {
     "data": {
      "text/html": [
       "office"
      ],
      "text/latex": [
       "office"
      ],
      "text/markdown": [
       "office"
      ],
      "text/plain": [
       "[1] office\n",
       "Levels: appointment campus home office restaurant store theater"
      ]
     },
     "metadata": {},
     "output_type": "display_data"
    },
    {
     "data": {
      "text/html": [
       "home"
      ],
      "text/latex": [
       "home"
      ],
      "text/markdown": [
       "home"
      ],
      "text/plain": [
       "[1] home\n",
       "Levels: appointment campus home office restaurant store theater"
      ]
     },
     "metadata": {},
     "output_type": "display_data"
    }
   ],
   "source": [
    "weekday_afternoon <- data.frame(daytype = factor(\"weekday\", levels = c(\"weekday\", \"weekend\")),\n",
    "                                  hourtype = factor(\"afternoon\", levels = c(\"afternoon\", \"evening\", \n",
    "                                                                            \"morning\", \"night\")),\n",
    "                                  location = factor(\"office\", levels = c(\"appointment\", \"campus\", \"home\", \"office\", \n",
    "                                                                        \"restaurant\", \"store\", \"theater\")))\n",
    "\n",
    "weekday_evening <- data.frame(daytype = factor(\"weekday\", levels = c(\"weekday\", \"weekend\")),\n",
    "                                  hourtype = factor(\"evening\", levels = c(\"afternoon\", \"evening\", \"morning\", \"night\")),\n",
    "                                  location = factor(\"home\", levels = c(\"appointment\", \"campus\", \"home\", \"office\", \n",
    "                                                                        \"restaurant\", \"store\", \"theater\")))\n",
    "# The 'naivebayes' package is loaded into the workspace already\n",
    "\n",
    "# Build a NB model of location\n",
    "locmodel <- naive_bayes(location ~ daytype + hourtype, data = locations)\n",
    "\n",
    "# Predict Brett's location on a weekday afternoon\n",
    "predict(locmodel, weekday_afternoon)\n",
    "\n",
    "# Predict Brett's location on a weekday evening\n",
    "predict(locmodel, weekday_evening)"
   ]
  },
  {
   "cell_type": "markdown",
   "metadata": {},
   "source": [
    "#### Preparing for unforeseen circumstances"
   ]
  },
  {
   "cell_type": "code",
   "execution_count": 23,
   "metadata": {},
   "outputs": [
    {
     "data": {
      "text/html": [
       "<table>\n",
       "<thead><tr><th scope=col>appointment</th><th scope=col>campus</th><th scope=col>home</th><th scope=col>office</th><th scope=col>restaurant</th><th scope=col>store</th><th scope=col>theater</th></tr></thead>\n",
       "<tbody>\n",
       "\t<tr><td>0.004300045</td><td>0.08385089 </td><td>0.2482618  </td><td>0.5848062  </td><td>0.07304769 </td><td>0.005733394</td><td>0          </td></tr>\n",
       "</tbody>\n",
       "</table>\n"
      ],
      "text/latex": [
       "\\begin{tabular}{lllllll}\n",
       " appointment & campus & home & office & restaurant & store & theater\\\\\n",
       "\\hline\n",
       "\t 0.004300045 & 0.08385089  & 0.2482618   & 0.5848062   & 0.07304769  & 0.005733394 & 0          \\\\\n",
       "\\end{tabular}\n"
      ],
      "text/markdown": [
       "\n",
       "appointment | campus | home | office | restaurant | store | theater | \n",
       "|---|\n",
       "| 0.004300045 | 0.08385089  | 0.2482618   | 0.5848062   | 0.07304769  | 0.005733394 | 0           | \n",
       "\n",
       "\n"
      ],
      "text/plain": [
       "     appointment campus     home      office    restaurant store       theater\n",
       "[1,] 0.004300045 0.08385089 0.2482618 0.5848062 0.07304769 0.005733394 0      "
      ]
     },
     "metadata": {},
     "output_type": "display_data"
    },
    {
     "data": {
      "text/html": [
       "<table>\n",
       "<thead><tr><th scope=col>appointment</th><th scope=col>campus</th><th scope=col>home</th><th scope=col>office</th><th scope=col>restaurant</th><th scope=col>store</th><th scope=col>theater</th></tr></thead>\n",
       "<tbody>\n",
       "\t<tr><td>0.001989662 </td><td>0.07540378  </td><td>0.2578249   </td><td>0.5921724   </td><td>0.06696034  </td><td>0.00556948  </td><td>7.946877e-05</td></tr>\n",
       "</tbody>\n",
       "</table>\n"
      ],
      "text/latex": [
       "\\begin{tabular}{lllllll}\n",
       " appointment & campus & home & office & restaurant & store & theater\\\\\n",
       "\\hline\n",
       "\t 0.001989662  & 0.07540378   & 0.2578249    & 0.5921724    & 0.06696034   & 0.00556948   & 7.946877e-05\\\\\n",
       "\\end{tabular}\n"
      ],
      "text/markdown": [
       "\n",
       "appointment | campus | home | office | restaurant | store | theater | \n",
       "|---|\n",
       "| 0.001989662  | 0.07540378   | 0.2578249    | 0.5921724    | 0.06696034   | 0.00556948   | 7.946877e-05 | \n",
       "\n",
       "\n"
      ],
      "text/plain": [
       "     appointment campus     home      office    restaurant store     \n",
       "[1,] 0.001989662 0.07540378 0.2578249 0.5921724 0.06696034 0.00556948\n",
       "     theater     \n",
       "[1,] 7.946877e-05"
      ]
     },
     "metadata": {},
     "output_type": "display_data"
    }
   ],
   "source": [
    "weekend_afternoon <- data.frame(daytype = factor(\"weekday\", levels = c(\"weekday\", \"weekend\")),\n",
    "                                  hourtype = factor(\"afternoon\", levels = c(\"afternoon\", \"evening\", \n",
    "                                                                            \"morning\", \"night\")),\n",
    "                                  location = factor(\"home\", levels = c(\"appointment\", \"campus\", \"home\", \"office\", \n",
    "                                                                        \"restaurant\", \"store\", \"theater\")))\n",
    "\n",
    "# The 'naivebayes' package is loaded into the workspace already\n",
    "# The Naive Bayes location model (locmodel) has already been built\n",
    "\n",
    "# Observe the predicted probabilities for a weekend afternoon\n",
    "predict(locmodel, weekend_afternoon, type = \"prob\")\n",
    "\n",
    "# Build a new model using the Laplace correction\n",
    "locmodel2 <- naive_bayes(location ~ daytype + hourtype, laplace = 1, data = locations)\n",
    "\n",
    "# Observe the new predicted probabilities for a weekend afternoon\n",
    "predict(locmodel2, weekend_afternoon, type = \"prob\")\n",
    "\n",
    "# Adding the Laplace correction allows for the small chance that Brett might go to the office \n",
    "# on the weekend in the future. "
   ]
  },
  {
   "cell_type": "markdown",
   "metadata": {},
   "source": [
    "## <font color = blue>Chapter 3: Logistic Regression</font>"
   ]
  },
  {
   "cell_type": "markdown",
   "metadata": {},
   "source": [
    "#### Building simple logistic regression models"
   ]
  },
  {
   "cell_type": "code",
   "execution_count": 24,
   "metadata": {},
   "outputs": [
    {
     "name": "stdout",
     "output_type": "stream",
     "text": [
      "'data.frame':\t93462 obs. of  13 variables:\n",
      " $ donated          : int  0 0 0 0 0 0 0 0 0 0 ...\n",
      " $ veteran          : int  0 0 0 0 0 0 0 0 0 0 ...\n",
      " $ bad_address      : int  0 0 0 0 0 0 0 0 0 0 ...\n",
      " $ age              : int  60 46 NA 70 78 NA 38 NA NA 65 ...\n",
      " $ has_children     : int  0 1 0 0 1 0 1 0 0 0 ...\n",
      " $ wealth_rating    : int  0 3 1 2 1 0 2 3 1 0 ...\n",
      " $ interest_veterans: int  0 0 0 0 0 0 0 0 0 0 ...\n",
      " $ interest_religion: int  0 0 0 0 1 0 0 0 0 0 ...\n",
      " $ pet_owner        : int  0 0 0 0 0 0 1 0 0 0 ...\n",
      " $ catalog_shopper  : int  0 0 0 0 1 0 0 0 0 0 ...\n",
      " $ recency          : Factor w/ 2 levels \"CURRENT\",\"LAPSED\": 1 1 1 1 1 1 1 1 1 1 ...\n",
      " $ frequency        : Factor w/ 2 levels \"FREQUENT\",\"INFREQUENT\": 1 1 1 1 1 2 2 1 2 2 ...\n",
      " $ money            : Factor w/ 2 levels \"HIGH\",\"MEDIUM\": 2 1 2 2 2 2 2 2 2 2 ...\n"
     ]
    },
    {
     "data": {
      "text/plain": [
       "\n",
       "    0     1 \n",
       "88751  4711 "
      ]
     },
     "metadata": {},
     "output_type": "display_data"
    },
    {
     "data": {
      "text/plain": [
       "\n",
       "Call:\n",
       "glm(formula = donated ~ bad_address + interest_religion + interest_veterans, \n",
       "    family = \"binomial\", data = donors)\n",
       "\n",
       "Deviance Residuals: \n",
       "    Min       1Q   Median       3Q      Max  \n",
       "-0.3480  -0.3192  -0.3192  -0.3192   2.5678  \n",
       "\n",
       "Coefficients:\n",
       "                  Estimate Std. Error  z value Pr(>|z|)    \n",
       "(Intercept)       -2.95139    0.01652 -178.664   <2e-16 ***\n",
       "bad_address       -0.30780    0.14348   -2.145   0.0319 *  \n",
       "interest_religion  0.06724    0.05069    1.327   0.1847    \n",
       "interest_veterans  0.11009    0.04676    2.354   0.0186 *  \n",
       "---\n",
       "Signif. codes:  0 '***' 0.001 '**' 0.01 '*' 0.05 '.' 0.1 ' ' 1\n",
       "\n",
       "(Dispersion parameter for binomial family taken to be 1)\n",
       "\n",
       "    Null deviance: 37330  on 93461  degrees of freedom\n",
       "Residual deviance: 37316  on 93458  degrees of freedom\n",
       "AIC: 37324\n",
       "\n",
       "Number of Fisher Scoring iterations: 5\n"
      ]
     },
     "metadata": {},
     "output_type": "display_data"
    }
   ],
   "source": [
    "donors <- read.csv(\"donors.csv\")\n",
    "\n",
    "# Examine the dataset to identify potential independent variables\n",
    "str(donors)\n",
    "\n",
    "# Explore the dependent variable\n",
    "table(donors$donated)\n",
    "\n",
    "# Build the donation model\n",
    "donation_model <- glm(donated ~ bad_address + interest_religion + interest_veterans, \n",
    "                      data = donors, family = \"binomial\")\n",
    "\n",
    "# Summarize the model results\n",
    "summary(donation_model)"
   ]
  },
  {
   "cell_type": "markdown",
   "metadata": {},
   "source": [
    "#### Making a binary prediction"
   ]
  },
  {
   "cell_type": "code",
   "execution_count": 25,
   "metadata": {},
   "outputs": [
    {
     "data": {
      "text/html": [
       "0.0504055124007618"
      ],
      "text/latex": [
       "0.0504055124007618"
      ],
      "text/markdown": [
       "0.0504055124007618"
      ],
      "text/plain": [
       "[1] 0.05040551"
      ]
     },
     "metadata": {},
     "output_type": "display_data"
    },
    {
     "data": {
      "text/html": [
       "0.794815005028782"
      ],
      "text/latex": [
       "0.794815005028782"
      ],
      "text/markdown": [
       "0.794815005028782"
      ],
      "text/plain": [
       "[1] 0.794815"
      ]
     },
     "metadata": {},
     "output_type": "display_data"
    }
   ],
   "source": [
    "# Estimate the donation probability\n",
    "donors$donation_prob <- predict(donation_model, type = \"response\")\n",
    "\n",
    "# Find the donation probability of the average prospect\n",
    "mean(donors$donated)\n",
    "\n",
    "# Predict a donation if probability of donation is greater than average\n",
    "donors$donation_pred <- ifelse(donors$donation_prob > 0.0504, 1, 0)\n",
    "\n",
    "# Calculate the model's accuracy\n",
    "mean(donors$donated == donors$donation_pred)"
   ]
  },
  {
   "cell_type": "markdown",
   "metadata": {},
   "source": [
    "#### Calculating ROC Curves and AUC"
   ]
  },
  {
   "cell_type": "code",
   "execution_count": 29,
   "metadata": {},
   "outputs": [
    {
     "data": {
      "text/html": [
       "0.510166058120372"
      ],
      "text/latex": [
       "0.510166058120372"
      ],
      "text/markdown": [
       "0.510166058120372"
      ],
      "text/plain": [
       "Area under the curve: 0.5102"
      ]
     },
     "metadata": {},
     "output_type": "display_data"
    },
    {
     "data": {
      "image/png": "[encoded data removed]",
      "text/plain": [
       "plot without title"
      ]
     },
     "metadata": {},
     "output_type": "display_data"
    }
   ],
   "source": [
    "# Load the pROC package\n",
    "\n",
    "# Create a ROC curve\n",
    "ROC <- roc(donors$donated, donors$donation_prob)\n",
    "\n",
    "# Plot the ROC curve\n",
    "plot(ROC, col = \"blue\")\n",
    "\n",
    "# Calculate the area under the curve (AUC)\n",
    "auc(ROC)"
   ]
  },
  {
   "cell_type": "markdown",
   "metadata": {},
   "source": [
    "#### Coding categorical features"
   ]
  },
  {
   "cell_type": "code",
   "execution_count": 2,
   "metadata": {},
   "outputs": [
    {
     "data": {
      "text/plain": [
       "\n",
       "Call:\n",
       "glm(formula = donated ~ wealth_rating, family = \"binomial\", data = donors)\n",
       "\n",
       "Deviance Residuals: \n",
       "    Min       1Q   Median       3Q      Max  \n",
       "-0.3320  -0.3243  -0.3175  -0.3175   2.4582  \n",
       "\n",
       "Coefficients:\n",
       "                     Estimate Std. Error z value Pr(>|z|)    \n",
       "(Intercept)          -2.91894    0.03614 -80.772   <2e-16 ***\n",
       "wealth_ratingUnknown -0.04373    0.04243  -1.031    0.303    \n",
       "wealth_ratingLow     -0.05245    0.05332  -0.984    0.325    \n",
       "wealth_ratingHigh     0.04804    0.04768   1.008    0.314    \n",
       "---\n",
       "Signif. codes:  0 '***' 0.001 '**' 0.01 '*' 0.05 '.' 0.1 ' ' 1\n",
       "\n",
       "(Dispersion parameter for binomial family taken to be 1)\n",
       "\n",
       "    Null deviance: 37330  on 93461  degrees of freedom\n",
       "Residual deviance: 37323  on 93458  degrees of freedom\n",
       "AIC: 37331\n",
       "\n",
       "Number of Fisher Scoring iterations: 5\n"
      ]
     },
     "metadata": {},
     "output_type": "display_data"
    }
   ],
   "source": [
    "donors <- read.csv(\"donors.csv\")\n",
    "\n",
    "# Convert the wealth rating to a factor\n",
    "donors$wealth_rating <- factor(donors$wealth_rating, levels = c(0,1,2,3), labels = c(\"Unknown\",\"Low\",\"Medium\",\"High\"))\n",
    "\n",
    "# Use relevel() to change reference category\n",
    "donors$wealth_rating <- relevel(donors$wealth_rating, ref = \"Medium\")\n",
    "\n",
    "# See how our factor coding impacts the model\n",
    "summary(glm(donated ~ wealth_rating, data = donors, family = \"binomial\"))"
   ]
  },
  {
   "cell_type": "markdown",
   "metadata": {},
   "source": [
    "#### Handling missing data"
   ]
  },
  {
   "cell_type": "code",
   "execution_count": 3,
   "metadata": {},
   "outputs": [
    {
     "data": {
      "text/plain": [
       "   Min. 1st Qu.  Median    Mean 3rd Qu.    Max.    NA's \n",
       "   1.00   48.00   62.00   61.65   75.00   98.00   22546 "
      ]
     },
     "metadata": {},
     "output_type": "display_data"
    }
   ],
   "source": [
    "# Find the average age among non-missing values\n",
    "summary(donors$age)\n",
    "\n",
    "# Impute missing age values with mean(age)\n",
    "donors$imputed_age <- ifelse(is.na(donors$age), mean(donors$age, na.rm = TRUE), donors$age)\n",
    "\n",
    "# Create missing value indicator for age\n",
    "donors$missing_age <- ifelse(is.na(donors$age), 1, 0)"
   ]
  },
  {
   "cell_type": "markdown",
   "metadata": {},
   "source": [
    "#### Building a more sophisticated model"
   ]
  },
  {
   "cell_type": "code",
   "execution_count": 4,
   "metadata": {},
   "outputs": [
    {
     "data": {
      "text/plain": [
       "\n",
       "Call:\n",
       "glm(formula = donated ~ money + recency * frequency, family = \"binomial\", \n",
       "    data = donors)\n",
       "\n",
       "Deviance Residuals: \n",
       "    Min       1Q   Median       3Q      Max  \n",
       "-0.3696  -0.3696  -0.2895  -0.2895   2.7924  \n",
       "\n",
       "Coefficients:\n",
       "                                  Estimate Std. Error z value Pr(>|z|)    \n",
       "(Intercept)                       -3.01142    0.04279 -70.375   <2e-16 ***\n",
       "moneyMEDIUM                        0.36186    0.04300   8.415   <2e-16 ***\n",
       "recencyLAPSED                     -0.86677    0.41434  -2.092   0.0364 *  \n",
       "frequencyINFREQUENT               -0.50148    0.03107 -16.143   <2e-16 ***\n",
       "recencyLAPSED:frequencyINFREQUENT  1.01787    0.51713   1.968   0.0490 *  \n",
       "---\n",
       "Signif. codes:  0 '***' 0.001 '**' 0.01 '*' 0.05 '.' 0.1 ' ' 1\n",
       "\n",
       "(Dispersion parameter for binomial family taken to be 1)\n",
       "\n",
       "    Null deviance: 37330  on 93461  degrees of freedom\n",
       "Residual deviance: 36938  on 93457  degrees of freedom\n",
       "AIC: 36948\n",
       "\n",
       "Number of Fisher Scoring iterations: 6\n"
      ]
     },
     "metadata": {},
     "output_type": "display_data"
    },
    {
     "data": {
      "text/html": [
       "0.578489371262516"
      ],
      "text/latex": [
       "0.578489371262516"
      ],
      "text/markdown": [
       "0.578489371262516"
      ],
      "text/plain": [
       "Area under the curve: 0.5785"
      ]
     },
     "metadata": {},
     "output_type": "display_data"
    },
    {
     "data": {
      "image/png": "[encoded data removed]",
      "text/plain": [
       "plot without title"
      ]
     },
     "metadata": {},
     "output_type": "display_data"
    }
   ],
   "source": [
    "donors <- read.csv(\"donors.csv\")\n",
    "\n",
    "# Build a recency, frequency, and money (RFM) model\n",
    "rfm_model <- glm(donated ~ money + recency * frequency, data = donors, family = \"binomial\")\n",
    "\n",
    "# Summarize the RFM model to see how the parameters were coded\n",
    "summary(rfm_model)\n",
    "\n",
    "# Compute predicted probabilities for the RFM model\n",
    "rfm_prob <- predict(rfm_model, donors, type = \"response\")\n",
    "\n",
    "# Plot the ROC curve and find AUC for the new model\n",
    "library(pROC)\n",
    "ROC <- roc(donors$donated, rfm_prob)\n",
    "plot(ROC, col = \"red\")\n",
    "auc(ROC)"
   ]
  },
  {
   "cell_type": "markdown",
   "metadata": {},
   "source": [
    "#### Building a stepwise regression model"
   ]
  },
  {
   "cell_type": "code",
   "execution_count": 5,
   "metadata": {},
   "outputs": [
    {
     "name": "stdout",
     "output_type": "stream",
     "text": [
      "Start:  AIC=37332.13\n",
      "donated ~ 1\n",
      "\n"
     ]
    },
    {
     "name": "stderr",
     "output_type": "stream",
     "text": [
      "Warning message in add1.glm(fit, scope$add, scale = scale, trace = trace, k = k, :\n",
      "\"using the 70916/93462 rows from a combined fit\""
     ]
    },
    {
     "name": "stdout",
     "output_type": "stream",
     "text": [
      "                    Df Deviance   AIC\n",
      "+ frequency          1    28502 37122\n",
      "+ money              1    28621 37241\n",
      "+ wealth_rating      1    28705 37326\n",
      "+ has_children       1    28705 37326\n",
      "+ age                1    28707 37328\n",
      "+ interest_veterans  1    28709 37330\n",
      "+ catalog_shopper    1    28710 37330\n",
      "+ pet_owner          1    28711 37331\n",
      "<none>                    28714 37332\n",
      "+ interest_religion  1    28712 37333\n",
      "+ recency            1    28713 37333\n",
      "+ bad_address        1    28714 37334\n",
      "+ veteran            1    28714 37334\n",
      "\n",
      "Step:  AIC=37024.77\n",
      "donated ~ frequency\n",
      "\n"
     ]
    },
    {
     "name": "stderr",
     "output_type": "stream",
     "text": [
      "Warning message in add1.glm(fit, scope$add, scale = scale, trace = trace, k = k, :\n",
      "\"using the 70916/93462 rows from a combined fit\""
     ]
    },
    {
     "name": "stdout",
     "output_type": "stream",
     "text": [
      "                    Df Deviance   AIC\n",
      "+ money              1    28441 36966\n",
      "+ wealth_rating      1    28493 37018\n",
      "+ has_children       1    28494 37019\n",
      "+ interest_veterans  1    28498 37023\n",
      "+ catalog_shopper    1    28499 37024\n",
      "+ age                1    28499 37024\n",
      "+ pet_owner          1    28499 37024\n",
      "<none>                    28502 37025\n",
      "+ interest_religion  1    28501 37026\n",
      "+ recency            1    28501 37026\n",
      "+ bad_address        1    28502 37026\n",
      "+ veteran            1    28502 37027\n",
      "\n",
      "Step:  AIC=36949.71\n",
      "donated ~ frequency + money\n",
      "\n"
     ]
    },
    {
     "name": "stderr",
     "output_type": "stream",
     "text": [
      "Warning message in add1.glm(fit, scope$add, scale = scale, trace = trace, k = k, :\n",
      "\"using the 70916/93462 rows from a combined fit\""
     ]
    },
    {
     "name": "stdout",
     "output_type": "stream",
     "text": [
      "                    Df Deviance   AIC\n",
      "+ wealth_rating      1    28431 36942\n",
      "+ has_children       1    28432 36943\n",
      "+ interest_veterans  1    28438 36948\n",
      "+ catalog_shopper    1    28438 36949\n",
      "+ age                1    28439 36949\n",
      "+ pet_owner          1    28439 36949\n",
      "<none>                    28441 36950\n",
      "+ interest_religion  1    28440 36951\n",
      "+ recency            1    28441 36951\n",
      "+ bad_address        1    28441 36951\n",
      "+ veteran            1    28441 36952\n",
      "\n",
      "Step:  AIC=36945.26\n",
      "donated ~ frequency + money + wealth_rating\n",
      "\n"
     ]
    },
    {
     "name": "stderr",
     "output_type": "stream",
     "text": [
      "Warning message in add1.glm(fit, scope$add, scale = scale, trace = trace, k = k, :\n",
      "\"using the 70916/93462 rows from a combined fit\""
     ]
    },
    {
     "name": "stdout",
     "output_type": "stream",
     "text": [
      "                    Df Deviance   AIC\n",
      "+ has_children       1    28421 36937\n",
      "+ interest_veterans  1    28429 36945\n",
      "+ catalog_shopper    1    28429 36945\n",
      "+ age                1    28429 36945\n",
      "<none>                    28431 36945\n",
      "+ pet_owner          1    28430 36945\n",
      "+ interest_religion  1    28431 36947\n",
      "+ recency            1    28431 36947\n",
      "+ bad_address        1    28431 36947\n",
      "+ veteran            1    28431 36947\n",
      "\n",
      "Step:  AIC=36938.08\n",
      "donated ~ frequency + money + wealth_rating + has_children\n",
      "\n"
     ]
    },
    {
     "name": "stderr",
     "output_type": "stream",
     "text": [
      "Warning message in add1.glm(fit, scope$add, scale = scale, trace = trace, k = k, :\n",
      "\"using the 70916/93462 rows from a combined fit\""
     ]
    },
    {
     "name": "stdout",
     "output_type": "stream",
     "text": [
      "                    Df Deviance   AIC\n",
      "+ pet_owner          1    28418 36937\n",
      "+ catalog_shopper    1    28418 36937\n",
      "+ interest_veterans  1    28418 36937\n",
      "<none>                    28421 36938\n",
      "+ interest_religion  1    28420 36939\n",
      "+ recency            1    28421 36940\n",
      "+ age                1    28421 36940\n",
      "+ bad_address        1    28421 36940\n",
      "+ veteran            1    28421 36940\n",
      "\n",
      "Step:  AIC=36932.08\n",
      "donated ~ frequency + money + wealth_rating + has_children + \n",
      "    pet_owner\n",
      "\n"
     ]
    },
    {
     "name": "stderr",
     "output_type": "stream",
     "text": [
      "Warning message in add1.glm(fit, scope$add, scale = scale, trace = trace, k = k, :\n",
      "\"using the 70916/93462 rows from a combined fit\""
     ]
    },
    {
     "name": "stdout",
     "output_type": "stream",
     "text": [
      "                    Df Deviance   AIC\n",
      "<none>                    28418 36932\n",
      "+ interest_veterans  1    28416 36932\n",
      "+ catalog_shopper    1    28416 36932\n",
      "+ age                1    28417 36933\n",
      "+ recency            1    28417 36934\n",
      "+ interest_religion  1    28417 36934\n",
      "+ bad_address        1    28418 36934\n",
      "+ veteran            1    28418 36934\n"
     ]
    },
    {
     "data": {
      "text/html": [
       "0.585470794088965"
      ],
      "text/latex": [
       "0.585470794088965"
      ],
      "text/markdown": [
       "0.585470794088965"
      ],
      "text/plain": [
       "Area under the curve: 0.5855"
      ]
     },
     "metadata": {},
     "output_type": "display_data"
    },
    {
     "data": {
      "image/png": "[encoded data removed]",
      "text/plain": [
       "plot without title"
      ]
     },
     "metadata": {},
     "output_type": "display_data"
    }
   ],
   "source": [
    "donors <- read.csv(\"donors.csv\")\n",
    "\n",
    "# Specify a null model with no predictors\n",
    "null_model <- glm(donated ~ 1, data = donors, family = \"binomial\")\n",
    "\n",
    "# Specify the full model using all of the potential predictors\n",
    "full_model <- glm(donated ~ ., data = donors, family = \"binomial\")\n",
    "\n",
    "# Use a forward stepwise algorithm to build a parsimonious model\n",
    "step_model <- step(null_model, scope = list(lower = null_model, upper = full_model), direction = \"forward\")\n",
    "\n",
    "# Estimate the stepwise donation probability\n",
    "step_prob <- predict(step_model, type = \"response\")\n",
    "\n",
    "# Plot the ROC of the stepwise model\n",
    "library(pROC)\n",
    "ROC <- roc(donors$donated, step_prob)\n",
    "plot(ROC, col = \"red\")\n",
    "auc(ROC)"
   ]
  },
  {
   "cell_type": "markdown",
   "metadata": {},
   "source": [
    "## <font color = blue>Chapter 4: Classification Trees</font>"
   ]
  },
  {
   "cell_type": "markdown",
   "metadata": {},
   "source": [
    "#### Building a simple decision tree"
   ]
  },
  {
   "cell_type": "code",
   "execution_count": 51,
   "metadata": {},
   "outputs": [
    {
     "data": {
      "text/html": [
       "<table>\n",
       "<thead><tr><th></th><th scope=col>0</th><th scope=col>1</th></tr></thead>\n",
       "<tbody>\n",
       "\t<tr><th scope=row>1</th><td>0.6701427</td><td>0.3298573</td></tr>\n",
       "</tbody>\n",
       "</table>\n"
      ],
      "text/latex": [
       "\\begin{tabular}{r|ll}\n",
       "  & 0 & 1\\\\\n",
       "\\hline\n",
       "\t1 & 0.6701427 & 0.3298573\\\\\n",
       "\\end{tabular}\n"
      ],
      "text/markdown": [
       "\n",
       "| <!--/--> | 0 | 1 | \n",
       "|---|\n",
       "| 1 | 0.6701427 | 0.3298573 | \n",
       "\n",
       "\n"
      ],
      "text/plain": [
       "  0         1        \n",
       "1 0.6701427 0.3298573"
      ]
     },
     "metadata": {},
     "output_type": "display_data"
    },
    {
     "data": {
      "text/html": [
       "<strong>1:</strong> 0"
      ],
      "text/latex": [
       "\\textbf{1:} 0"
      ],
      "text/markdown": [
       "**1:** 0"
      ],
      "text/plain": [
       "1 \n",
       "0 \n",
       "Levels: 0 1"
      ]
     },
     "metadata": {},
     "output_type": "display_data"
    },
    {
     "data": {
      "text/html": [
       "<table>\n",
       "<thead><tr><th></th><th scope=col>0</th><th scope=col>1</th></tr></thead>\n",
       "<tbody>\n",
       "\t<tr><th scope=row>1</th><td>0.4364887</td><td>0.5635113</td></tr>\n",
       "</tbody>\n",
       "</table>\n"
      ],
      "text/latex": [
       "\\begin{tabular}{r|ll}\n",
       "  & 0 & 1\\\\\n",
       "\\hline\n",
       "\t1 & 0.4364887 & 0.5635113\\\\\n",
       "\\end{tabular}\n"
      ],
      "text/markdown": [
       "\n",
       "| <!--/--> | 0 | 1 | \n",
       "|---|\n",
       "| 1 | 0.4364887 | 0.5635113 | \n",
       "\n",
       "\n"
      ],
      "text/plain": [
       "  0         1        \n",
       "1 0.4364887 0.5635113"
      ]
     },
     "metadata": {},
     "output_type": "display_data"
    },
    {
     "data": {
      "text/html": [
       "<strong>1:</strong> 1"
      ],
      "text/latex": [
       "\\textbf{1:} 1"
      ],
      "text/markdown": [
       "**1:** 1"
      ],
      "text/plain": [
       "1 \n",
       "1 \n",
       "Levels: 0 1"
      ]
     },
     "metadata": {},
     "output_type": "display_data"
    }
   ],
   "source": [
    "loans <- read.csv(\"loans.csv\", header = TRUE, sep = \",\") %>% filter(keep ==1)\n",
    "good_credit <- loans %>% filter(loan_amount == \"LOW\" & credit_score == \"HIGH\") %>% select(-default) %>% filter(row_number() == 1)\n",
    "bad_credit <- loans %>% filter(loan_amount == \"HIGH\" & credit_score == \"AVERAGE\") %>% select(-default) %>% filter(row_number() == 1)\n",
    "\n",
    "# Load the rpart package\n",
    "\n",
    "# Build a lending model predicting loan outcome versus loan amount and credit score\n",
    "loan_model <- rpart(default ~ loan_amount + credit_score, data = loans, \n",
    "                    method = \"class\", control = rpart.control(cp = 0))\n",
    "# Make a prediction for someone with good credit\n",
    "predict(loan_model, good_credit, type = \"prob\")\n",
    "predict(loan_model, good_credit, type = \"class\")\n",
    "\n",
    "# Make a prediction for someone with bad credit\n",
    "predict(loan_model, bad_credit, type = \"prob\")\n",
    "predict(loan_model, bad_credit, type = \"class\")"
   ]
  },
  {
   "cell_type": "markdown",
   "metadata": {},
   "source": [
    "#### Visualizing classification trees"
   ]
  },
  {
   "cell_type": "code",
   "execution_count": 52,
   "metadata": {},
   "outputs": [
    {
     "data": {
      "text/plain": [
       "n= 11312 \n",
       "\n",
       "node), split, n, loss, yval, (yprob)\n",
       "      * denotes terminal node\n",
       "\n",
       " 1) root 11312 5654 0 (0.5001768 0.4998232)  \n",
       "   2) credit_score=HIGH 1822  601 0 (0.6701427 0.3298573) *\n",
       "   3) credit_score=AVERAGE,LOW 9490 4437 1 (0.4675448 0.5324552)  \n",
       "     6) credit_score=AVERAGE 7823 3806 1 (0.4865141 0.5134859)  \n",
       "      12) loan_amount=LOW,MEDIUM 5351 2624 0 (0.5096244 0.4903756)  \n",
       "        24) loan_amount=MEDIUM 3541 1688 0 (0.5232985 0.4767015) *\n",
       "        25) loan_amount=LOW 1810  874 1 (0.4828729 0.5171271) *\n",
       "      13) loan_amount=HIGH 2472 1079 1 (0.4364887 0.5635113) *\n",
       "     7) credit_score=LOW 1667  631 1 (0.3785243 0.6214757) *"
      ]
     },
     "metadata": {},
     "output_type": "display_data"
    },
    {
     "data": {
      "image/png": "[encoded data removed]",
      "text/plain": [
       "plot without title"
      ]
     },
     "metadata": {},
     "output_type": "display_data"
    },
    {
     "data": {
      "image/png": "[encoded data removed]",
      "text/plain": [
       "plot without title"
      ]
     },
     "metadata": {},
     "output_type": "display_data"
    }
   ],
   "source": [
    "# Examine the loan_model object\n",
    "loan_model\n",
    "\n",
    "# Load the rpart.plot package\n",
    "\n",
    "# Plot the loan_model with default settings\n",
    "rpart.plot(loan_model)\n",
    "\n",
    "# Plot the loan_model with customized settings\n",
    "rpart.plot(loan_model, type = 3, box.palette = c(\"red\", \"green\"), fallen.leaves = TRUE)"
   ]
  },
  {
   "cell_type": "code",
   "execution_count": 21,
   "metadata": {},
   "outputs": [],
   "source": [
    "loans <- read.csv(\"loans.csv\", header = TRUE, sep = \",\") %>% filter(keep ==1)\n",
    "\n",
    "# Create a random sample of row IDs\n",
    "sample_rows <- sample(nrow(loans), nrow(loans) * 0.75)\n",
    "\n",
    "# Create the training dataset\n",
    "loans_train <- loans[sample_rows,]\n",
    "\n",
    "# Create the test dataset\n",
    "loans_test <- loans[-sample_rows,]"
   ]
  },
  {
   "cell_type": "markdown",
   "metadata": {},
   "source": [
    "#### Building and evaluating a larger tree"
   ]
  },
  {
   "cell_type": "code",
   "execution_count": 22,
   "metadata": {},
   "outputs": [
    {
     "data": {
      "text/plain": [
       "   \n",
       "       0    1\n",
       "  0 1340   74\n",
       "  1  235 1179"
      ]
     },
     "metadata": {},
     "output_type": "display_data"
    },
    {
     "data": {
      "text/html": [
       "0.890735502121641"
      ],
      "text/latex": [
       "0.890735502121641"
      ],
      "text/markdown": [
       "0.890735502121641"
      ],
      "text/plain": [
       "[1] 0.8907355"
      ]
     },
     "metadata": {},
     "output_type": "display_data"
    }
   ],
   "source": [
    "# The 'rpart' package is loaded into the workspace\n",
    "# The loans_train and loans_test datasets have been created\n",
    "\n",
    "# Grow a tree using all of the available applicant data\n",
    "loan_model <- rpart(default ~ ., data = loans_train, method = \"class\", control = rpart.control(cp = 0))\n",
    "\n",
    "# Make predictions on the test dataset\n",
    "loans_test$pred <- predict(loan_model, newdata = loans_test, type = \"class\")\n",
    "\n",
    "# Examine the confusion matrix\n",
    "table(loans_test$default, loans_test$pred)\n",
    "\n",
    "# Compute the accuracy on the test dataset\n",
    "mean(loans_test$default == loans_test$pred)"
   ]
  },
  {
   "cell_type": "markdown",
   "metadata": {},
   "source": [
    "#### Preventing overgrown trees"
   ]
  },
  {
   "cell_type": "code",
   "execution_count": 23,
   "metadata": {},
   "outputs": [
    {
     "data": {
      "text/html": [
       "0.907001414427157"
      ],
      "text/latex": [
       "0.907001414427157"
      ],
      "text/markdown": [
       "0.907001414427157"
      ],
      "text/plain": [
       "[1] 0.9070014"
      ]
     },
     "metadata": {},
     "output_type": "display_data"
    },
    {
     "data": {
      "text/html": [
       "0.910891089108911"
      ],
      "text/latex": [
       "0.910891089108911"
      ],
      "text/markdown": [
       "0.910891089108911"
      ],
      "text/plain": [
       "[1] 0.9108911"
      ]
     },
     "metadata": {},
     "output_type": "display_data"
    }
   ],
   "source": [
    "# The 'rpart' package is loaded into the workspace\n",
    "\n",
    "# Grow a tree with maxdepth of 6\n",
    "loan_model <- rpart(default ~ ., data = loans_train, method = \"class\", control = rpart.control(cp = 0, maxdepth = 6))\n",
    "\n",
    "# Compute the accuracy of the simpler tree\n",
    "loans_test$pred <- predict(loan_model, newdata = loans_test, type = \"class\")\n",
    "mean(loans_test$pred == loans_test$default)\n",
    "\n",
    "# Grow a tree with minsplit of 500\n",
    "loan_model2 <- rpart(default ~ ., data = loans_train, method = \"class\", control = rpart.control(cp = 0, minsplit = 500))\n",
    " \n",
    "\n",
    "# Compute the accuracy of the simpler tree\n",
    "loans_test$pred2 <- predict(loan_model2, newdata = loans_test, type = \"class\")\n",
    "mean(loans_test$pred2 == loans_test$default)"
   ]
  },
  {
   "cell_type": "markdown",
   "metadata": {},
   "source": [
    "#### Creating a nicely pruned tree"
   ]
  },
  {
   "cell_type": "code",
   "execution_count": 24,
   "metadata": {},
   "outputs": [
    {
     "data": {
      "text/html": [
       "0.910891089108911"
      ],
      "text/latex": [
       "0.910891089108911"
      ],
      "text/markdown": [
       "0.910891089108911"
      ],
      "text/plain": [
       "[1] 0.9108911"
      ]
     },
     "metadata": {},
     "output_type": "display_data"
    },
    {
     "data": {
      "image/png": "[encoded data removed]",
      "text/plain": [
       "plot without title"
      ]
     },
     "metadata": {},
     "output_type": "display_data"
    }
   ],
   "source": [
    "# The 'rpart' package is loaded into the workspace\n",
    "\n",
    "# Grow an overly complex tree\n",
    "loan_model <- rpart(default ~ ., data = loans_train, method = \"class\", control = rpart.control(cp = 0))\n",
    "\n",
    "# Examine the complexity plot\n",
    "plotcp(loan_model)\n",
    "\n",
    "# Prune the tree\n",
    "loan_model_pruned <- prune(loan_model, cp = 0.0014)\n",
    "\n",
    "# Compute the accuracy of the pruned tree\n",
    "loans_test$pred <- predict(loan_model_pruned, newdata = loans_test, type = \"class\")\n",
    "mean(loans_test$pred == loans_test$default)"
   ]
  },
  {
   "cell_type": "markdown",
   "metadata": {},
   "source": [
    "#### Building a random forest model"
   ]
  },
  {
   "cell_type": "code",
   "execution_count": 25,
   "metadata": {},
   "outputs": [
    {
     "data": {
      "text/html": [
       "0"
      ],
      "text/latex": [
       "0"
      ],
      "text/markdown": [
       "0"
      ],
      "text/plain": [
       "[1] 0"
      ]
     },
     "metadata": {},
     "output_type": "display_data"
    }
   ],
   "source": [
    "# Load the randomForest package\n",
    "\n",
    "# Build a random forest model\n",
    "loan_model <- randomForest(loan_amount ~ ., data = loans_train, ntree = 500, mtry = 5)\n",
    "\n",
    "# Compute the accuracy of the random forest\n",
    "loans_test$pred <- predict(loan_model, newdata = loans_test)\n",
    "mean(loans_test$pred == loans_test$default)"
   ]
  }
 ],
 "metadata": {
  "hide_code_all_hidden": false,
  "kernelspec": {
   "display_name": "R 3.4.2",
   "language": "R",
   "name": "ir342"
  },
  "language_info": {
   "codemirror_mode": "r",
   "file_extension": ".r",
   "mimetype": "text/x-r-source",
   "name": "R",
   "pygments_lexer": "r",
   "version": "3.4.2"
  }
 },
 "nbformat": 4,
 "nbformat_minor": 2
}
