{
 "cells": [
  {
   "cell_type": "markdown",
   "metadata": {
    "dc": {
     "key": "4"
    },
    "deletable": false,
    "editable": false,
    "run_control": {
     "frozen": true
    },
    "tags": [
     "context"
    ]
   },
   "source": [
    "## 1. Introduction\n",
    "<p>In the world of Pokémon academia, one name towers above any other – Professor Samuel Oak. While his colleague Professor Elm specializes in Pokémon evolution, Oak has dedicated his career to understanding the relationship between Pokémon and their human trainers. A former trainer himself, the professor has first-hand experience of how obstinate Pokémon can be – particularly when they hold legendary status.</p>\n",
    "<p>For his latest research project, Professor Oak has decided to investigate the defining characteristics of legendary Pokémon to improve our understanding of their temperament. Hearing of our expertise in classification problems, he has enlisted us as the lead researchers.</p>\n",
    "<p>Our journey begins at the professor's research lab in Pallet Town, Kanto. The first step is to open up the Pokédex, an encyclopaedic guide to 801 Pokémon from all seven generations.</p>\n",
    "<p><img src=\"https://assets.datacamp.com/production/project_712/img/legendary_pokemon.jpg\" alt=\"Legendary Pokémon\"></p>\n",
    "<p><em>Source: <a href=\"https://www.flickr.com/photos/bagogames/\">bagogames</a> on Flickr</em></p>"
   ]
  },
  {
   "cell_type": "code",
   "execution_count": 0,
   "metadata": {
    "dc": {
     "key": "4"
    },
    "tags": [
     "sample_code"
    ]
   },
   "outputs": [],
   "source": [
    "# Load the tidyverse\n",
    "# .... YOUR CODE FOR TASK 1 ....\n",
    "\n",
    "# Import the dataset and convert variables\n",
    "pokedex <- read_csv(\"datasets/pokedex.csv\", \n",
    "                    col_types = cols(name = col_factor(), \n",
    "                                     type = ....,\n",
    "                                     is_legendary = ....))\n",
    "\n",
    "# Look at the first six rows\n",
    "head(....)\n",
    "\n",
    "# Examine the structure\n",
    "str(....)"
   ]
  },
  {
   "cell_type": "code",
   "execution_count": 0,
   "metadata": {
    "dc": {
     "key": "4"
    },
    "hide": true,
    "tags": [
     "tests"
    ]
   },
   "outputs": [],
   "source": [
    "library(testthat)\n",
    "library(IRkernel.testthat)\n",
    "\n",
    "soln_pokedex <- read_csv(\"datasets/pokedex.csv\", \n",
    "                         col_types = cols(name = col_factor(), \n",
    "                                          type = col_factor(),\n",
    "                                          is_legendary = col_factor()))\n",
    "\n",
    "run_tests({\n",
    "    \n",
    "    test_that(\"packages are loaded\", {\n",
    "        expect_true(\"tidyverse\" %in% .packages(), info = \"Did you load the `tidyverse` package?\")\n",
    "    })\n",
    "    \n",
    "    test_that(\"data is loaded and formatted correctly\", {\n",
    "        expect_equal(pokedex, soln_pokedex,\n",
    "                         info = \"Did you convert `type` and `is_legendary` to factors using `col_factor()`?\")\n",
    "    })\n",
    "    \n",
    "})"
   ]
  },
  {
   "cell_type": "markdown",
   "metadata": {
    "dc": {
     "key": "12"
    },
    "deletable": false,
    "editable": false,
    "run_control": {
     "frozen": true
    },
    "tags": [
     "context"
    ]
   },
   "source": [
    "## 2. How many Pokémon are legendary?\n",
    "<p>After browsing the Pokédex, we can see several variables that could feasibly explain what makes a Pokémon legendary. We have a series of numerical fighter stats – <code>attack</code>, <code>defense</code>, <code>speed</code> and so on – as well as a categorization of Pokemon <code>type</code> (bug, dark, dragon, etc.). <code>is_legendary</code> is the binary classification variable we will eventually be predicting, tagged <code>1</code> if a Pokémon is legendary and <code>0</code> if it is not.</p>\n",
    "<p>Before we explore these variables in any depth, let's find out how many Pokémon are legendary out of the 801 total, using the handy <code>count()</code> function from the <code>dplyr</code> package.</p>"
   ]
  },
  {
   "cell_type": "code",
   "execution_count": 0,
   "metadata": {
    "dc": {
     "key": "12"
    },
    "tags": [
     "sample_code"
    ]
   },
   "outputs": [],
   "source": [
    "# Prepare the data\n",
    "legendary_pokemon <- pokedex %>% \n",
    "  count(....) %>% \n",
    "  mutate(prop = n / ....)\n",
    "\n",
    "# Print the data frame\n",
    "# .... YOUR CODE FOR TASK 2 ...."
   ]
  },
  {
   "cell_type": "code",
   "execution_count": 0,
   "metadata": {
    "dc": {
     "key": "12"
    },
    "hide": true,
    "tags": [
     "tests"
    ]
   },
   "outputs": [],
   "source": [
    "soln_legendary_pokemon <- soln_pokedex %>% \n",
    "  count(is_legendary) %>% \n",
    "  mutate(prop = n / nrow(soln_pokedex))\n",
    "\n",
    "run_tests({\n",
    "    \n",
    "    test_that(\"data is prepared correctly\", {\n",
    "        \n",
    "        expect_equal(colnames(legendary_pokemon)[1], colnames(soln_legendary_pokemon)[1],\n",
    "                         info = \"Did you pass `is_legendary` to the `count()` function?\")\n",
    "        \n",
    "        expect_equal(legendary_pokemon[3], soln_legendary_pokemon[3],\n",
    "                     info = \"Did you divide `n` by `nrow(pokedex)`?\")\n",
    "    \n",
    "  })\n",
    "  \n",
    "})"
   ]
  },
  {
   "cell_type": "markdown",
   "metadata": {
    "dc": {
     "key": "19"
    },
    "deletable": false,
    "editable": false,
    "run_control": {
     "frozen": true
    },
    "tags": [
     "context"
    ]
   },
   "source": [
    "## 3. Legendary Pokémon by height and weight\n",
    "<p>We now know that there are 70 legendary Pokémon – a sizable minority at 9% of the population! Let's start to explore some of their distinguishing characteristics.</p>\n",
    "<p>First of all, we'll plot the relationship between <code>height_m</code> and <code>weight_kg</code> for all 801 Pokémon, highlighting those that are classified as legendary. We'll also add conditional labels to the plot, which will only print a Pokémon's name if it is taller than 7.5m or heavier than 600kg.</p>"
   ]
  },
  {
   "cell_type": "code",
   "execution_count": 0,
   "metadata": {
    "dc": {
     "key": "19"
    },
    "tags": [
     "sample_code"
    ]
   },
   "outputs": [],
   "source": [
    "# Prepare the plot\n",
    "legend_by_heightweight_plot <- pokedex %>% \n",
    "  ggplot(aes(....)) +\n",
    "  geom_point(aes(....), size = 2) +\n",
    "  geom_text(aes(label = ifelse(...., as.character(name), '')), \n",
    "            vjust = 0, hjust = 0) +\n",
    "  geom_smooth(method = \"lm\", se = FALSE, col = \"black\", linetype = \"dashed\") +\n",
    "  expand_limits(....) +\n",
    "  labs(title = \"Legendary Pokemon by height and weight\",\n",
    "       x = \"Height (m)\",\n",
    "       y = \"Weight (kg)\") +\n",
    "  guides(color = guide_legend(title = \"Pokémon status\")) +\n",
    "  scale_color_manual(labels = c(\"Non-Legendary\", \"Legendary\"),\n",
    "                     values = c(\"#F8766D\", \"#00BFC4\"))\n",
    "\n",
    "# Print the plot\n",
    "legend_by_heightweight_plot"
   ]
  },
  {
   "cell_type": "code",
   "execution_count": 0,
   "metadata": {
    "dc": {
     "key": "19"
    },
    "hide": true,
    "tags": [
     "tests"
    ]
   },
   "outputs": [],
   "source": [
    "soln_legend_by_heightweight_plot <- soln_pokedex %>% \n",
    "  ggplot(aes(x = height_m, y = weight_kg)) +\n",
    "  geom_point(aes(color = is_legendary), size = 2) +\n",
    "  geom_text(aes(label = ifelse(height_m > 7.5|weight_kg > 600, as.character(name), '')), vjust = 0, hjust = 0) +\n",
    "  geom_smooth(method = \"lm\", se = FALSE, col = \"black\", linetype = \"dashed\") +\n",
    "  expand_limits(x = 16) +\n",
    "  labs(title = \"Legendary Pokemon by height and weight\",\n",
    "       x = \"Height (m)\",\n",
    "       y = \"Weight (kg)\") +\n",
    "  guides(color = guide_legend(title = \"Pokemon status\")) +\n",
    "  scale_color_manual(labels = c(\"Non-Legendary\", \"Legendary\"),\n",
    "                     values = c(\"#F8766D\", \"#00BFC4\"))\n",
    "run_tests({\n",
    "  \n",
    "  test_that(\"the mappings are correct\", {\n",
    "\n",
    "        expect_equal(deparse(legend_by_heightweight_plot$mapping$x),\n",
    "                         deparse(soln_legend_by_heightweight_plot$mapping$x),\n",
    "                         info = 'The `x` aesthetic is incorrect. Did you map it to `height_m`?')\n",
    "\n",
    "        expect_equal(deparse(legend_by_heightweight_plot$mapping$y),\n",
    "                         deparse(soln_legend_by_heightweight_plot$mapping$y),\n",
    "                         info = 'The `y` aesthetic is incorrect. Did you map it to `weight_kg`?')\n",
    "\n",
    "        expect_equal(legend_by_heightweight_plot$layers[[1]]$mapping,\n",
    "                         soln_legend_by_heightweight_plot$layers[[1]]$mapping,\n",
    "                         info = \"The `col` aesthetic in `geom_point()` is incorrect. Did you map it to `is_legendary`?\")\n",
    "    \n",
    "  })\n",
    "  \n",
    "  test_that(\"the conditional labels are correct\", {\n",
    "    \n",
    "        expect_true(str_detect(legend_by_heightweight_plot$labels$label, \"height_m > 7.5\"),\n",
    "                     info = \"The conditional labels are incorrect. Did you specify that `height_m` should be greater than `7.5` in the first argument of the `ifelse()` function?\")\n",
    "\n",
    "        expect_true(str_detect(legend_by_heightweight_plot$labels$label, \"weight_kg > 600\"),\n",
    "                    info = \"The conditional labels are incorrect. Did you specify that `weight_kg` should be greater than `600` in the first argument of the `ifelse()` function?\")\n",
    "\n",
    "        expect_true(str_detect(legend_by_heightweight_plot$labels$label, \"\\\\|\"),\n",
    "                    info = \"The conditional labels are incorrect. Did you remember to use the conditional 'OR' operator (|)?\")\n",
    "    \n",
    "  })\n",
    "    \n",
    "    test_that(\"the plot limits are correct\", {\n",
    "        \n",
    "        expect_equal(ggplot_build(legend_by_heightweight_plot)$data[[4]],\n",
    "                         ggplot_build(soln_legend_by_heightweight_plot)$data[[4]],\n",
    "                         info = \"The plot limits are incorrect. Did you expand the limit of the `x`-axis to 16?\")\n",
    "        \n",
    "    })\n",
    "  \n",
    "})"
   ]
  },
  {
   "cell_type": "markdown",
   "metadata": {
    "dc": {
     "key": "26"
    },
    "deletable": false,
    "editable": false,
    "run_control": {
     "frozen": true
    },
    "tags": [
     "context"
    ]
   },
   "source": [
    "## 4. Legendary Pokémon by type\n",
    "<p>It seems that legendary Pokémon are generally heavier and taller, but with many exceptions. For example, Onix (Gen 1), Steelix (Gen 2) and Wailord (Gen 3) are all extremely tall, but none of them have legendary status. There must be other factors at play.</p>\n",
    "<p>We will now look at the effect of a Pokémon's <code>type</code> on its legendary/non-legendary classification. There are 18 possible types, ranging from the common (Grass / Normal / Water) to the rare (Fairy / Flying / Ice). We will calculate the proportion of legendary Pokémon within each category, and then plot these proportions using a simple bar chart.</p>"
   ]
  },
  {
   "cell_type": "code",
   "execution_count": 0,
   "metadata": {
    "dc": {
     "key": "26"
    },
    "tags": [
     "sample_code"
    ]
   },
   "outputs": [],
   "source": [
    "# Prepare the data\n",
    "legend_by_type <- pokedex %>% \n",
    "    # .... YOUR CODE FOR TASK 4 ....\n",
    "    mutate(is_legendary = as.numeric(is_legendary) - 1) %>% \n",
    "    summarise(prop_legendary = ....) %>% \n",
    "    ungroup() %>% \n",
    "    mutate(type = fct_reorder(....))\n",
    "\n",
    "# Prepare the plot\n",
    "legend_by_type_plot <- legend_by_type %>% \n",
    "    ggplot(aes(x = type, ....)) + \n",
    "    geom_col() +\n",
    "    labs(title = \"Legendary Pokemon by type\") +\n",
    "    coord_flip() +\n",
    "    guides(fill = FALSE)\n",
    "\n",
    "# Print the plot\n",
    "legend_by_type_plot"
   ]
  },
  {
   "cell_type": "code",
   "execution_count": 0,
   "metadata": {
    "dc": {
     "key": "26"
    },
    "hide": true,
    "tags": [
     "tests"
    ]
   },
   "outputs": [],
   "source": [
    "soln_legend_by_type <- soln_pokedex %>% \n",
    "    group_by(type) %>% \n",
    "    mutate(is_legendary = as.numeric(is_legendary) - 1) %>% \n",
    "    summarise(prop_legendary = mean(is_legendary)) %>% \n",
    "    ungroup() %>% \n",
    "    mutate(type = fct_reorder(type, prop_legendary))\n",
    "\n",
    "soln_legend_by_type_plot <- soln_legend_by_type %>% \n",
    "    ggplot(aes(x = type, y = prop_legendary, fill = prop_legendary)) + \n",
    "    geom_col() +\n",
    "    labs(title = \"Legendary Pokemon by type\") +\n",
    "    coord_flip() +\n",
    "    guides(fill = FALSE)\n",
    "\n",
    "run_tests({\n",
    "  \n",
    "  test_that(\"the data preparation is correct\", {\n",
    "      \n",
    "      expect_equal(group_vars(legend_by_type), group_vars(soln_legend_by_type),\n",
    "                   info = \"Did you group by `type`?\")\n",
    "      \n",
    "      expect_equal(legend_by_type$prop_legendary, soln_legend_by_type$prop_legendary,\n",
    "                   info = \"Did you set `prop_legendary` equal to the mean of `is_legendary`?\")\n",
    "      \n",
    "      expect_equal(legend_by_type$type, soln_legend_by_type$type,\n",
    "                  info = \"Did you the `fct_reorder()` function to order `type` by `prop_legendary`?\")\n",
    "\n",
    "    \n",
    "  })\n",
    "    \n",
    "    test_that(\"the plot preparation is correct\", {\n",
    "        \n",
    "      expect_equal(deparse(legend_by_type_plot$mapping$y),\n",
    "                       deparse(soln_legend_by_type_plot$mapping$y),\n",
    "                       info = 'The `y` aesthetic is incorrect. Did you map it to `prop_legendary`?')\n",
    "        \n",
    "      expect_equal(deparse(legend_by_type_plot$mapping$fill),\n",
    "                       deparse(soln_legend_by_type_plot$mapping$fill),\n",
    "                       info = 'The `fill` aesthetic is incorrect. Did you map it to `prop_legendary`?')\n",
    "    \n",
    "  })\n",
    "  \n",
    "})"
   ]
  },
  {
   "cell_type": "markdown",
   "metadata": {
    "dc": {
     "key": "33"
    },
    "deletable": false,
    "editable": false,
    "run_control": {
     "frozen": true
    },
    "tags": [
     "context"
    ]
   },
   "source": [
    "## 5. Legendary Pokémon by fighter stats\n",
    "<p>There are clear differences between Pokémon types in their relation to legendary status. While more than 30% of flying and psychic Pokémon are legendary, there is no such thing as a legendary poison or fighting Pokémon!</p>\n",
    "<p>Before fitting the model, we will consider the influence of a Pokémon's fighter stats (<code>attack</code>, <code>defense</code>, etc.) on its status. Rather than considering each stat in isolation, we will produce a boxplot for all of them simultaneously using the <code>facet_wrap()</code> function.</p>"
   ]
  },
  {
   "cell_type": "code",
   "execution_count": 0,
   "metadata": {
    "dc": {
     "key": "33"
    },
    "tags": [
     "sample_code"
    ]
   },
   "outputs": [],
   "source": [
    "# Prepare the data\n",
    "legend_by_stats <- pokedex  %>% \n",
    "  ....(is_legendary, attack, sp_attack, defense, sp_defense, hp, speed)  %>% \n",
    "  gather(key = ...., value = ...., -....) \n",
    "\n",
    "# Prepare the plot\n",
    "legend_by_stats_plot <- legend_by_stats %>% \n",
    " ggplot(aes(x = is_legendary, y = value, fill = is_legendary)) +\n",
    " geom_boxplot(varwidth = TRUE) +\n",
    " ....(~....) +\n",
    " labs(title = \"Pokemon fight statistics\",\n",
    "        x = \"Legendary status\") +\n",
    " ....(fill = ....)\n",
    "\n",
    "# Print the plot\n",
    "legend_by_stats_plot"
   ]
  },
  {
   "cell_type": "code",
   "execution_count": 0,
   "metadata": {
    "dc": {
     "key": "33"
    },
    "hide": true,
    "tags": [
     "tests"
    ]
   },
   "outputs": [],
   "source": [
    "soln_legend_by_stats <- soln_pokedex  %>% \n",
    "  select(is_legendary, attack, sp_attack, defense, sp_defense, hp, speed)  %>% \n",
    "  gather(key = \"fght_stats\", value = \"value\", -is_legendary) \n",
    "\n",
    "soln_legend_by_stats_plot <- soln_legend_by_stats %>% \n",
    " ggplot(aes(x = is_legendary, y = value, fill = is_legendary)) +\n",
    " geom_boxplot(varwidth = TRUE) +\n",
    " facet_wrap(~fght_stats) +\n",
    " labs(title = \"Pokemon fight statistics\",\n",
    "        x = \"Legendary status\") +\n",
    " guides(fill = FALSE)\n",
    "\n",
    "run_tests({\n",
    "  \n",
    "  test_that(\"the data preparation is correct\", {\n",
    "      \n",
    "      expect_equal(colnames(legend_by_stats)[1], colnames(soln_legend_by_stats)[1],\n",
    "                       info = \"Did you exclude `is_legendary` from the `gather()` process by placing it after the `-` sign?\")\n",
    "      \n",
    "      expect_equal(colnames(legend_by_stats)[2:3], colnames(soln_legend_by_stats)[2:3],\n",
    "                      info = \"Did you set `\\\"fght_stats\\\"` as the `key` and `\\\"value\\\"` as the `value` when using `gather()`?\")\n",
    "    \n",
    "  })\n",
    "    \n",
    "    test_that(\"the plot preparation is correct\", {\n",
    "        \n",
    "      expect_equal(legend_by_stats_plot$facet$params$facets, soln_legend_by_stats_plot$facet$params$facets,\n",
    "                        info = \"Did you use the `facet_wrap()` function to facet by `fght_stats?`\")\n",
    "        \n",
    "    \n",
    "  })\n",
    "  \n",
    "})"
   ]
  },
  {
   "cell_type": "markdown",
   "metadata": {
    "dc": {
     "key": "40"
    },
    "deletable": false,
    "editable": false,
    "run_control": {
     "frozen": true
    },
    "tags": [
     "context"
    ]
   },
   "source": [
    "## 6. Create a training/test split\n",
    "<p>As we might expect, legendary Pokémon outshine their ordinary counterparts in all fighter stats. Although we haven't formally tested a difference in means, the boxplots suggest a significant difference with respect to all six variables. Nonetheless, there are a number of outliers in each case, meaning that some legendary Pokémon are anomalously weak.</p>\n",
    "<p>We have now explored all of the predictor variables we will use to explain what makes a Pokémon legendary. Before fitting our model, we will split the <code>pokedex</code> into a training set (<code>pokedex_train</code>) and a test set (<code>pokedex_test</code>). This will allow us to test the model on unseen data.</p>"
   ]
  },
  {
   "cell_type": "code",
   "execution_count": 0,
   "metadata": {
    "dc": {
     "key": "40"
    },
    "tags": [
     "sample_code"
    ]
   },
   "outputs": [],
   "source": [
    "# Set seed for reproducibility\n",
    "# .... YOUR CODE FOR TASK 6 ....\n",
    "\n",
    "# Save number of rows in dataset\n",
    "# .... YOUR CODE FOR TASK 6 ....\n",
    "\n",
    "# Generate 60% sample of rows\n",
    "sample_rows <- sample(n, ....)\n",
    "\n",
    "# Create training set\n",
    "pokedex_train <- ....  %>% \n",
    "  filter(row_number() %in% ....)\n",
    "\n",
    "# Create test set\n",
    "pokedex_test <- ....  %>% \n",
    "  filter(!row_number() %in% ....)"
   ]
  },
  {
   "cell_type": "code",
   "execution_count": 0,
   "metadata": {
    "dc": {
     "key": "40"
    },
    "hide": true,
    "tags": [
     "tests"
    ]
   },
   "outputs": [],
   "source": [
    "set.seed(1234)\n",
    "\n",
    "soln_n <- nrow(soln_pokedex)\n",
    "soln_sample_rows <- sample(soln_n, 0.6 * soln_n)\n",
    "\n",
    "soln_pokedex_train <- soln_pokedex  %>% \n",
    "  filter(row_number() %in% soln_sample_rows)\n",
    "\n",
    "soln_pokedex_test <- soln_pokedex  %>% \n",
    "  filter(!row_number() %in% soln_sample_rows)\n",
    "\n",
    "run_tests({\n",
    "  \n",
    "  test_that(\"the seed is correct\", {\n",
    "      expect_equal(sample_rows, soln_sample_rows,\n",
    "                       info = \"Did you set the seed to `1234`?\")\n",
    "  })\n",
    "    \n",
    "    test_that(\"the value for `n` is correct\", {\n",
    "        expect_equal(n, soln_n,\n",
    "                        info = \"The value for `n` is incorrect. Did you save it as the number of rows in `pokedex`?\")\n",
    "  })\n",
    "    \n",
    "    test_that(\"the sample is correct\", {\n",
    "        expect_equal(length(sample_rows), length(soln_sample_rows),\n",
    "                        info = \"Did you generate a 60% sample of rows?\")\n",
    "    })\n",
    "    \n",
    "    test_that(\"the training/test sets are correct\", {\n",
    "        expect_equal(pokedex_train, soln_pokedex_train,\n",
    "                         info = \"The training set is incorrect. Did you filter the `pokedex` using `sample_rows`?\")\n",
    "        \n",
    "        expect_equal(pokedex_test, soln_pokedex_test,\n",
    "                         info = \"The test set is incorrect. Did you filter the `pokedex` using `sample_rows`?\")\n",
    "    })\n",
    "  \n",
    "})"
   ]
  },
  {
   "cell_type": "markdown",
   "metadata": {
    "dc": {
     "key": "47"
    },
    "deletable": false,
    "editable": false,
    "run_control": {
     "frozen": true
    },
    "tags": [
     "context"
    ]
   },
   "source": [
    "## 7. Fit a decision tree\n",
    "<p>Now we have our training and test sets, we can go about building our classifier. But before we fit a random forest, we will fit a simple <strong>classification decision tree</strong>. This will give us a baseline fit against which to compare the results of the random forest, as well as an informative graphical representation of the model.</p>\n",
    "<p>Here, and also in the random forest, we will omit incomplete observations by setting the <code>na.action</code> argument to <code>na.omit</code>. This will remove a few Pokémon with missing values for <code>height_m</code> and <code>weight_kg</code> from the training set. Remember the warning messages when we made our height/weight plot in Task 3? These are the Pokémon to blame!</p>"
   ]
  },
  {
   "cell_type": "code",
   "execution_count": 0,
   "metadata": {
    "dc": {
     "key": "47"
    },
    "tags": [
     "sample_code"
    ]
   },
   "outputs": [],
   "source": [
    "# Load packages and set seed\n",
    "# .... YOUR CODE FOR TASK 7 ....\n",
    "\n",
    "# Fit decision tree\n",
    "model_tree <- rpart(is_legendary ~ attack + defense + height_m + \n",
    "                    hp + sp_attack + sp_defense + speed + type + weight_kg,\n",
    "                       data = ....,\n",
    "                       method = \"class\",\n",
    "                       na.action = ....)\n",
    "\n",
    "# Plot decision tree\n",
    "# .... YOUR CODE FOR TASK 7 ...."
   ]
  },
  {
   "cell_type": "code",
   "execution_count": 0,
   "metadata": {
    "dc": {
     "key": "47"
    },
    "hide": true,
    "tags": [
     "tests"
    ]
   },
   "outputs": [],
   "source": [
    "set.seed(1234)\n",
    "\n",
    "soln_model_tree <- rpart(is_legendary ~ attack + defense + height_m + \n",
    "                    hp + sp_attack + sp_defense + speed + type + weight_kg,\n",
    "                       data = soln_pokedex_train,\n",
    "                       method = \"class\",\n",
    "                       na.action = na.omit)\n",
    "\n",
    "run_tests({\n",
    "  \n",
    "  test_that(\"packages are loaded\", {\n",
    "      expect_true(\"rpart\" %in% .packages(), info = \"Did you load the `rpart` package?\")\n",
    "      expect_true(\"rpart.plot\" %in% .packages(), info = \"Did you load the `rpart` package?\")\n",
    "  })\n",
    "    \n",
    "    test_that(\"the decision tree is correct\", {\n",
    "        \n",
    "        expect_true(model_tree[[\"call\"]][[\"data\"]] == \"pokedex_train\",\n",
    "                         info = \"Did you train the model on `pokedex_train`?\")\n",
    "        \n",
    "        expect_equal(model_tree[[\"call\"]][[\"na.action\"]], soln_model_tree[[\"call\"]][[\"na.action\"]],\n",
    "                         info = \"Did you set `na.action` to `na.omit`?\")\n",
    "        \n",
    "    })\n",
    "  \n",
    "})"
   ]
  },
  {
   "cell_type": "markdown",
   "metadata": {
    "dc": {
     "key": "54"
    },
    "deletable": false,
    "editable": false,
    "run_control": {
     "frozen": true
    },
    "tags": [
     "context"
    ]
   },
   "source": [
    "## 8. Fit a random forest\n",
    "<p>Each node of the tree shows the predicted class, the probability of being legendary, and the percentage of Pokémon in that node. The bottom-left node, for example – for those with <code>sp_attack &lt; 118</code> and <code>weight_kg &lt; 169</code> – represents 84% of Pokémon in the training set, predicting that each only has a 3% chance of being legendary.</p>\n",
    "<p>Decision trees place the most important variables at the top and exclude any they don't find to be useful. In this case, <code>sp_attack</code> occupies node 1 while <code>attack</code>, <code>defense</code>, <code>sp_defense</code> and <code>height_m</code> are all excluded.</p>\n",
    "<p>However, decision trees are unstable and sensitive to small variations in the data. It therefore makes sense to fit a <strong>random forest</strong> – an ensemble method that averages over several decision trees all at once. This should give us a more robust model that classifies Pokémon with greater accuracy.</p>"
   ]
  },
  {
   "cell_type": "code",
   "execution_count": 0,
   "metadata": {
    "dc": {
     "key": "54"
    },
    "tags": [
     "sample_code"
    ]
   },
   "outputs": [],
   "source": [
    "# Load package and set seed\n",
    "# .... YOUR CODE FOR TASK 8 ....\n",
    "\n",
    "# Fit random forest\n",
    "model_forest <- randomForest(is_legendary ~ attack + defense + height_m + \n",
    "                         hp + sp_attack + sp_defense + speed + type + weight_kg,\n",
    "                         data = ....,\n",
    "                         importance = TRUE,\n",
    "                         na.action = ....)\n",
    "\n",
    "# Print model output\n",
    "# .... YOUR CODE FOR TASK 8 ...."
   ]
  },
  {
   "cell_type": "code",
   "execution_count": 0,
   "metadata": {
    "dc": {
     "key": "54"
    },
    "hide": true,
    "tags": [
     "tests"
    ]
   },
   "outputs": [],
   "source": [
    "random_state <- .Random.seed\n",
    "set.seed(1234)\n",
    "soln_random_state <- .Random.seed\n",
    "\n",
    "soln_model_forest <- randomForest(is_legendary ~ attack + defense + height_m + \n",
    "                         hp + sp_attack + sp_defense + speed + type + weight_kg,\n",
    "                         data = soln_pokedex_train,\n",
    "                         importance = TRUE,\n",
    "                         na.action = na.omit)\n",
    "\n",
    "run_tests({\n",
    "  \n",
    "  test_that(\"packages are loaded\", {\n",
    "      expect_true(\"randomForest\" %in% .packages(), info = \"Did you load the `randomForest` package?\")\n",
    "  })\n",
    "    \n",
    "    test_that(\"the random forest is correct\", {\n",
    "        \n",
    "        expect_true(model_forest[[\"call\"]][[\"data\"]] == \"pokedex_train\",\n",
    "                         info = \"Did you train the model on `pokedex_train`?\")\n",
    "        \n",
    "        expect_equal(model_forest[[\"call\"]][[\"na.action\"]], soln_model_forest[[\"call\"]][[\"na.action\"]],\n",
    "                         info = \"Did you set `na.action` to `na.omit`?\")\n",
    "        \n",
    "    })\n",
    "  \n",
    "})"
   ]
  },
  {
   "cell_type": "markdown",
   "metadata": {
    "dc": {
     "key": "61"
    },
    "deletable": false,
    "editable": false,
    "run_control": {
     "frozen": true
    },
    "tags": [
     "context"
    ]
   },
   "source": [
    "## 9. Assess model fit\n",
    "<p>Looking at the model output, we can see that the random forest has an out-of-bag (OOB) error of 7.48%, which isn't bad by most accounts. However, since there are <strong>24 true positives</strong> and <strong>24 false negatives</strong>, the model only has a recall of 50%, which means that it struggles to successfully retrieve every legendary Pokémon in the dataset.</p>\n",
    "<p>In order to allow direct comparison with the decision tree, we will plot the <strong>ROC curves</strong> for both models using the <code>ROCR</code> package, which will visualize their true positive rate (TPR) and false positive rate (FPR) respectively. The closer the curve is to the top left of the plot, the higher the area under the curve (AUC) and the better the model.</p>"
   ]
  },
  {
   "cell_type": "code",
   "execution_count": 0,
   "metadata": {
    "dc": {
     "key": "61"
    },
    "tags": [
     "sample_code"
    ]
   },
   "outputs": [],
   "source": [
    "# Load the ROCR package\n",
    "library(ROCR)\n",
    "\n",
    "# Create prediction and performance objects for the decision tree\n",
    "probs_tree <- predict(model_tree, pokedex_test, type = \"prob\")\n",
    "pred_tree <- prediction(probs_tree[,2], pokedex_test$is_legendary)\n",
    "perf_tree <- performance(pred_tree, \"tpr\", \"fpr\")\n",
    "\n",
    "# Create prediction and performance objects for the random forest\n",
    "probs_forest <- ....\n",
    "pred_forest <- ....\n",
    "perf_forest <- ....\n",
    "\n",
    "# Plot the ROC curves: first for the decision tree, then for the random forest\n",
    "plot(...., col = \"red\", main = \"ROC curves\")\n",
    "plot(...., add = TRUE, col = \"blue\")\n",
    "legend(x = \"bottomright\",  legend = c(\"Decision Tree\", \"Random Forest\"), fill = c(\"red\", \"blue\"))"
   ]
  },
  {
   "cell_type": "code",
   "execution_count": 0,
   "metadata": {
    "dc": {
     "key": "61"
    },
    "hide": true,
    "tags": [
     "tests"
    ]
   },
   "outputs": [],
   "source": [
    "soln_probs_forest <- predict(soln_model_forest, soln_pokedex_test, type = \"prob\")\n",
    "soln_pred_forest <- prediction(soln_probs_forest[,2], soln_pokedex_test$is_legendary)\n",
    "soln_perf_forest <- performance(soln_pred_forest, \"tpr\", \"fpr\")\n",
    "\n",
    "run_tests({\n",
    "  \n",
    "  test_that(\"packages are loaded\", {\n",
    "      expect_true(\"ROCR\" %in% .packages(), info = \"Did you load the `ROCR` package?\")\n",
    "  })\n",
    "    \n",
    "    test_that(\"the prediction and performance objects are correct\", {\n",
    "        \n",
    "        expect_equal(probs_forest, soln_probs_forest,\n",
    "                         info = \"The `probs_forest` object is incorrect. Did you remember to use `model_forest` rather than `model_tree`?\")\n",
    "        \n",
    "        expect_equal(pred_forest, soln_pred_forest,\n",
    "                         info = \"The `pred_forest` object is incorrect. Did you remember to use `probs_forest` rather than `probs_tree`?\")\n",
    "        \n",
    "        expect_equal(perf_forest, soln_perf_forest,\n",
    "                         info = \"The `perf_forest` object is incorrect. Did you remember to use `pred_forest` rather than `pred_tree`?\")\n",
    "        \n",
    "  })\n",
    "  \n",
    "})"
   ]
  },
  {
   "cell_type": "markdown",
   "metadata": {
    "dc": {
     "key": "68"
    },
    "deletable": false,
    "editable": false,
    "run_control": {
     "frozen": true
    },
    "tags": [
     "context"
    ]
   },
   "source": [
    "## 10. Analyze variable importance\n",
    "<p>It's clear from the ROC curves that the random forest is a substantially better model, boasting an AUC (not calculated above) of 91% versus the decision tree's 78%. When calculating variable importance, it makes sense to do so with the best model available, so we'll use the random forest for the final part of our analysis.</p>\n",
    "<p>Note that a random forest returns two measures of variable importance:</p>\n",
    "<ul>\n",
    "<li><code>MeanDecreaseAccuracy</code> – how much the model accuracy suffers if you leave out a particular variable</li>\n",
    "<li><code>MeanDecreaseGini</code> – the degree to which a variable improves the probability of an observation being classified one way or another (i.e. 'node purity').</li>\n",
    "</ul>\n",
    "<p>Together, these two measures will allow us to answer our original research question – what makes a Pokémon legendary?</p>"
   ]
  },
  {
   "cell_type": "code",
   "execution_count": 0,
   "metadata": {
    "dc": {
     "key": "68"
    },
    "tags": [
     "sample_code"
    ]
   },
   "outputs": [],
   "source": [
    "# Print variable importance measures\n",
    "importance_forest <- ....\n",
    "importance_forest\n",
    "\n",
    "# Create a dotchart of variable importance\n",
    "varImpPlot_forest <- ....\n",
    "varImpPlot_forest"
   ]
  },
  {
   "cell_type": "code",
   "execution_count": 0,
   "metadata": {
    "dc": {
     "key": "68"
    },
    "hide": true,
    "tags": [
     "tests"
    ]
   },
   "outputs": [],
   "source": [
    "soln_importance_forest <- importance(soln_model_forest)\n",
    "soln_varImpPlot_forest <- varImpPlot(soln_model_forest)\n",
    "\n",
    "run_tests({\n",
    "  \n",
    "  test_that(\"the `importance` and `varImpPlot` objects are correct\", {\n",
    "      expect_equal(importance_forest, soln_importance_forest,\n",
    "                       info = \"Did you pass the random forest model to the `importance()` function?\")\n",
    "      expect_equal(varImpPlot_forest, soln_varImpPlot_forest,\n",
    "                       info = \"Did you pass the random forest model to the `varImpPlot()` function?\")\n",
    "  })\n",
    "  \n",
    "})"
   ]
  },
  {
   "cell_type": "markdown",
   "metadata": {
    "dc": {
     "key": "75"
    },
    "deletable": false,
    "editable": false,
    "run_control": {
     "frozen": true
    },
    "tags": [
     "context"
    ]
   },
   "source": [
    "## 11. Conclusion\n",
    "<p>According to the variable importance plot, <code>sp_attack</code> is the most important factor in determining whether or not a Pokémon is legendary, followed by <code>speed</code>. The plot doesn't tell us whether the variables have a positive or a negative effect, but we know from our exploratory analysis that the relationship is generally positive. We therefore conclude that legendary Pokémon are characterized primarily by the power of their special attacks and secondarily by their speediness, while also exhibiting higher fighting abilities across the board.</p>\n",
    "<p>Congratulations on completing your research into legendary Pokémon – Professor Oak is excited to share the findings! To finish, we'll answer a few of his questions about the variable importance results.</p>"
   ]
  },
  {
   "cell_type": "code",
   "execution_count": 0,
   "metadata": {
    "dc": {
     "key": "75"
    },
    "tags": [
     "sample_code"
    ]
   },
   "outputs": [],
   "source": [
    "# According to MeanDecreaseAccuracy:\n",
    "\n",
    "# Q1. Is attack or defense more important?\n",
    "answer1 <- ....\n",
    "\n",
    "# Q2. Is weight_kg or height_m more important?\n",
    "answer2 <- ....\n",
    "\n",
    "# According to MeanDecreaseGini:\n",
    "\n",
    "# Q3. Is attack or defense more important?\n",
    "answer3 <- ....\n",
    "\n",
    "# Q4. Is weight_kg or height_m more important?\n",
    "answer4 <- ...."
   ]
  },
  {
   "cell_type": "code",
   "execution_count": 0,
   "metadata": {
    "dc": {
     "key": "75"
    },
    "hide": true,
    "tags": [
     "tests"
    ]
   },
   "outputs": [],
   "source": [
    "soln_answer1 <- \"attack\"\n",
    "soln_answer2 <- \"weight_kg\"\n",
    "soln_answer3 <- \"defense\"\n",
    "soln_answer4 <- \"weight_kg\"\n",
    "\n",
    "run_tests({\n",
    "  \n",
    "  test_that(\"the answers are correct\", {\n",
    "      \n",
    "      expect_equal(answer1, soln_answer1,\n",
    "                      info = \"The answer to Q1 is wrong. Did you check which variable was higher in the `MeanDecreaseAccuracy` plot?\")\n",
    "      \n",
    "      expect_equal(answer2, soln_answer2,\n",
    "                      info = \"The answer to Q2 is wrong. Did you check which variable was higher in the `MeanDecreaseAccuracy` plot?\")\n",
    "      \n",
    "      expect_equal(answer3, soln_answer3,\n",
    "                      info = \"The answer to Q3 is wrong. Did you check which variable was higher in the `MeanDecreaseGini` plot?\")\n",
    "      \n",
    "      expect_equal(answer4, soln_answer4,\n",
    "                      info = \"The answer to Q4 is wrong. Did you check which variable was higher in the `MeanDecreaseGini` plot?\")\n",
    "      \n",
    "  })\n",
    "  \n",
    "})"
   ]
  }
 ],
 "metadata": {
  "kernelspec": {
   "display_name": "R",
   "language": "R",
   "name": "ir"
  },
  "language_info": {
   "codemirror_mode": "r",
   "file_extension": ".r",
   "mimetype": "text/x-r-source",
   "name": "R",
   "pygments_lexer": "r",
   "version": "3.4.3"
  }
 },
 "nbformat": 4,
 "nbformat_minor": 2
}
