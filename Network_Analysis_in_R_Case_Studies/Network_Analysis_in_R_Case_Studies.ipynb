{
 "cells": [
  {
   "cell_type": "markdown",
   "metadata": {},
   "source": [
    "# <font color=blue>Chapter 1:  Exploring graphs through time</font>"
   ]
  },
  {
   "cell_type": "markdown",
   "metadata": {},
   "source": [
    "#### Finding Dyads and Triads\n",
    "Let's think a little bit more about what we can learn from dyad and triad censuses of the overall graph. Because we are interested in understanding how items are purchased together and whether or not they are reciprocally purchased, dyad and triad censuses can provide a useful initial look. A dyad census will tell us how many items are purchased reciprocally vs. asymmetrically. The triad census will tell us which items might be important, specifically patterns 4, 5, 9, and 12. All of these have one vertex that has 2 out degree edges and no in degree edges. Edge density should also give some insight we expect for graph clustering."
   ]
  },
  {
   "cell_type": "code",
   "execution_count": 2,
   "metadata": {},
   "outputs": [
    {
     "name": "stderr",
     "output_type": "stream",
     "text": [
      "\n",
      "Attaching package: 'igraph'\n",
      "\n",
      "The following objects are masked from 'package:stats':\n",
      "\n",
      "    decompose, spectrum\n",
      "\n",
      "The following object is masked from 'package:base':\n",
      "\n",
      "    union\n",
      "\n",
      "\n",
      "Attaching package: 'dplyr'\n",
      "\n",
      "The following objects are masked from 'package:igraph':\n",
      "\n",
      "    as_data_frame, groups, union\n",
      "\n",
      "The following objects are masked from 'package:stats':\n",
      "\n",
      "    filter, lag\n",
      "\n",
      "The following objects are masked from 'package:base':\n",
      "\n",
      "    intersect, setdiff, setequal, union\n",
      "\n"
     ]
    },
    {
     "name": "stdout",
     "output_type": "stream",
     "text": [
      "$mut\n",
      "[1] 3199\n",
      "\n",
      "$asym\n",
      "[1] 4356\n",
      "\n",
      "$null\n",
      "[1] 52467335\n",
      "\n",
      " [1] 179089386743     44610360     32763436          215         1906\n",
      " [6]          507         1198          457          118            0\n",
      "[11]          301          170          119           33          239\n",
      "[16]          288\n",
      "[1] 0.0001024681\n"
     ]
    }
   ],
   "source": [
    "library(igraph)\n",
    "library(dplyr) \n",
    "\n",
    "\n",
    "amzn_g <- read.graph(\"amzn_g.gml\",format=c(\"gml\"))\n",
    "\n",
    "# Perform dyad census\n",
    "dc <- dyad_census(amzn_g)\n",
    "\n",
    "# Perform triad census\n",
    "tc <- triad_census(amzn_g)\n",
    "\n",
    "# Find the edge density\n",
    "ed <- edge_density(amzn_g)\n",
    "\n",
    "# Output values\n",
    "print(dc)\n",
    "print(tc)\n",
    "print(ed)"
   ]
  },
  {
   "cell_type": "markdown",
   "metadata": {},
   "source": [
    "#### Clustering and Reciprocity\n",
    "Our previous work looking at the dyad census should give some intuition about how we expect other graph level metrics like reciprocity and clustering in our co-purchase graph to look. Recall that there are 10, 245 edges in our graph of 10, 754 vertices, and of those, more than 3, 000 are mutual, meaning that almost 60 percent of the vertices have a mutual connection. What do you expect the clustering and reciprocity measures to look like given this information? We can test our intuition against a null model by simulating random graphs. In light of the results of our previous simulation, what do you expect to see here? Will reciprocity also be much higher than expected by chance?"
   ]
  },
  {
   "cell_type": "code",
   "execution_count": 3,
   "metadata": {},
   "outputs": [
    {
     "data": {
      "text/html": [
       "0.387575150300601"
      ],
      "text/latex": [
       "0.387575150300601"
      ],
      "text/markdown": [
       "0.387575150300601"
      ],
      "text/plain": [
       "[1] 0.3875752"
      ]
     },
     "metadata": {},
     "output_type": "display_data"
    },
    {
     "data": {
      "text/html": [
       "<dl class=dl-horizontal>\n",
       "\t<dt>25%</dt>\n",
       "\t\t<dd>0</dd>\n",
       "\t<dt>50%</dt>\n",
       "\t\t<dd>0</dd>\n",
       "\t<dt>97.5%</dt>\n",
       "\t\t<dd>0.000379041830381783</dd>\n",
       "</dl>\n"
      ],
      "text/latex": [
       "\\begin{description*}\n",
       "\\item[25\\textbackslash{}\\%] 0\n",
       "\\item[50\\textbackslash{}\\%] 0\n",
       "\\item[97.5\\textbackslash{}\\%] 0.000379041830381783\n",
       "\\end{description*}\n"
      ],
      "text/markdown": [
       "25%\n",
       ":   050%\n",
       ":   097.5%\n",
       ":   0.000379041830381783\n",
       "\n"
      ],
      "text/plain": [
       "         25%          50%        97.5% \n",
       "0.0000000000 0.0000000000 0.0003790418 "
      ]
     },
     "metadata": {},
     "output_type": "display_data"
    },
    {
     "name": "stdout",
     "output_type": "stream",
     "text": [
      "[1] 0.5949414\n"
     ]
    }
   ],
   "source": [
    "# Calculate transitivity\n",
    "transitivity(amzn_g)\n",
    "\n",
    "# Calculate reciprocity\n",
    "amzn_rp <- reciprocity(amzn_g)\n",
    "\n",
    "# Simulate our outputs\n",
    "nv <- gorder(amzn_g)\n",
    "ed <- edge_density(amzn_g)\n",
    "rep_sim <- rep(NA, 1000)\n",
    "\n",
    "# Simulate \n",
    "for(i in 1:1000){\n",
    "  rep_sim[i] <- reciprocity(erdos.renyi.game(nv, ed, \"gnp\", directed = T))\n",
    "}\n",
    "\n",
    "# Compare\n",
    "quantile(rep_sim, c(0.25, .5, 0.975))\n",
    "print(amzn_rp)"
   ]
  },
  {
   "cell_type": "markdown",
   "metadata": {},
   "source": [
    "#### Important Products\n",
    "We've now seen that there's a clear pattern in our graph. Let's take the next step and move beyond just understanding the structure. Given the context of graph structure, what can we learn from it? For example, what drives purchases? A place to start might be to look for \"important products\", e.g. those products that someone purchases and then purchases something else. We can make inferences about this using in degree and out degree. First, we'll look at our graph and see the distribution of in degree and out degree, and then use that to set up a working definition for what an \"important product\" is (something that has > X out degrees and < Z in degrees). We'll then make a subgraph to visualize what these subgraphs look like."
   ]
  },
  {
   "cell_type": "code",
   "execution_count": 4,
   "metadata": {},
   "outputs": [
    {
     "data": {
      "text/plain": [
       "\n",
       "   0    1    2    3    4    5    6    7    8    9   11   12   17 \n",
       "2798 5240 1549  424  139   50   20    7    9    5    1    2    1 "
      ]
     },
     "metadata": {},
     "output_type": "display_data"
    },
    {
     "data": {
      "text/plain": [
       "\n",
       "   0    1    2    3    4    5 \n",
       "1899 6350 1635  313   45    3 "
      ]
     },
     "metadata": {},
     "output_type": "display_data"
    },
    {
     "name": "stdout",
     "output_type": "stream",
     "text": [
      "+ 8/10245 vertices, named, from 5a5167a:\n",
      "[1] 1629   4545   6334   20181  62482  64344  155513 221085\n"
     ]
    }
   ],
   "source": [
    "# Get the distribution of in and out degrees\n",
    "table(degree(amzn_g, mode = \"in\"))\n",
    "table(degree(amzn_g, mode = \"out\"))\n",
    "\n",
    "# Find important products based on the ratio of out to in and look for extremes\n",
    "imp_prod <- V(amzn_g)[degree(amzn_g, mode = \"out\") > 3 & degree(amzn_g, mode = \"in\") < 3]\n",
    "\n",
    "## Output the vertices\n",
    "print(imp_prod)"
   ]
  },
  {
   "cell_type": "markdown",
   "metadata": {},
   "source": [
    "#### What Wakes an Important Product?\n",
    "Now that we've come up with a working definition of an important product, let's see if they have any properties that might be correlated. One candidate pairing is salesrank.from and salesrank.to. We can ask if important products tend to have higher sales ranks than the products people purchase downstream. We'll look at this by first subsetting out the important vertices, joining those back to the initial dataframe, and then creating a new dataframe using the package dplyr. We'll create a new graph, and color the edges blue for high ranking (1, 2, 3) to low ranking (20, 21, 22) and red for the opposite. If rank is correlated with downstream purchasing, then we'll see mostly blue links, and if there's no relationship, it will be about equally red and blue.\n",
    "\n",
    "The dataset ip_df contains the information about important products."
   ]
  },
  {
   "cell_type": "code",
   "execution_count": 5,
   "metadata": {},
   "outputs": [
    {
     "ename": "ERROR",
     "evalue": "Error in eval(lhs, parent, parent): Objekt 'ip_df' nicht gefunden\n",
     "output_type": "error",
     "traceback": [
      "Error in eval(lhs, parent, parent): Objekt 'ip_df' nicht gefunden\nTraceback:\n",
      "1. graph_from_data_frame(ip_df %>% select(from, to), directed = T)",
      "2. as.data.frame(d)",
      "3. ip_df %>% select(from, to)",
      "4. eval(lhs, parent, parent)",
      "5. eval(lhs, parent, parent)"
     ]
    }
   ],
   "source": [
    "# Create a new graph\n",
    "ip_g <- graph_from_data_frame(ip_df %>% select(from, to), directed = T)\n",
    "\n",
    "# Add color to the edges based on sales rank, blue is higer to lower, red is lower to higher\n",
    "E(ip_g)$rank_flag <- ifelse(ip_df$salesrank.from <= ip_df$salesrank.to, \"blue\", \"red\")\n",
    "\n",
    "# Plot and add a legend\n",
    "plot(ip_g, vertex.label = NA, edge.arrow.width = 1, edge.arrow.size = 0, \n",
    "    edge.width = 4, margin = 0, vertex.size = 4, \n",
    "    edge.color = E(ip_g)$rank_flag, vertex.color = \"black\" )\n",
    "legend(\"bottomleft\", legend = c(\"Lower to Higher Rank\", \"Higher to Lower Rank\"), \n",
    "       fill = unique(E(ip_g)$rank_flag ), cex = .7)"
   ]
  },
  {
   "cell_type": "markdown",
   "metadata": {},
   "source": [
    "#### Metrics Through Time\n",
    "So far, we have been looking at products that drive other purchases by examining their out degree. However, up until the last lesson we've just been looking at a single snapshot in time. One question is, do these products show similar out degrees at each time step? After all, a product driving other purchases could just be idiosyncratic, or it if were more stable through time it might indicate that product could be responsible for driving co-purchases. To get at this question, we're going to build off the code we've already walked through that generates a list with a graph at each time step."
   ]
  },
  {
   "cell_type": "code",
   "execution_count": 4,
   "metadata": {},
   "outputs": [
    {
     "ename": "ERROR",
     "evalue": "Error in parse(text = x, srcfile = src): <text>:22:98: Unerwartete(s) '}'\n21: ## Plot it, to see how what important vertices look like at each date\n22: plot(time_graph[[i]], vertex.label = NA, edge.arrow.width = .8, edge.arrow.size = .3, edge.width }\n                                                                                                     ^\n",
     "output_type": "error",
     "traceback": [
      "Error in parse(text = x, srcfile = src): <text>:22:98: Unerwartete(s) '}'\n21: ## Plot it, to see how what important vertices look like at each date\n22: plot(time_graph[[i]], vertex.label = NA, edge.arrow.width = .8, edge.arrow.size = .3, edge.width }\n                                                                                                     ^\nTraceback:\n"
     ]
    }
   ],
   "source": [
    "# Get unique Dates\n",
    "d <- sort(unique(amzn_raw$date))\n",
    "# Create graph from first date.\n",
    "amzn_g <- graph_from_data_frame(amzn_raw %>% filter(date ==d[1]) %>%\n",
    "select(from, to), directed = T)\n",
    "# Find products that are \"important\".\n",
    "imp_prod <- V(amzn_g)[degree(amzn_g, mode = \"out\") > 2 &\n",
    "degree(amzn_g, mode = \"in\") < 1]\n",
    "# Store as a data frame to later join on.\n",
    "tmp_df <- data.frame(\"imp_prod\" = as.numeric(names(imp_prod)))\n",
    "\n",
    "## Create list to hold output\n",
    "time_graph <- list()\n",
    "## Create a 2x2 layout for plots and increase margins\n",
    "par(mfrow = c(2, 2), mar = c(1.1, 1.1, 1.1, 1.1))\n",
    "## Loop over the data to build\n",
    "for(i in 1:length(d)){\n",
    "## Create a data frame at each time stamp\n",
    "ip_df <- amzn_raw %>% filter(date == d[i]) %>% right_join(tmp_df, by = c(\"from\" = \"imp_prod\")) ## Create an igraph object from that data frame\n",
    "time_graph[[i]] <- graph_from_data_frame(ip_df %>% select(from, to), directed = T)\n",
    "## Plot it, to see how what important vertices look like at each date\n",
    "plot(time_graph[[i]], vertex.label = NA, edge.arrow.width = .8, edge.arrow.size = .3, edge.width }"
   ]
  },
  {
   "cell_type": "code",
   "execution_count": 10,
   "metadata": {},
   "outputs": [
    {
     "data": {
      "text/plain": [
       "[[1]]\n",
       "+ 3/126 vertices, named, from 38ecae2:\n",
       "[1] 1629   62482  221085\n",
       "\n",
       "[[2]]\n",
       "+ 2/49 vertices, named, from dfcddfb:\n",
       "[1] 52831  132757\n",
       "\n",
       "[[3]]\n",
       "+ 2/65 vertices, named, from ed0a1b9:\n",
       "[1] 123808 132757\n",
       "\n",
       "[[4]]\n",
       "+ 1/50 vertex, named, from ad9b8e6:\n",
       "[1] 1629\n"
      ]
     },
     "metadata": {},
     "output_type": "display_data"
    },
    {
     "data": {},
     "metadata": {},
     "output_type": "display_data"
    },
    {
     "data": {
      "image/png": "[encoded data removed]",
      "text/plain": [
       "plot without title"
      ]
     },
     "metadata": {},
     "output_type": "display_data"
    }
   ],
   "source": [
    "library(lubridate)\n",
    "library(ggplot2)\n",
    "d <- c(\"2003-03-02\", \"2003-03-12\", \"2003-05-05\", \"2003-06-01\")\n",
    "\n",
    "time_graph <- readRDS(\"time_graph.rds\")\n",
    "# Get a count of out degrees for all vertices\n",
    "deg_ct <- lapply(time_graph, function(x){return(degree(x, mode = \"out\") )})\n",
    "\n",
    "# Create a dataframe starting by adding the degree count\n",
    "deg_df <- data.frame(ct = unlist(deg_ct))\n",
    "\n",
    "# Add a column with the vertex names \n",
    "deg_df$vertex_name <- names(unlist(deg_ct))\n",
    "\n",
    "# Add a time stamp \n",
    "deg_df$date <- ymd(rep(d, unlist(lapply(time_graph, function(x){length(V(x))}))))\n",
    "\n",
    "# See all the vertices that have more than three out degrees\n",
    "lapply(time_graph, function(x){return(V(x)[degree(x, mode = \"out\") > 3])})\n",
    "\n",
    "# Create a dataframe to plot of three important vertices\n",
    "vert_df <- deg_df %>% filter(vertex_name %in% c(1629, 132757, 117841))\n",
    "\n",
    "# Draw the plot to see how they change through time\n",
    "ggplot(vert_df, aes(x = date, y = ct, group = vertex_name, colour = vertex_name)) + geom_path()"
   ]
  },
  {
   "cell_type": "markdown",
   "metadata": {},
   "source": [
    "#### Plotting Metrics Over Time\n",
    "We can also examine how metrics for the overall graph change (or don't) through time. Earlier we looked at two important ones, clustering and reciprocity. Each were quite high, as we expected after visually inspecting the graph structure. However, over time, each of these might change. Are global purchasing patterns on Amazon stable? If we think so, then we expect plots of these metrics to essentially be horizontal lines, indicating that reciprocity is about the same every day and there's a high degree of clustering structure. Let's see what we can find here."
   ]
  },
  {
   "cell_type": "code",
   "execution_count": 11,
   "metadata": {},
   "outputs": [
    {
     "ename": "ERROR",
     "evalue": "Error in lapply(all_graphs, transitivity): Objekt 'all_graphs' nicht gefunden\n",
     "output_type": "error",
     "traceback": [
      "Error in lapply(all_graphs, transitivity): Objekt 'all_graphs' nicht gefunden\nTraceback:\n",
      "1. unlist(lapply(all_graphs, transitivity))",
      "2. lapply(all_graphs, transitivity)"
     ]
    }
   ],
   "source": [
    "# Calculate clustering and reciprocity metrics\n",
    "trans <- unlist(lapply(all_graphs, transitivity))\n",
    "rp <- unlist(lapply(all_graphs, reciprocity))\n",
    "\n",
    "# Create daaframe for plotting\n",
    "met_df <- data.frame(\"metric\" = c(trans, rp))\n",
    "\n",
    "# Repeat the data\n",
    "met_df$date <- rep(ymd(d), 2)\n",
    "\n",
    "# Sort and then Repeat the metric labels\n",
    "met_df$name <- sort(rep(c(\"clustering\", \"reciprocity\"), 4))\n",
    "\n",
    "# Plot\n",
    "ggplot(met_df, aes(x= date, y= metric, group = name, colour = name)) + geom_path()"
   ]
  },
  {
   "cell_type": "code",
   "execution_count": 2,
   "metadata": {},
   "outputs": [
    {
     "ename": "ERROR",
     "evalue": "Error in parse(text = x, srcfile = src): <text>:1:1: Unerwartete(s) SPECIAL\n1: %%\n    ^\n",
     "output_type": "error",
     "traceback": [
      "Error in parse(text = x, srcfile = src): <text>:1:1: Unerwartete(s) SPECIAL\n1: %%\n    ^\nTraceback:\n"
     ]
    }
   ],
   "source": [
    "%%lsmagic"
   ]
  },
  {
   "cell_type": "markdown",
   "metadata": {},
   "source": []
  },
  {
   "cell_type": "code",
   "execution_count": null,
   "metadata": {},
   "outputs": [],
   "source": []
  }
 ],
 "metadata": {
  "kernelspec": {
   "display_name": "R",
   "language": "R",
   "name": "ir"
  },
  "language_info": {
   "codemirror_mode": "r",
   "file_extension": ".r",
   "mimetype": "text/x-r-source",
   "name": "R",
   "pygments_lexer": "r",
   "version": "3.4.3"
  }
 },
 "nbformat": 4,
 "nbformat_minor": 2
}
