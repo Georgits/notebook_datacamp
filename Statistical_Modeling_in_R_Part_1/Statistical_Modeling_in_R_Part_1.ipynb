{
 "cells": [
  {
   "cell_type": "markdown",
   "metadata": {},
   "source": [
    "# <font color=blue>Chapter 1: What is statistical modeling?</font>"
   ]
  },
  {
   "cell_type": "code",
   "execution_count": 1,
   "metadata": {
    "collapsed": true
   },
   "outputs": [],
   "source": [
    "suppressMessages(library(lattice))\n",
    "suppressMessages(library(ggplot2))\n",
    "suppressMessages(library(statisticalModeling))\n",
    "suppressMessages(library(mosaicData))\n",
    "suppressMessages(library(mosaic))\n",
    "suppressMessages(library(lattice))\n",
    "suppressMessages(library(rpart))\n",
    "suppressMessages(library(rpart.plot))"
   ]
  },
  {
   "cell_type": "markdown",
   "metadata": {},
   "source": [
    "#### Accessing data"
   ]
  },
  {
   "cell_type": "code",
   "execution_count": 2,
   "metadata": {
    "scrolled": true
   },
   "outputs": [
    {
     "data": {
      "text/html": [
       "129"
      ],
      "text/latex": [
       "129"
      ],
      "text/markdown": [
       "129"
      ],
      "text/plain": [
       "[1] 129"
      ]
     },
     "metadata": {},
     "output_type": "display_data"
    },
    {
     "data": {
      "text/html": [
       "<ol class=list-inline>\n",
       "\t<li>'date'</li>\n",
       "\t<li>'day'</li>\n",
       "\t<li>'highT'</li>\n",
       "\t<li>'lowT'</li>\n",
       "\t<li>'hi'</li>\n",
       "\t<li>'lo'</li>\n",
       "\t<li>'precip'</li>\n",
       "\t<li>'clouds'</li>\n",
       "\t<li>'riders'</li>\n",
       "\t<li>'ct'</li>\n",
       "\t<li>'weekday'</li>\n",
       "\t<li>'wday'</li>\n",
       "</ol>\n"
      ],
      "text/latex": [
       "\\begin{enumerate*}\n",
       "\\item 'date'\n",
       "\\item 'day'\n",
       "\\item 'highT'\n",
       "\\item 'lowT'\n",
       "\\item 'hi'\n",
       "\\item 'lo'\n",
       "\\item 'precip'\n",
       "\\item 'clouds'\n",
       "\\item 'riders'\n",
       "\\item 'ct'\n",
       "\\item 'weekday'\n",
       "\\item 'wday'\n",
       "\\end{enumerate*}\n"
      ],
      "text/markdown": [
       "1. 'date'\n",
       "2. 'day'\n",
       "3. 'highT'\n",
       "4. 'lowT'\n",
       "5. 'hi'\n",
       "6. 'lo'\n",
       "7. 'precip'\n",
       "8. 'clouds'\n",
       "9. 'riders'\n",
       "10. 'ct'\n",
       "11. 'weekday'\n",
       "12. 'wday'\n",
       "\n",
       "\n"
      ],
      "text/plain": [
       " [1] \"date\"    \"day\"     \"highT\"   \"lowT\"    \"hi\"      \"lo\"      \"precip\" \n",
       " [8] \"clouds\"  \"riders\"  \"ct\"      \"weekday\" \"wday\"   "
      ]
     },
     "metadata": {},
     "output_type": "display_data"
    },
    {
     "data": {
      "text/html": [
       "<table>\n",
       "<thead><tr><th scope=col>carat</th><th scope=col>cut</th><th scope=col>color</th><th scope=col>clarity</th><th scope=col>depth</th><th scope=col>table</th><th scope=col>price</th><th scope=col>x</th><th scope=col>y</th><th scope=col>z</th></tr></thead>\n",
       "<tbody>\n",
       "\t<tr><td>0.23     </td><td>Ideal    </td><td>E        </td><td>SI2      </td><td>61.5     </td><td>55       </td><td>326      </td><td>3.95     </td><td>3.98     </td><td>2.43     </td></tr>\n",
       "\t<tr><td>0.21     </td><td>Premium  </td><td>E        </td><td>SI1      </td><td>59.8     </td><td>61       </td><td>326      </td><td>3.89     </td><td>3.84     </td><td>2.31     </td></tr>\n",
       "\t<tr><td>0.23     </td><td>Good     </td><td>E        </td><td>VS1      </td><td>56.9     </td><td>65       </td><td>327      </td><td>4.05     </td><td>4.07     </td><td>2.31     </td></tr>\n",
       "\t<tr><td>0.29     </td><td>Premium  </td><td>I        </td><td>VS2      </td><td>62.4     </td><td>58       </td><td>334      </td><td>4.20     </td><td>4.23     </td><td>2.63     </td></tr>\n",
       "\t<tr><td>0.31     </td><td>Good     </td><td>J        </td><td>SI2      </td><td>63.3     </td><td>58       </td><td>335      </td><td>4.34     </td><td>4.35     </td><td>2.75     </td></tr>\n",
       "\t<tr><td>0.24     </td><td>Very Good</td><td>J        </td><td>VVS2     </td><td>62.8     </td><td>57       </td><td>336      </td><td>3.94     </td><td>3.96     </td><td>2.48     </td></tr>\n",
       "</tbody>\n",
       "</table>\n"
      ],
      "text/latex": [
       "\\begin{tabular}{r|llllllllll}\n",
       " carat & cut & color & clarity & depth & table & price & x & y & z\\\\\n",
       "\\hline\n",
       "\t 0.23      & Ideal     & E         & SI2       & 61.5      & 55        & 326       & 3.95      & 3.98      & 2.43     \\\\\n",
       "\t 0.21      & Premium   & E         & SI1       & 59.8      & 61        & 326       & 3.89      & 3.84      & 2.31     \\\\\n",
       "\t 0.23      & Good      & E         & VS1       & 56.9      & 65        & 327       & 4.05      & 4.07      & 2.31     \\\\\n",
       "\t 0.29      & Premium   & I         & VS2       & 62.4      & 58        & 334       & 4.20      & 4.23      & 2.63     \\\\\n",
       "\t 0.31      & Good      & J         & SI2       & 63.3      & 58        & 335       & 4.34      & 4.35      & 2.75     \\\\\n",
       "\t 0.24      & Very Good & J         & VVS2      & 62.8      & 57        & 336       & 3.94      & 3.96      & 2.48     \\\\\n",
       "\\end{tabular}\n"
      ],
      "text/markdown": [
       "\n",
       "carat | cut | color | clarity | depth | table | price | x | y | z | \n",
       "|---|---|---|---|---|---|\n",
       "| 0.23      | Ideal     | E         | SI2       | 61.5      | 55        | 326       | 3.95      | 3.98      | 2.43      | \n",
       "| 0.21      | Premium   | E         | SI1       | 59.8      | 61        | 326       | 3.89      | 3.84      | 2.31      | \n",
       "| 0.23      | Good      | E         | VS1       | 56.9      | 65        | 327       | 4.05      | 4.07      | 2.31      | \n",
       "| 0.29      | Premium   | I         | VS2       | 62.4      | 58        | 334       | 4.20      | 4.23      | 2.63      | \n",
       "| 0.31      | Good      | J         | SI2       | 63.3      | 58        | 335       | 4.34      | 4.35      | 2.75      | \n",
       "| 0.24      | Very Good | J         | VVS2      | 62.8      | 57        | 336       | 3.94      | 3.96      | 2.48      | \n",
       "\n",
       "\n"
      ],
      "text/plain": [
       "  carat cut       color clarity depth table price x    y    z   \n",
       "1 0.23  Ideal     E     SI2     61.5  55    326   3.95 3.98 2.43\n",
       "2 0.21  Premium   E     SI1     59.8  61    326   3.89 3.84 2.31\n",
       "3 0.23  Good      E     VS1     56.9  65    327   4.05 4.07 2.31\n",
       "4 0.29  Premium   I     VS2     62.4  58    334   4.20 4.23 2.63\n",
       "5 0.31  Good      J     SI2     63.3  58    335   4.34 4.35 2.75\n",
       "6 0.24  Very Good J     VVS2    62.8  57    336   3.94 3.96 2.48"
      ]
     },
     "metadata": {},
     "output_type": "display_data"
    }
   ],
   "source": [
    "# Use data() to load Trucking_jobs\n",
    "data(Trucking_jobs, package = \"statisticalModeling\")\n",
    "\n",
    "# View the number rows in Trucking_jobs\n",
    "nrow(statisticalModeling::Trucking_jobs)\n",
    "\n",
    "# Use names() to find variable names in mosaicData::Riders\n",
    "names(mosaicData::Riders)\n",
    "\n",
    "# Load ggplot2 package\n",
    "library(ggplot2)\n",
    "\n",
    "# Look at the head() of diamonds\n",
    "head(ggplot2::diamonds)"
   ]
  },
  {
   "cell_type": "markdown",
   "metadata": {},
   "source": [
    "#### Starting with formulas"
   ]
  },
  {
   "cell_type": "code",
   "execution_count": 3,
   "metadata": {},
   "outputs": [
    {
     "data": {
      "text/html": [
       "<ol class=list-inline>\n",
       "\t<li>'Age'</li>\n",
       "\t<li>'Sex'</li>\n",
       "\t<li>'Coverage'</li>\n",
       "\t<li>'Cost'</li>\n",
       "</ol>\n"
      ],
      "text/latex": [
       "\\begin{enumerate*}\n",
       "\\item 'Age'\n",
       "\\item 'Sex'\n",
       "\\item 'Coverage'\n",
       "\\item 'Cost'\n",
       "\\end{enumerate*}\n"
      ],
      "text/markdown": [
       "1. 'Age'\n",
       "2. 'Sex'\n",
       "3. 'Coverage'\n",
       "4. 'Cost'\n",
       "\n",
       "\n"
      ],
      "text/plain": [
       "[1] \"Age\"      \"Sex\"      \"Coverage\" \"Cost\"    "
      ]
     },
     "metadata": {},
     "output_type": "display_data"
    },
    {
     "data": {
      "text/html": [
       "<dl class=dl-horizontal>\n",
       "\t<dt>F</dt>\n",
       "\t\t<dd>47.2977777777778</dd>\n",
       "\t<dt>M</dt>\n",
       "\t\t<dd>57.5305555555556</dd>\n",
       "</dl>\n"
      ],
      "text/latex": [
       "\\begin{description*}\n",
       "\\item[F] 47.2977777777778\n",
       "\\item[M] 57.5305555555556\n",
       "\\end{description*}\n"
      ],
      "text/markdown": [
       "F\n",
       ":   47.2977777777778M\n",
       ":   57.5305555555556\n",
       "\n"
      ],
      "text/plain": [
       "       F        M \n",
       "47.29778 57.53056 "
      ]
     },
     "metadata": {},
     "output_type": "display_data"
    }
   ],
   "source": [
    "# Find the variable names in AARP\n",
    "names(statisticalModeling::AARP)\n",
    "data(AARP, package = \"statisticalModeling\")\n",
    "\n",
    "# Find the mean cost broken down by sex\n",
    "mosaic::mean(Cost ~ Sex, data = AARP)"
   ]
  },
  {
   "cell_type": "markdown",
   "metadata": {
    "collapsed": true
   },
   "source": [
    "# <font color=blue>Chapter 2: Designing, training, and evaluating models</font>"
   ]
  },
  {
   "cell_type": "markdown",
   "metadata": {},
   "source": [
    "#### Modeling running times"
   ]
  },
  {
   "cell_type": "code",
   "execution_count": 6,
   "metadata": {},
   "outputs": [
    {
     "data": {
      "text/html": [
       "<table>\n",
       "<thead><tr><th scope=col>age</th><th scope=col>net</th><th scope=col>gun</th><th scope=col>sex</th><th scope=col>year</th><th scope=col>previous</th><th scope=col>nruns</th><th scope=col>start_position</th><th scope=col>orig.id</th></tr></thead>\n",
       "<tbody>\n",
       "\t<tr><td>54    </td><td>90.00 </td><td> 90.28</td><td>F     </td><td>2004  </td><td>5     </td><td>9     </td><td>eager </td><td> 5035 </td></tr>\n",
       "\t<tr><td>27    </td><td>74.22 </td><td> 75.08</td><td>M     </td><td>2001  </td><td>1     </td><td>8     </td><td>eager </td><td>   10 </td></tr>\n",
       "\t<tr><td>24    </td><td>90.85 </td><td> 93.55</td><td>F     </td><td>2000  </td><td>0     </td><td>4     </td><td>calm  </td><td> 9271 </td></tr>\n",
       "\t<tr><td>39    </td><td>91.70 </td><td> 95.18</td><td>F     </td><td>2004  </td><td>1     </td><td>3     </td><td>mellow</td><td>  256 </td></tr>\n",
       "\t<tr><td>52    </td><td>94.13 </td><td> 99.40</td><td>M     </td><td>2005  </td><td>1     </td><td>4     </td><td>mellow</td><td> 1175 </td></tr>\n",
       "\t<tr><td>28    </td><td>99.13 </td><td>105.60</td><td>M     </td><td>2003  </td><td>1     </td><td>5     </td><td>mellow</td><td>17334 </td></tr>\n",
       "</tbody>\n",
       "</table>\n"
      ],
      "text/latex": [
       "\\begin{tabular}{r|lllllllll}\n",
       " age & net & gun & sex & year & previous & nruns & start\\_position & orig.id\\\\\n",
       "\\hline\n",
       "\t 54     & 90.00  &  90.28 & F      & 2004   & 5      & 9      & eager  &  5035 \\\\\n",
       "\t 27     & 74.22  &  75.08 & M      & 2001   & 1      & 8      & eager  &    10 \\\\\n",
       "\t 24     & 90.85  &  93.55 & F      & 2000   & 0      & 4      & calm   &  9271 \\\\\n",
       "\t 39     & 91.70  &  95.18 & F      & 2004   & 1      & 3      & mellow &   256 \\\\\n",
       "\t 52     & 94.13  &  99.40 & M      & 2005   & 1      & 4      & mellow &  1175 \\\\\n",
       "\t 28     & 99.13  & 105.60 & M      & 2003   & 1      & 5      & mellow & 17334 \\\\\n",
       "\\end{tabular}\n"
      ],
      "text/markdown": [
       "\n",
       "age | net | gun | sex | year | previous | nruns | start_position | orig.id | \n",
       "|---|---|---|---|---|---|\n",
       "| 54     | 90.00  |  90.28 | F      | 2004   | 5      | 9      | eager  |  5035  | \n",
       "| 27     | 74.22  |  75.08 | M      | 2001   | 1      | 8      | eager  |    10  | \n",
       "| 24     | 90.85  |  93.55 | F      | 2000   | 0      | 4      | calm   |  9271  | \n",
       "| 39     | 91.70  |  95.18 | F      | 2004   | 1      | 3      | mellow |   256  | \n",
       "| 52     | 94.13  |  99.40 | M      | 2005   | 1      | 4      | mellow |  1175  | \n",
       "| 28     | 99.13  | 105.60 | M      | 2003   | 1      | 5      | mellow | 17334  | \n",
       "\n",
       "\n"
      ],
      "text/plain": [
       "  age net   gun    sex year previous nruns start_position orig.id\n",
       "1 54  90.00  90.28 F   2004 5        9     eager           5035  \n",
       "2 27  74.22  75.08 M   2001 1        8     eager             10  \n",
       "3 24  90.85  93.55 F   2000 0        4     calm            9271  \n",
       "4 39  91.70  95.18 F   2004 1        3     mellow           256  \n",
       "5 52  94.13  99.40 M   2005 1        4     mellow          1175  \n",
       "6 28  99.13 105.60 M   2003 1        5     mellow         17334  "
      ]
     },
     "metadata": {},
     "output_type": "display_data"
    }
   ],
   "source": [
    "Runners <- read.csv(\"Runners100.csv\")\n",
    "head(Runners)"
   ]
  },
  {
   "cell_type": "code",
   "execution_count": 7,
   "metadata": {},
   "outputs": [
    {
     "data": {
      "text/html": [
       "<ol class=list-inline>\n",
       "\t<li>'age'</li>\n",
       "\t<li>'net'</li>\n",
       "\t<li>'gun'</li>\n",
       "\t<li>'sex'</li>\n",
       "\t<li>'year'</li>\n",
       "\t<li>'previous'</li>\n",
       "\t<li>'nruns'</li>\n",
       "\t<li>'start_position'</li>\n",
       "\t<li>'orig.id'</li>\n",
       "</ol>\n"
      ],
      "text/latex": [
       "\\begin{enumerate*}\n",
       "\\item 'age'\n",
       "\\item 'net'\n",
       "\\item 'gun'\n",
       "\\item 'sex'\n",
       "\\item 'year'\n",
       "\\item 'previous'\n",
       "\\item 'nruns'\n",
       "\\item 'start\\_position'\n",
       "\\item 'orig.id'\n",
       "\\end{enumerate*}\n"
      ],
      "text/markdown": [
       "1. 'age'\n",
       "2. 'net'\n",
       "3. 'gun'\n",
       "4. 'sex'\n",
       "5. 'year'\n",
       "6. 'previous'\n",
       "7. 'nruns'\n",
       "8. 'start_position'\n",
       "9. 'orig.id'\n",
       "\n",
       "\n"
      ],
      "text/plain": [
       "[1] \"age\"            \"net\"            \"gun\"            \"sex\"           \n",
       "[5] \"year\"           \"previous\"       \"nruns\"          \"start_position\"\n",
       "[9] \"orig.id\"       "
      ]
     },
     "metadata": {},
     "output_type": "display_data"
    },
    {
     "data": {},
     "metadata": {},
     "output_type": "display_data"
    },
    {
     "data": {},
     "metadata": {},
     "output_type": "display_data"
    },
    {
     "data": {
      "image/png": "[encoded data removed]",
      "text/plain": [
       "plot without title"
      ]
     },
     "metadata": {},
     "output_type": "display_data"
    },
    {
     "data": {},
     "metadata": {},
     "output_type": "display_data"
    },
    {
     "data": {
      "image/png": "[encoded data removed]",
      "text/plain": [
       "plot without title"
      ]
     },
     "metadata": {},
     "output_type": "display_data"
    },
    {
     "data": {
      "image/png": "[encoded data removed]",
      "text/plain": [
       "plot without title"
      ]
     },
     "metadata": {},
     "output_type": "display_data"
    }
   ],
   "source": [
    "# Find the variable names in Runners \n",
    "names(Runners)\n",
    "\n",
    "# Build models: handicap_model_1, handicap_model_2, handicap_model_3 \n",
    "handicap_model_1 <- lm(net ~ age, data = Runners)\n",
    "handicap_model_2 <- lm(net ~ sex, data = Runners)\n",
    "handicap_model_3 <- lm(net ~ age + sex, data = Runners)\n",
    "\n",
    "# For now, here's a way to visualize the models\n",
    "statisticalModeling::fmodel(handicap_model_1)\n",
    "statisticalModeling::fmodel(handicap_model_2)\n",
    "statisticalModeling::fmodel(handicap_model_3)"
   ]
  },
  {
   "cell_type": "markdown",
   "metadata": {},
   "source": [
    "#### Using the recursive partitioning model architecture"
   ]
  },
  {
   "cell_type": "code",
   "execution_count": 26,
   "metadata": {},
   "outputs": [
    {
     "data": {},
     "metadata": {},
     "output_type": "display_data"
    },
    {
     "data": {},
     "metadata": {},
     "output_type": "display_data"
    },
    {
     "data": {
      "image/png": "[encoded data removed]",
      "text/plain": [
       "plot without title"
      ]
     },
     "metadata": {},
     "output_type": "display_data"
    },
    {
     "data": {
      "image/png": "[encoded data removed]",
      "text/plain": [
       "plot without title"
      ]
     },
     "metadata": {},
     "output_type": "display_data"
    }
   ],
   "source": [
    "Runners <- read.csv(\"Runners100.csv\")\n",
    "Ran_twice <- read.csv(\"Ran_twice.csv\")\n",
    "\n",
    "# Build rpart model: model_2\n",
    "model_2 <- rpart(net ~ age + sex, data = Runners, cp = 0.002)\n",
    "\n",
    "# Examine graph of model_2 (don't change)\n",
    "statisticalModeling::fmodel(model_2, ~ age + sex)\n",
    "\n",
    "# Create run_again_model\n",
    "run_again_model <- rpart(runs_again ~ age + sex + net, data = Ran_twice, cp = 0.005)\n",
    "\n",
    "# Visualize the model (don't change)\n",
    "statisticalModeling::fmodel(run_again_model, ~ age + net, data = Ran_twice)"
   ]
  },
  {
   "cell_type": "markdown",
   "metadata": {},
   "source": [
    "#### From inputs to outputs"
   ]
  },
  {
   "cell_type": "code",
   "execution_count": 11,
   "metadata": {},
   "outputs": [
    {
     "data": {
      "text/html": [
       "<ol class=list-inline>\n",
       "\t<li>'Age'</li>\n",
       "\t<li>'Sex'</li>\n",
       "\t<li>'Coverage'</li>\n",
       "\t<li>'Cost'</li>\n",
       "</ol>\n"
      ],
      "text/latex": [
       "\\begin{enumerate*}\n",
       "\\item 'Age'\n",
       "\\item 'Sex'\n",
       "\\item 'Coverage'\n",
       "\\item 'Cost'\n",
       "\\end{enumerate*}\n"
      ],
      "text/markdown": [
       "1. 'Age'\n",
       "2. 'Sex'\n",
       "3. 'Coverage'\n",
       "4. 'Cost'\n",
       "\n",
       "\n"
      ],
      "text/plain": [
       "[1] \"Age\"      \"Sex\"      \"Coverage\" \"Cost\"    "
      ]
     },
     "metadata": {},
     "output_type": "display_data"
    },
    {
     "data": {
      "text/html": [
       "<strong>1:</strong> 363.636963492064"
      ],
      "text/latex": [
       "\\textbf{1:} 363.636963492064"
      ],
      "text/markdown": [
       "**1:** 363.636963492064"
      ],
      "text/plain": [
       "      1 \n",
       "363.637 "
      ]
     },
     "metadata": {},
     "output_type": "display_data"
    },
    {
     "data": {
      "text/html": [
       "<table>\n",
       "<thead><tr><th scope=col>Age</th><th scope=col>Sex</th><th scope=col>Coverage</th><th scope=col>model_output</th></tr></thead>\n",
       "<tbody>\n",
       "\t<tr><td>60     </td><td>F      </td><td>200    </td><td>363.637</td></tr>\n",
       "</tbody>\n",
       "</table>\n"
      ],
      "text/latex": [
       "\\begin{tabular}{r|llll}\n",
       " Age & Sex & Coverage & model\\_output\\\\\n",
       "\\hline\n",
       "\t 60      & F       & 200     & 363.637\\\\\n",
       "\\end{tabular}\n"
      ],
      "text/markdown": [
       "\n",
       "Age | Sex | Coverage | model_output | \n",
       "|---|\n",
       "| 60      | F       | 200     | 363.637 | \n",
       "\n",
       "\n"
      ],
      "text/plain": [
       "  Age Sex Coverage model_output\n",
       "1 60  F   200      363.637     "
      ]
     },
     "metadata": {},
     "output_type": "display_data"
    }
   ],
   "source": [
    "# Display the variable names in the AARP data frame\n",
    "data(AARP, package = \"statisticalModeling\")\n",
    "names(AARP)\n",
    "\n",
    "# Build a model: insurance_cost_model\n",
    "insurance_cost_model <- lm(Cost ~ Age + Sex + Coverage, data = AARP)\n",
    "\n",
    "# Construct a data frame: example_vals \n",
    "example_vals <- data.frame(Age=60, Sex=\"F\", Coverage=200)\n",
    "\n",
    "# Predict insurance cost using predict()\n",
    "predict(insurance_cost_model, example_vals)\n",
    "\n",
    "# Load statisticalModeling\n",
    "library(statisticalModeling)\n",
    "\n",
    "# Calculate model output using evaluate_model()\n",
    "evaluate_model(insurance_cost_model, example_vals)"
   ]
  },
  {
   "cell_type": "markdown",
   "metadata": {},
   "source": [
    "#### Extrapolation"
   ]
  },
  {
   "cell_type": "code",
   "execution_count": 12,
   "metadata": {},
   "outputs": [
    {
     "data": {
      "text/html": [
       "<dl class=dl-horizontal>\n",
       "\t<dt>1</dt>\n",
       "\t\t<dd>-99.9872562881563</dd>\n",
       "\t<dt>2</dt>\n",
       "\t\t<dd>292.884345665446</dd>\n",
       "</dl>\n"
      ],
      "text/latex": [
       "\\begin{description*}\n",
       "\\item[1] -99.9872562881563\n",
       "\\item[2] 292.884345665446\n",
       "\\end{description*}\n"
      ],
      "text/markdown": [
       "1\n",
       ":   -99.98725628815632\n",
       ":   292.884345665446\n",
       "\n"
      ],
      "text/plain": [
       "        1         2 \n",
       "-99.98726 292.88435 "
      ]
     },
     "metadata": {},
     "output_type": "display_data"
    },
    {
     "data": {
      "text/html": [
       "<dl class=dl-horizontal>\n",
       "\t<dt>1</dt>\n",
       "\t\t<dd>-99.9872562881563</dd>\n",
       "\t<dt>2</dt>\n",
       "\t\t<dd>101.115029426129</dd>\n",
       "\t<dt>3</dt>\n",
       "\t\t<dd>-89.7544785103785</dd>\n",
       "\t<dt>4</dt>\n",
       "\t\t<dd>111.347807203907</dd>\n",
       "\t<dt>5</dt>\n",
       "\t\t<dd>81.5492821733822</dd>\n",
       "\t<dt>6</dt>\n",
       "\t\t<dd>282.651567887668</dd>\n",
       "\t<dt>7</dt>\n",
       "\t\t<dd>91.7820599511599</dd>\n",
       "\t<dt>8</dt>\n",
       "\t\t<dd>292.884345665446</dd>\n",
       "</dl>\n"
      ],
      "text/latex": [
       "\\begin{description*}\n",
       "\\item[1] -99.9872562881563\n",
       "\\item[2] 101.115029426129\n",
       "\\item[3] -89.7544785103785\n",
       "\\item[4] 111.347807203907\n",
       "\\item[5] 81.5492821733822\n",
       "\\item[6] 282.651567887668\n",
       "\\item[7] 91.7820599511599\n",
       "\\item[8] 292.884345665446\n",
       "\\end{description*}\n"
      ],
      "text/markdown": [
       "1\n",
       ":   -99.98725628815632\n",
       ":   101.1150294261293\n",
       ":   -89.75447851037854\n",
       ":   111.3478072039075\n",
       ":   81.54928217338226\n",
       ":   282.6515678876687\n",
       ":   91.78205995115998\n",
       ":   292.884345665446\n",
       "\n"
      ],
      "text/plain": [
       "        1         2         3         4         5         6         7         8 \n",
       "-99.98726 101.11503 -89.75448 111.34781  81.54928 282.65157  91.78206 292.88435 "
      ]
     },
     "metadata": {},
     "output_type": "display_data"
    },
    {
     "data": {
      "text/html": [
       "<table>\n",
       "<thead><tr><th scope=col>Age</th><th scope=col>Sex</th><th scope=col>Coverage</th><th scope=col>model_output</th></tr></thead>\n",
       "<tbody>\n",
       "\t<tr><td>30       </td><td>F        </td><td>  0      </td><td>-99.98726</td></tr>\n",
       "\t<tr><td>90       </td><td>M        </td><td>100      </td><td>292.88435</td></tr>\n",
       "</tbody>\n",
       "</table>\n"
      ],
      "text/latex": [
       "\\begin{tabular}{r|llll}\n",
       " Age & Sex & Coverage & model\\_output\\\\\n",
       "\\hline\n",
       "\t 30        & F         &   0       & -99.98726\\\\\n",
       "\t 90        & M         & 100       & 292.88435\\\\\n",
       "\\end{tabular}\n"
      ],
      "text/markdown": [
       "\n",
       "Age | Sex | Coverage | model_output | \n",
       "|---|---|\n",
       "| 30        | F         |   0       | -99.98726 | \n",
       "| 90        | M         | 100       | 292.88435 | \n",
       "\n",
       "\n"
      ],
      "text/plain": [
       "  Age Sex Coverage model_output\n",
       "1 30  F     0      -99.98726   \n",
       "2 90  M   100      292.88435   "
      ]
     },
     "metadata": {},
     "output_type": "display_data"
    },
    {
     "data": {
      "text/html": [
       "<table>\n",
       "<thead><tr><th scope=col>Age</th><th scope=col>Sex</th><th scope=col>Coverage</th><th scope=col>model_output</th></tr></thead>\n",
       "<tbody>\n",
       "\t<tr><td>30       </td><td>F        </td><td>  0      </td><td>-99.98726</td></tr>\n",
       "\t<tr><td>90       </td><td>F        </td><td>  0      </td><td>101.11503</td></tr>\n",
       "\t<tr><td>30       </td><td>M        </td><td>  0      </td><td>-89.75448</td></tr>\n",
       "\t<tr><td>90       </td><td>M        </td><td>  0      </td><td>111.34781</td></tr>\n",
       "\t<tr><td>30       </td><td>F        </td><td>100      </td><td> 81.54928</td></tr>\n",
       "\t<tr><td>90       </td><td>F        </td><td>100      </td><td>282.65157</td></tr>\n",
       "\t<tr><td>30       </td><td>M        </td><td>100      </td><td> 91.78206</td></tr>\n",
       "\t<tr><td>90       </td><td>M        </td><td>100      </td><td>292.88435</td></tr>\n",
       "</tbody>\n",
       "</table>\n"
      ],
      "text/latex": [
       "\\begin{tabular}{r|llll}\n",
       " Age & Sex & Coverage & model\\_output\\\\\n",
       "\\hline\n",
       "\t 30        & F         &   0       & -99.98726\\\\\n",
       "\t 90        & F         &   0       & 101.11503\\\\\n",
       "\t 30        & M         &   0       & -89.75448\\\\\n",
       "\t 90        & M         &   0       & 111.34781\\\\\n",
       "\t 30        & F         & 100       &  81.54928\\\\\n",
       "\t 90        & F         & 100       & 282.65157\\\\\n",
       "\t 30        & M         & 100       &  91.78206\\\\\n",
       "\t 90        & M         & 100       & 292.88435\\\\\n",
       "\\end{tabular}\n"
      ],
      "text/markdown": [
       "\n",
       "Age | Sex | Coverage | model_output | \n",
       "|---|---|---|---|---|---|---|---|\n",
       "| 30        | F         |   0       | -99.98726 | \n",
       "| 90        | F         |   0       | 101.11503 | \n",
       "| 30        | M         |   0       | -89.75448 | \n",
       "| 90        | M         |   0       | 111.34781 | \n",
       "| 30        | F         | 100       |  81.54928 | \n",
       "| 90        | F         | 100       | 282.65157 | \n",
       "| 30        | M         | 100       |  91.78206 | \n",
       "| 90        | M         | 100       | 292.88435 | \n",
       "\n",
       "\n"
      ],
      "text/plain": [
       "  Age Sex Coverage model_output\n",
       "1 30  F     0      -99.98726   \n",
       "2 90  F     0      101.11503   \n",
       "3 30  M     0      -89.75448   \n",
       "4 90  M     0      111.34781   \n",
       "5 30  F   100       81.54928   \n",
       "6 90  F   100      282.65157   \n",
       "7 30  M   100       91.78206   \n",
       "8 90  M   100      292.88435   "
      ]
     },
     "metadata": {},
     "output_type": "display_data"
    }
   ],
   "source": [
    "# Build a model: insurance_cost_model\n",
    "insurance_cost_model <- lm(Cost ~ Age + Sex + Coverage, data = AARP)\n",
    "\n",
    "# Create a data frame: new_inputs_1\n",
    "new_inputs_1 <- data.frame(Age = c(30,90), Sex = c(\"F\", \"M\"), \n",
    "                           Coverage = c(0,100))\n",
    "\n",
    "# Use expand.grid(): new_inputs_2\n",
    "# Create a Data Frame from All Combinations of Factor Variables\n",
    "new_inputs_2 <- expand.grid(Age = c(30,90), Sex = c(\"F\", \"M\"), \n",
    "                           Coverage = c(0,100))\n",
    "\n",
    "# Use predict() for new_inputs_1 and new_inputs_2\n",
    "predict(insurance_cost_model, newdata = new_inputs_1)\n",
    "predict(insurance_cost_model, newdata = new_inputs_2)\n",
    "\n",
    "# Use evaluate_model() for new_inputs_1 and new_inputs_2\n",
    "evaluate_model(insurance_cost_model, data = new_inputs_1)\n",
    "evaluate_model(insurance_cost_model, data = new_inputs_2)"
   ]
  },
  {
   "cell_type": "markdown",
   "metadata": {},
   "source": [
    "#### Typical values of data"
   ]
  },
  {
   "cell_type": "code",
   "execution_count": 13,
   "metadata": {},
   "outputs": [
    {
     "data": {
      "text/html": [
       "<table>\n",
       "<thead><tr><th scope=col>Age</th><th scope=col>Sex</th><th scope=col>Coverage</th><th scope=col>model_output</th></tr></thead>\n",
       "<tbody>\n",
       "\t<tr><td>40         </td><td>F          </td><td> 0         </td><td>-66.4702087</td></tr>\n",
       "\t<tr><td>60         </td><td>F          </td><td> 0         </td><td>  0.5638866</td></tr>\n",
       "\t<tr><td>80         </td><td>F          </td><td> 0         </td><td> 67.5979818</td></tr>\n",
       "\t<tr><td>40         </td><td>M          </td><td> 0         </td><td>-56.2374309</td></tr>\n",
       "\t<tr><td>60         </td><td>M          </td><td> 0         </td><td> 10.7966643</td></tr>\n",
       "\t<tr><td>80         </td><td>M          </td><td> 0         </td><td> 77.8307596</td></tr>\n",
       "\t<tr><td>40         </td><td>F          </td><td>50         </td><td> 24.2980606</td></tr>\n",
       "\t<tr><td>60         </td><td>F          </td><td>50         </td><td> 91.3321558</td></tr>\n",
       "\t<tr><td>80         </td><td>F          </td><td>50         </td><td>158.3662510</td></tr>\n",
       "\t<tr><td>40         </td><td>M          </td><td>50         </td><td> 34.5308383</td></tr>\n",
       "\t<tr><td>60         </td><td>M          </td><td>50         </td><td>101.5649336</td></tr>\n",
       "\t<tr><td>80         </td><td>M          </td><td>50         </td><td>168.5990288</td></tr>\n",
       "</tbody>\n",
       "</table>\n"
      ],
      "text/latex": [
       "\\begin{tabular}{r|llll}\n",
       " Age & Sex & Coverage & model\\_output\\\\\n",
       "\\hline\n",
       "\t 40          & F           &  0          & -66.4702087\\\\\n",
       "\t 60          & F           &  0          &   0.5638866\\\\\n",
       "\t 80          & F           &  0          &  67.5979818\\\\\n",
       "\t 40          & M           &  0          & -56.2374309\\\\\n",
       "\t 60          & M           &  0          &  10.7966643\\\\\n",
       "\t 80          & M           &  0          &  77.8307596\\\\\n",
       "\t 40          & F           & 50          &  24.2980606\\\\\n",
       "\t 60          & F           & 50          &  91.3321558\\\\\n",
       "\t 80          & F           & 50          & 158.3662510\\\\\n",
       "\t 40          & M           & 50          &  34.5308383\\\\\n",
       "\t 60          & M           & 50          & 101.5649336\\\\\n",
       "\t 80          & M           & 50          & 168.5990288\\\\\n",
       "\\end{tabular}\n"
      ],
      "text/markdown": [
       "\n",
       "Age | Sex | Coverage | model_output | \n",
       "|---|---|---|---|---|---|---|---|---|---|---|---|\n",
       "| 40          | F           |  0          | -66.4702087 | \n",
       "| 60          | F           |  0          |   0.5638866 | \n",
       "| 80          | F           |  0          |  67.5979818 | \n",
       "| 40          | M           |  0          | -56.2374309 | \n",
       "| 60          | M           |  0          |  10.7966643 | \n",
       "| 80          | M           |  0          |  77.8307596 | \n",
       "| 40          | F           | 50          |  24.2980606 | \n",
       "| 60          | F           | 50          |  91.3321558 | \n",
       "| 80          | F           | 50          | 158.3662510 | \n",
       "| 40          | M           | 50          |  34.5308383 | \n",
       "| 60          | M           | 50          | 101.5649336 | \n",
       "| 80          | M           | 50          | 168.5990288 | \n",
       "\n",
       "\n"
      ],
      "text/plain": [
       "   Age Sex Coverage model_output\n",
       "1  40  F    0       -66.4702087 \n",
       "2  60  F    0         0.5638866 \n",
       "3  80  F    0        67.5979818 \n",
       "4  40  M    0       -56.2374309 \n",
       "5  60  M    0        10.7966643 \n",
       "6  80  M    0        77.8307596 \n",
       "7  40  F   50        24.2980606 \n",
       "8  60  F   50        91.3321558 \n",
       "9  80  F   50       158.3662510 \n",
       "10 40  M   50        34.5308383 \n",
       "11 60  M   50       101.5649336 \n",
       "12 80  M   50       168.5990288 "
      ]
     },
     "metadata": {},
     "output_type": "display_data"
    },
    {
     "data": {},
     "metadata": {},
     "output_type": "display_data"
    },
    {
     "data": {},
     "metadata": {},
     "output_type": "display_data"
    },
    {
     "data": {
      "image/png": "[encoded data removed]",
      "text/plain": [
       "plot without title"
      ]
     },
     "metadata": {},
     "output_type": "display_data"
    },
    {
     "data": {
      "image/png": "[encoded data removed]",
      "text/plain": [
       "plot without title"
      ]
     },
     "metadata": {},
     "output_type": "display_data"
    }
   ],
   "source": [
    "# Evaluate insurance_cost_model\n",
    "evaluate_model(insurance_cost_model)\n",
    "\n",
    "# Use fmodel() to reproduce the graphic\n",
    "fmodel(insurance_cost_model, ~ Coverage + Age + Sex)\n",
    "\n",
    "# A new formula to highlight difference in sexes\n",
    "new_formula <- ~  Age + Sex + Coverage\n",
    "\n",
    "# Make the new plot (don't change)\n",
    "fmodel(insurance_cost_model, new_formula)"
   ]
  },
  {
   "cell_type": "markdown",
   "metadata": {
    "collapsed": true
   },
   "source": [
    "# <font color=blue>Chapter 3: Assessing prediction performance</font>"
   ]
  },
  {
   "cell_type": "markdown",
   "metadata": {},
   "source": [
    "#### Running experience"
   ]
  },
  {
   "cell_type": "code",
   "execution_count": 14,
   "metadata": {},
   "outputs": [
    {
     "data": {
      "text/html": [
       "0.51579209929211"
      ],
      "text/latex": [
       "0.51579209929211"
      ],
      "text/markdown": [
       "0.51579209929211"
      ],
      "text/plain": [
       "[1] 0.5157921"
      ]
     },
     "metadata": {},
     "output_type": "display_data"
    }
   ],
   "source": [
    "Runners <- read.csv(\"Runners100.csv\")\n",
    "Runners_100 <- Runners[1:100,]\n",
    "\n",
    "# Build a model of net running time\n",
    "base_model <- lm(net ~ age + sex, data = Runners_100)\n",
    "\n",
    "# Evaluate base_model on the training data\n",
    "base_model_output <- predict(base_model, newdata = Runners_100)\n",
    "\n",
    "# Build the augmented model\n",
    "aug_model <- lm(net ~ age + sex + previous, data = Runners_100)\n",
    "\n",
    "# Evaluate aug_model on the training data\n",
    "aug_model_output <- predict(aug_model, newdata = Runners_100)\n",
    "\n",
    "# How much do the model outputs differ?\n",
    "mean((base_model_output - aug_model_output) ^ 2, na.rm = TRUE)"
   ]
  },
  {
   "cell_type": "markdown",
   "metadata": {},
   "source": [
    "#### Prediction performance"
   ]
  },
  {
   "cell_type": "code",
   "execution_count": 15,
   "metadata": {},
   "outputs": [
    {
     "data": {
      "text/html": [
       "131.559431797163"
      ],
      "text/latex": [
       "131.559431797163"
      ],
      "text/markdown": [
       "131.559431797163"
      ],
      "text/plain": [
       "[1] 131.5594"
      ]
     },
     "metadata": {},
     "output_type": "display_data"
    },
    {
     "data": {
      "text/html": [
       "131.043639697871"
      ],
      "text/latex": [
       "131.043639697871"
      ],
      "text/markdown": [
       "131.043639697871"
      ],
      "text/plain": [
       "[1] 131.0436"
      ]
     },
     "metadata": {},
     "output_type": "display_data"
    }
   ],
   "source": [
    "# Build and evaluate the base model on Runners_100\n",
    "base_model <- lm(net ~ age + sex, data = Runners_100)\n",
    "base_model_output <- predict(base_model, newdata = Runners_100)\n",
    "\n",
    "# Build and evaluate the augmented model on Runners_100\n",
    "aug_model <- lm(net ~ age + sex + previous, data = Runners_100)\n",
    "aug_model_output <- predict(aug_model, newdata = Runners_100)\n",
    "\n",
    "# Find the case-by-case differences\n",
    "base_model_differences <- with(Runners_100, net - base_model_output)\n",
    "aug_model_differences <- with(Runners_100, net - aug_model_output)\n",
    "\n",
    "# Calculate mean square errors\n",
    "mean(base_model_differences ^ 2)\n",
    "mean(aug_model_differences ^ 2)"
   ]
  },
  {
   "cell_type": "markdown",
   "metadata": {},
   "source": [
    "#### Where's the statistics?"
   ]
  },
  {
   "cell_type": "code",
   "execution_count": 16,
   "metadata": {},
   "outputs": [
    {
     "data": {
      "text/html": [
       "19.7330813934437"
      ],
      "text/latex": [
       "19.7330813934437"
      ],
      "text/markdown": [
       "19.7330813934437"
      ],
      "text/plain": [
       "[1] 19.73308"
      ]
     },
     "metadata": {},
     "output_type": "display_data"
    },
    {
     "data": {
      "text/html": [
       "19.7052102488924"
      ],
      "text/latex": [
       "19.7052102488924"
      ],
      "text/markdown": [
       "19.7052102488924"
      ],
      "text/plain": [
       "[1] 19.70521"
      ]
     },
     "metadata": {},
     "output_type": "display_data"
    }
   ],
   "source": [
    "library(mosaicData)\n",
    "data(CPS85)\n",
    "\n",
    "# Add bogus column to CPS85 (don't change)\n",
    "CPS85$bogus <- rnorm(nrow(CPS85)) > 0\n",
    "\n",
    "# Make the base model\n",
    "base_model <- lm(wage ~ educ + sector + sex, data = CPS85)\n",
    "\n",
    "# Make the bogus augmented model\n",
    "aug_model <- lm(wage ~ educ + sector + sex + bogus, data = CPS85)\n",
    "\n",
    "# Find the MSE of the base model\n",
    "mean((CPS85$wage - predict(base_model, newdata = CPS85)) ^ 2)\n",
    "\n",
    "# Find the MSE of the augmented model\n",
    "mean((CPS85$wage -  predict(aug_model, newdata = CPS85))^2)"
   ]
  },
  {
   "cell_type": "markdown",
   "metadata": {},
   "source": [
    "#### Tidying up"
   ]
  },
  {
   "cell_type": "code",
   "execution_count": 17,
   "metadata": {},
   "outputs": [
    {
     "data": {
      "text/html": [
       "131.559431797163"
      ],
      "text/latex": [
       "131.559431797163"
      ],
      "text/markdown": [
       "131.559431797163"
      ],
      "text/plain": [
       "[1] 131.5594"
      ]
     },
     "metadata": {},
     "output_type": "display_data"
    },
    {
     "data": {
      "text/html": [
       "<ol class=list-inline>\n",
       "\t<li>'age'</li>\n",
       "\t<li>'net'</li>\n",
       "\t<li>'gun'</li>\n",
       "\t<li>'sex'</li>\n",
       "\t<li>'year'</li>\n",
       "\t<li>'previous'</li>\n",
       "\t<li>'nruns'</li>\n",
       "\t<li>'start_position'</li>\n",
       "\t<li>'orig.id'</li>\n",
       "\t<li>'model_output'</li>\n",
       "</ol>\n"
      ],
      "text/latex": [
       "\\begin{enumerate*}\n",
       "\\item 'age'\n",
       "\\item 'net'\n",
       "\\item 'gun'\n",
       "\\item 'sex'\n",
       "\\item 'year'\n",
       "\\item 'previous'\n",
       "\\item 'nruns'\n",
       "\\item 'start\\_position'\n",
       "\\item 'orig.id'\n",
       "\\item 'model\\_output'\n",
       "\\end{enumerate*}\n"
      ],
      "text/markdown": [
       "1. 'age'\n",
       "2. 'net'\n",
       "3. 'gun'\n",
       "4. 'sex'\n",
       "5. 'year'\n",
       "6. 'previous'\n",
       "7. 'nruns'\n",
       "8. 'start_position'\n",
       "9. 'orig.id'\n",
       "10. 'model_output'\n",
       "\n",
       "\n"
      ],
      "text/plain": [
       " [1] \"age\"            \"net\"            \"gun\"            \"sex\"           \n",
       " [5] \"year\"           \"previous\"       \"nruns\"          \"start_position\"\n",
       " [9] \"orig.id\"        \"model_output\"  "
      ]
     },
     "metadata": {},
     "output_type": "display_data"
    }
   ],
   "source": [
    "suppressMessages(library(statisticalModeling))\n",
    "Runners <- read.csv(\"Runners100.csv\")\n",
    "\n",
    "mod <- lm(net ~ age + sex, data = Runners)\n",
    "out <- predict(mod, newdata = Runners)\n",
    "\n",
    "out2 <- evaluate_model(mod, data = Runners)\n",
    "with(data = out2, mean((net - model_output) ^ 2, na.rm = TRUE))\n",
    "\n",
    "names(out2)"
   ]
  },
  {
   "cell_type": "markdown",
   "metadata": {},
   "source": [
    "#### Testing and training datasets"
   ]
  },
  {
   "cell_type": "code",
   "execution_count": 18,
   "metadata": {},
   "outputs": [
    {
     "data": {
      "text/html": [
       "143.463403697355"
      ],
      "text/latex": [
       "143.463403697355"
      ],
      "text/markdown": [
       "143.463403697355"
      ],
      "text/plain": [
       "[1] 143.4634"
      ]
     },
     "metadata": {},
     "output_type": "display_data"
    }
   ],
   "source": [
    "Runners <- read.csv(\"Runners100.csv\")\n",
    "Runners_100 <- Runners[1:100,]\n",
    "\n",
    "# Generate a random TRUE or FALSE for each case in Runners_100\n",
    "Runners_100$training_cases <- rnorm(nrow(Runners_100)) > 0\n",
    "\n",
    "# Build base model net ~ age + sex with training cases\n",
    "base_model <- lm(net ~ age + sex, data = subset(Runners_100, training_cases))\n",
    "\n",
    "# Evaluate the model for the testing cases\n",
    "Preds <- evaluate_model(base_model, data = subset(Runners_100, !training_cases))\n",
    "\n",
    "# Calculate the MSE on the testing data\n",
    "with(data = Preds, mean((net - model_output)^2))"
   ]
  },
  {
   "cell_type": "markdown",
   "metadata": {},
   "source": [
    "#### Repeating random trials"
   ]
  },
  {
   "cell_type": "markdown",
   "metadata": {},
   "source": [
    "Since the result of cross validation varies from trial to trial, it's helpful to run many trials so that you can see how much variation there is. As you'll see, this will be a common process as you move through the course.\n",
    "\n",
    "To simplify things, the cv_pred_error() function in the statisticalModeling package will carry out this repetitive process for you. All you need do is provide one or more models as input to cv_pred_error(); the function will do all the work of creating training and testing sets for each trial and calculating the mean square error for each trial.\n",
    "\n",
    "In-Sample Fehler ist kleiner als der durchschnittliche Fehler bei der Cross-Validierung."
   ]
  },
  {
   "cell_type": "code",
   "execution_count": 19,
   "metadata": {},
   "outputs": [
    {
     "data": {
      "text/html": [
       "<table>\n",
       "<thead><tr><th scope=col>mse</th><th scope=col>model</th></tr></thead>\n",
       "<tbody>\n",
       "\t<tr><td>144.0722</td><td>model   </td></tr>\n",
       "\t<tr><td>141.7224</td><td>model   </td></tr>\n",
       "\t<tr><td>138.7047</td><td>model   </td></tr>\n",
       "\t<tr><td>139.3440</td><td>model   </td></tr>\n",
       "\t<tr><td>141.2182</td><td>model   </td></tr>\n",
       "</tbody>\n",
       "</table>\n"
      ],
      "text/latex": [
       "\\begin{tabular}{r|ll}\n",
       " mse & model\\\\\n",
       "\\hline\n",
       "\t 144.0722 & model   \\\\\n",
       "\t 141.7224 & model   \\\\\n",
       "\t 138.7047 & model   \\\\\n",
       "\t 139.3440 & model   \\\\\n",
       "\t 141.2182 & model   \\\\\n",
       "\\end{tabular}\n"
      ],
      "text/markdown": [
       "\n",
       "mse | model | \n",
       "|---|---|---|---|---|\n",
       "| 144.0722 | model    | \n",
       "| 141.7224 | model    | \n",
       "| 138.7047 | model    | \n",
       "| 139.3440 | model    | \n",
       "| 141.2182 | model    | \n",
       "\n",
       "\n"
      ],
      "text/plain": [
       "  mse      model\n",
       "1 144.0722 model\n",
       "2 141.7224 model\n",
       "3 138.7047 model\n",
       "4 139.3440 model\n",
       "5 141.2182 model"
      ]
     },
     "metadata": {},
     "output_type": "display_data"
    },
    {
     "name": "stdout",
     "output_type": "stream",
     "text": [
      "~mse\n"
     ]
    },
    {
     "data": {
      "text/plain": [
       "\n",
       "\tOne Sample t-test\n",
       "\n",
       "data:  mse\n",
       "t = 9.9592, df = 4, p-value = 0.000571\n",
       "alternative hypothesis: true mean is not equal to 131.5594\n",
       "95 percent confidence interval:\n",
       " 138.3770 143.6476\n",
       "sample estimates:\n",
       "mean of x \n",
       " 141.0123 \n"
      ]
     },
     "metadata": {},
     "output_type": "display_data"
    },
    {
     "data": {
      "text/html": [
       "131.559431797163"
      ],
      "text/latex": [
       "131.559431797163"
      ],
      "text/markdown": [
       "131.559431797163"
      ],
      "text/plain": [
       "[1] 131.5594"
      ]
     },
     "metadata": {},
     "output_type": "display_data"
    }
   ],
   "source": [
    "Runners <- read.csv(\"Runners100.csv\")\n",
    "Runners_100 <- Runners[1:100,]\n",
    "\n",
    "# The model\n",
    "model <- lm(net ~ age + sex, data = Runners_100)\n",
    "\n",
    "# Find the in-sample error (using the training data)\n",
    "in_sample <- evaluate_model(model, data = Runners_100)\n",
    "in_sample_error <- \n",
    "  with(in_sample, mean((net - model_output)^2, na.rm = TRUE))\n",
    "\n",
    "# Calculate MSE for many different trials\n",
    "trials <- cv_pred_error(model)\n",
    "\n",
    "# View the cross-validated prediction errors\n",
    "trials\n",
    "\n",
    "# Find confidence interval on trials and compare to training_error\n",
    "mosaic::t.test(~ mse, mu = in_sample_error, data = trials)\n",
    "in_sample_error"
   ]
  },
  {
   "cell_type": "markdown",
   "metadata": {},
   "source": [
    "#### To add or not to add (an explanatory variable)?\n",
    "Es werden die durchschnittlichen CV-Fehler für zwei Modelle miteinander vergleichen."
   ]
  },
  {
   "cell_type": "code",
   "execution_count": 20,
   "metadata": {},
   "outputs": [
    {
     "name": "stdout",
     "output_type": "stream",
     "text": [
      "mse ~ model\n"
     ]
    },
    {
     "data": {
      "text/plain": [
       "\n",
       "\tWelch Two Sample t-test\n",
       "\n",
       "data:  mse by model\n",
       "t = 0.082946, df = 7.4893, p-value = 0.9361\n",
       "alternative hypothesis: true difference in means is not equal to 0\n",
       "95 percent confidence interval:\n",
       " -3.857477  4.141798\n",
       "sample estimates:\n",
       " mean in group aug_model mean in group base_model \n",
       "                141.3604                 141.2183 \n"
      ]
     },
     "metadata": {},
     "output_type": "display_data"
    }
   ],
   "source": [
    "Runners <- read.csv(\"Runners100.csv\")\n",
    "Runners_100 <- Runners[1:100,]\n",
    "\n",
    "# The base model\n",
    "base_model <- lm(net ~ age + sex, data = Runners_100)\n",
    "\n",
    "# An augmented model adding previous as an explanatory variable\n",
    "aug_model <- lm(net ~ age + sex + previous, data = Runners_100)\n",
    "\n",
    "# Run cross validation trials on the two models\n",
    "trials <- cv_pred_error(base_model, aug_model)\n",
    "\n",
    "# Compare the two sets of cross-validated errors\n",
    "t.test(mse ~ model, data = trials)"
   ]
  },
  {
   "cell_type": "markdown",
   "metadata": {
    "collapsed": true
   },
   "source": [
    "# <font color=blue>Chapter 4: Exploring data with models</font>"
   ]
  },
  {
   "cell_type": "markdown",
   "metadata": {},
   "source": [
    "#### The maximum error rate"
   ]
  },
  {
   "cell_type": "code",
   "execution_count": 21,
   "metadata": {},
   "outputs": [
    {
     "data": {
      "text/html": [
       "0.51"
      ],
      "text/latex": [
       "0.51"
      ],
      "text/markdown": [
       "0.51"
      ],
      "text/plain": [
       "[1] 0.51"
      ]
     },
     "metadata": {},
     "output_type": "display_data"
    },
    {
     "data": {
      "text/html": [
       "0.56"
      ],
      "text/latex": [
       "0.56"
      ],
      "text/markdown": [
       "0.56"
      ],
      "text/plain": [
       "[1] 0.56"
      ]
     },
     "metadata": {},
     "output_type": "display_data"
    }
   ],
   "source": [
    "Runners <- read.csv(\"Runners100.csv\")\n",
    "# Build the null model with rpart()\n",
    "Runners$all_the_same <- 1 # null \"explanatory\" variable\n",
    "null_model <- rpart(start_position ~ all_the_same, data = Runners)\n",
    "\n",
    "# Evaluate the null model on training data\n",
    "null_model_output <- evaluate_model(null_model, data = Runners, type = \"class\")\n",
    "\n",
    "# Calculate the error rate\n",
    "with(data = null_model_output, mean(model_output != start_position, na.rm = TRUE))\n",
    "\n",
    "# Generate a random guess...\n",
    "null_model_output$random_guess <- mosaic::shuffle(Runners$start_position)\n",
    "\n",
    "# ...and find the error rate\n",
    "with(data = null_model_output, mean(start_position != random_guess, na.rm = TRUE))"
   ]
  },
  {
   "cell_type": "markdown",
   "metadata": {},
   "source": [
    "#### A non-null model"
   ]
  },
  {
   "cell_type": "code",
   "execution_count": 22,
   "metadata": {},
   "outputs": [
    {
     "data": {
      "text/html": [
       "0.39"
      ],
      "text/latex": [
       "0.39"
      ],
      "text/markdown": [
       "0.39"
      ],
      "text/plain": [
       "[1] 0.39"
      ]
     },
     "metadata": {},
     "output_type": "display_data"
    }
   ],
   "source": [
    "Runners <- read.csv(\"Runners100.csv\")\n",
    "# Train the model\n",
    "model <- rpart(start_position ~ age + sex, data = Runners, cp = 0.001)\n",
    "\n",
    "# Get model output with the training data as input\n",
    "model_output <- evaluate_model(model, data = Runners, type = \"class\")\n",
    "\n",
    "# Find the error rate\n",
    "with(data = model_output, mean(model_output != start_position, na.rm = TRUE))"
   ]
  },
  {
   "cell_type": "markdown",
   "metadata": {},
   "source": [
    "#### A better model?"
   ]
  },
  {
   "cell_type": "code",
   "execution_count": 23,
   "metadata": {},
   "outputs": [
    {
     "data": {
      "text/html": [
       "0.518518518518518"
      ],
      "text/latex": [
       "0.518518518518518"
      ],
      "text/markdown": [
       "0.518518518518518"
      ],
      "text/plain": [
       "[1] 0.5185185"
      ]
     },
     "metadata": {},
     "output_type": "display_data"
    },
    {
     "data": {
      "text/html": [
       "0.481481481481481"
      ],
      "text/latex": [
       "0.481481481481481"
      ],
      "text/markdown": [
       "0.481481481481481"
      ],
      "text/plain": [
       "[1] 0.4814815"
      ]
     },
     "metadata": {},
     "output_type": "display_data"
    },
    {
     "data": {
      "text/html": [
       "0.407407407407407"
      ],
      "text/latex": [
       "0.407407407407407"
      ],
      "text/markdown": [
       "0.407407407407407"
      ],
      "text/plain": [
       "[1] 0.4074074"
      ]
     },
     "metadata": {},
     "output_type": "display_data"
    }
   ],
   "source": [
    "Runners <- read.csv(\"Runners100.csv\")\n",
    "Runners$all_the_same <- 1\n",
    "\n",
    "train <- rbinom(nrow(Runners), 1, 0.8)\n",
    "test <- !train\n",
    "\n",
    "Training_data <- Runners[which(train == 1),]\n",
    "Testing_data <- Runners[which(test == 1),]\n",
    "\n",
    "\n",
    "# Train the models \n",
    "null_model <- rpart(start_position ~ all_the_same,\n",
    "                    data = Training_data, cp = 0.001)\n",
    "model_1 <- rpart(start_position ~ age, \n",
    "                 data = Training_data, cp = 0.001)\n",
    "model_2 <- rpart(start_position ~ age + sex, \n",
    "                 data = Training_data, cp = 0.001)\n",
    "\n",
    "# Find the out-of-sample error rate\n",
    "null_output <- evaluate_model(null_model, data = Testing_data, type = \"class\")\n",
    "model_1_output <- evaluate_model(model_1, data = Testing_data, type = \"class\")\n",
    "model_2_output <- evaluate_model(model_2, data = Testing_data, type = \"class\")\n",
    "\n",
    "# Calculate the error rates\n",
    "null_rate <- with(data = null_output, \n",
    "                  mean(model_output != start_position, na.rm = TRUE))\n",
    "model_1_rate <- with(data = model_1_output, \n",
    "                  mean(model_output != start_position, na.rm = TRUE))\n",
    "model_2_rate <- with(data = model_2_output, \n",
    "                  mean(model_output != start_position, na.rm = TRUE))\n",
    "\n",
    "# Display the error rates\n",
    "null_rate\n",
    "model_1_rate\n",
    "model_2_rate\n"
   ]
  },
  {
   "cell_type": "markdown",
   "metadata": {},
   "source": [
    "#### Evaluating a recursive partitioning model"
   ]
  },
  {
   "cell_type": "code",
   "execution_count": 24,
   "metadata": {},
   "outputs": [
    {
     "data": {
      "image/png": "[encoded data removed]",
      "text/plain": [
       "plot without title"
      ]
     },
     "metadata": {},
     "output_type": "display_data"
    }
   ],
   "source": [
    "Runners <- read.csv(\"Runners100.csv\")\n",
    "model <- rpart(net ~ age + sex, data = Runners, cp = 0.001)\n",
    "\n",
    "# The prp() function plots the model as a tree.\n",
    "prp(model, type = 3)"
   ]
  },
  {
   "cell_type": "markdown",
   "metadata": {},
   "source": [
    "#### Exploring birth-weight data"
   ]
  },
  {
   "cell_type": "code",
   "execution_count": 25,
   "metadata": {},
   "outputs": [
    {
     "data": {
      "image/png": "[encoded data removed]",
      "text/plain": [
       "plot without title"
      ]
     },
     "metadata": {},
     "output_type": "display_data"
    }
   ],
   "source": [
    "model <- rpart(baby_wt ~ smoke + income + mother_age + mother_wt, data = Birth_weight)\n",
    "prp(model, type = 3)"
   ]
  },
  {
   "cell_type": "markdown",
   "metadata": {
    "collapsed": true
   },
   "source": [
    "# <font color=blue>Chapter 5: Covariates and effect size</font>"
   ]
  },
  {
   "cell_type": "markdown",
   "metadata": {
    "collapsed": true
   },
   "source": [
    "#### House prices"
   ]
  },
  {
   "cell_type": "code",
   "execution_count": 27,
   "metadata": {},
   "outputs": [
    {
     "data": {
      "text/html": [
       "<table>\n",
       "<thead><tr><th scope=col>fireplaces</th><th scope=col>model_output</th></tr></thead>\n",
       "<tbody>\n",
       "\t<tr><td>0       </td><td>171823.9</td></tr>\n",
       "\t<tr><td>1       </td><td>238522.7</td></tr>\n",
       "</tbody>\n",
       "</table>\n"
      ],
      "text/latex": [
       "\\begin{tabular}{r|ll}\n",
       " fireplaces & model\\_output\\\\\n",
       "\\hline\n",
       "\t 0        & 171823.9\\\\\n",
       "\t 1        & 238522.7\\\\\n",
       "\\end{tabular}\n"
      ],
      "text/markdown": [
       "\n",
       "fireplaces | model_output | \n",
       "|---|---|\n",
       "| 0        | 171823.9 | \n",
       "| 1        | 238522.7 | \n",
       "\n",
       "\n"
      ],
      "text/plain": [
       "  fireplaces model_output\n",
       "1 0          171823.9    \n",
       "2 1          238522.7    "
      ]
     },
     "metadata": {},
     "output_type": "display_data"
    },
    {
     "data": {
      "text/html": [
       "<table>\n",
       "<thead><tr><th scope=col>fireplaces</th><th scope=col>living_area</th><th scope=col>model_output</th></tr></thead>\n",
       "<tbody>\n",
       "\t<tr><td>0       </td><td>1000    </td><td>124043.6</td></tr>\n",
       "\t<tr><td>1       </td><td>1000    </td><td>133006.1</td></tr>\n",
       "\t<tr><td>0       </td><td>2000    </td><td>233357.1</td></tr>\n",
       "\t<tr><td>1       </td><td>2000    </td><td>242319.5</td></tr>\n",
       "\t<tr><td>0       </td><td>3000    </td><td>342670.6</td></tr>\n",
       "\t<tr><td>1       </td><td>3000    </td><td>351633.0</td></tr>\n",
       "</tbody>\n",
       "</table>\n"
      ],
      "text/latex": [
       "\\begin{tabular}{r|lll}\n",
       " fireplaces & living\\_area & model\\_output\\\\\n",
       "\\hline\n",
       "\t 0        & 1000     & 124043.6\\\\\n",
       "\t 1        & 1000     & 133006.1\\\\\n",
       "\t 0        & 2000     & 233357.1\\\\\n",
       "\t 1        & 2000     & 242319.5\\\\\n",
       "\t 0        & 3000     & 342670.6\\\\\n",
       "\t 1        & 3000     & 351633.0\\\\\n",
       "\\end{tabular}\n"
      ],
      "text/markdown": [
       "\n",
       "fireplaces | living_area | model_output | \n",
       "|---|---|---|---|---|---|\n",
       "| 0        | 1000     | 124043.6 | \n",
       "| 1        | 1000     | 133006.1 | \n",
       "| 0        | 2000     | 233357.1 | \n",
       "| 1        | 2000     | 242319.5 | \n",
       "| 0        | 3000     | 342670.6 | \n",
       "| 1        | 3000     | 351633.0 | \n",
       "\n",
       "\n"
      ],
      "text/plain": [
       "  fireplaces living_area model_output\n",
       "1 0          1000        124043.6    \n",
       "2 1          1000        133006.1    \n",
       "3 0          2000        233357.1    \n",
       "4 1          2000        242319.5    \n",
       "5 0          3000        342670.6    \n",
       "6 1          3000        351633.0    "
      ]
     },
     "metadata": {},
     "output_type": "display_data"
    }
   ],
   "source": [
    "library(statisticalModeling)\n",
    "data(Houses_for_sale)\n",
    "\n",
    "# Train the model price ~ fireplaces\n",
    "simple_model <- lm(price ~ fireplaces, data = Houses_for_sale)\n",
    "\n",
    "# Evaluate simple_model\n",
    "evaluate_model(simple_model)\n",
    "\n",
    "# Calculate the difference in model price\n",
    "naive_worth <- 238522.7 - 171823.9\n",
    "\n",
    "# Train another model including living_area\n",
    "sophisticated_model <-lm(price ~ fireplaces + living_area, data = Houses_for_sale)\n",
    "\n",
    "# Evaluate that model\n",
    "evaluate_model(sophisticated_model)\n",
    "\n",
    "# Find price difference for fixed living_area\n",
    "sophisticated_worth <-  242319.5 - 233357.1"
   ]
  },
  {
   "cell_type": "markdown",
   "metadata": {},
   "source": [
    "#### Crime and poverty"
   ]
  },
  {
   "cell_type": "markdown",
   "metadata": {},
   "source": [
    "-  Using a linear architecture and the Crime data, train model_1 and model_2 with formulas R ~ X and R ~ W, respectively.\n",
    "-  Find the output of each model using evaluate_model().\n",
    "-  Copy and paste values from the evaluate_model() output to calculate for each model the change in crime rate from the first level of the explanatory variable to the second level (i.e. X = 100 to X = 200 and W = 400 to W = 600).\n",
    "-  Using lm(), train model_3 with the formula R ~ X + W. In effect, X serves as a covariate for W and vice versa.\n",
    "-  Evaluate model_3.\n",
    "-  Again, copy and paste values from the evaluate_model() output to calculate the change in crime rate associated with a decrease of 100 (from 300 to 200) in X, holding W constant at 600. Call this change_with_X_holding_W_constant. Likewise, calculate the change in crime rate associated with a decrease of 200 (from 600 to 400) in W, holding X constant at 200. Call this change_with_W_holding_X_constant. Note that you get very different results with and without covariates."
   ]
  },
  {
   "cell_type": "code",
   "execution_count": 31,
   "metadata": {},
   "outputs": [
    {
     "data": {
      "text/html": [
       "<table>\n",
       "<thead><tr><th scope=col>X</th><th scope=col>model_output</th></tr></thead>\n",
       "<tbody>\n",
       "\t<tr><td>100      </td><td>106.82223</td></tr>\n",
       "\t<tr><td>200      </td><td> 89.46721</td></tr>\n",
       "\t<tr><td>300      </td><td> 72.11219</td></tr>\n",
       "</tbody>\n",
       "</table>\n"
      ],
      "text/latex": [
       "\\begin{tabular}{r|ll}\n",
       " X & model\\_output\\\\\n",
       "\\hline\n",
       "\t 100       & 106.82223\\\\\n",
       "\t 200       &  89.46721\\\\\n",
       "\t 300       &  72.11219\\\\\n",
       "\\end{tabular}\n"
      ],
      "text/markdown": [
       "\n",
       "X | model_output | \n",
       "|---|---|---|\n",
       "| 100       | 106.82223 | \n",
       "| 200       |  89.46721 | \n",
       "| 300       |  72.11219 | \n",
       "\n",
       "\n"
      ],
      "text/plain": [
       "  X   model_output\n",
       "1 100 106.82223   \n",
       "2 200  89.46721   \n",
       "3 300  72.11219   "
      ]
     },
     "metadata": {},
     "output_type": "display_data"
    },
    {
     "data": {
      "text/html": [
       "<table>\n",
       "<thead><tr><th scope=col>W</th><th scope=col>model_output</th></tr></thead>\n",
       "<tbody>\n",
       "\t<tr><td>400      </td><td> 68.32909</td></tr>\n",
       "\t<tr><td>600      </td><td>103.70777</td></tr>\n",
       "\t<tr><td>800      </td><td>139.08644</td></tr>\n",
       "</tbody>\n",
       "</table>\n"
      ],
      "text/latex": [
       "\\begin{tabular}{r|ll}\n",
       " W & model\\_output\\\\\n",
       "\\hline\n",
       "\t 400       &  68.32909\\\\\n",
       "\t 600       & 103.70777\\\\\n",
       "\t 800       & 139.08644\\\\\n",
       "\\end{tabular}\n"
      ],
      "text/markdown": [
       "\n",
       "W | model_output | \n",
       "|---|---|---|\n",
       "| 400       |  68.32909 | \n",
       "| 600       | 103.70777 | \n",
       "| 800       | 139.08644 | \n",
       "\n",
       "\n"
      ],
      "text/plain": [
       "  W   model_output\n",
       "1 400  68.32909   \n",
       "2 600 103.70777   \n",
       "3 800 139.08644   "
      ]
     },
     "metadata": {},
     "output_type": "display_data"
    },
    {
     "data": {
      "text/html": [
       "<table>\n",
       "<thead><tr><th scope=col>X</th><th scope=col>W</th><th scope=col>model_output</th></tr></thead>\n",
       "<tbody>\n",
       "\t<tr><td>100      </td><td>400      </td><td>-62.60510</td></tr>\n",
       "\t<tr><td>200      </td><td>400      </td><td> 31.03422</td></tr>\n",
       "\t<tr><td>300      </td><td>400      </td><td>124.67354</td></tr>\n",
       "\t<tr><td>100      </td><td>600      </td><td> 41.22502</td></tr>\n",
       "\t<tr><td>200      </td><td>600      </td><td>134.86434</td></tr>\n",
       "\t<tr><td>300      </td><td>600      </td><td>228.50366</td></tr>\n",
       "\t<tr><td>100      </td><td>800      </td><td>145.05515</td></tr>\n",
       "\t<tr><td>200      </td><td>800      </td><td>238.69447</td></tr>\n",
       "\t<tr><td>300      </td><td>800      </td><td>332.33379</td></tr>\n",
       "</tbody>\n",
       "</table>\n"
      ],
      "text/latex": [
       "\\begin{tabular}{r|lll}\n",
       " X & W & model\\_output\\\\\n",
       "\\hline\n",
       "\t 100       & 400       & -62.60510\\\\\n",
       "\t 200       & 400       &  31.03422\\\\\n",
       "\t 300       & 400       & 124.67354\\\\\n",
       "\t 100       & 600       &  41.22502\\\\\n",
       "\t 200       & 600       & 134.86434\\\\\n",
       "\t 300       & 600       & 228.50366\\\\\n",
       "\t 100       & 800       & 145.05515\\\\\n",
       "\t 200       & 800       & 238.69447\\\\\n",
       "\t 300       & 800       & 332.33379\\\\\n",
       "\\end{tabular}\n"
      ],
      "text/markdown": [
       "\n",
       "X | W | model_output | \n",
       "|---|---|---|---|---|---|---|---|---|\n",
       "| 100       | 400       | -62.60510 | \n",
       "| 200       | 400       |  31.03422 | \n",
       "| 300       | 400       | 124.67354 | \n",
       "| 100       | 600       |  41.22502 | \n",
       "| 200       | 600       | 134.86434 | \n",
       "| 300       | 600       | 228.50366 | \n",
       "| 100       | 800       | 145.05515 | \n",
       "| 200       | 800       | 238.69447 | \n",
       "| 300       | 800       | 332.33379 | \n",
       "\n",
       "\n"
      ],
      "text/plain": [
       "  X   W   model_output\n",
       "1 100 400 -62.60510   \n",
       "2 200 400  31.03422   \n",
       "3 300 400 124.67354   \n",
       "4 100 600  41.22502   \n",
       "5 200 600 134.86434   \n",
       "6 300 600 228.50366   \n",
       "7 100 800 145.05515   \n",
       "8 200 800 238.69447   \n",
       "9 300 800 332.33379   "
      ]
     },
     "metadata": {},
     "output_type": "display_data"
    }
   ],
   "source": [
    "library(statisticalModeling)\n",
    "data(Houses_for_sale)\n",
    "\n",
    "# Train model_1 and model_2\n",
    "model_1 <- lm(R ~ X, data = Crime)\n",
    "model_2 <- lm(R ~ W, data = Crime)\n",
    "\n",
    "# Evaluate each model...\n",
    "evaluate_model(model_1)\n",
    "evaluate_model(model_2)\n",
    "\n",
    "# ...and calculate the difference in output for each\n",
    "change_with_X <-  106.82223 - 89.46721\n",
    "change_with_W <-  68.32909 - 103.70777\n",
    "\n",
    "# Train model_3 using both X and W as explanatory variables\n",
    "model_3 <- lm(R ~ X + W, data = Crime)\n",
    "\n",
    "# Evaluate model_3\n",
    "evaluate_model(model_3)\n",
    "\n",
    "# Find the difference in output for each of X and W\n",
    "change_with_X_holding_W_constant <- 228.50366 - 134.86434\n",
    "change_with_W_holding_X_constant <- 134.86434 - 31.03422"
   ]
  },
  {
   "cell_type": "markdown",
   "metadata": {},
   "source": [
    "#### Equal pay?"
   ]
  },
  {
   "cell_type": "code",
   "execution_count": 32,
   "metadata": {},
   "outputs": [
    {
     "data": {
      "text/html": [
       "<table>\n",
       "<thead><tr><th scope=col>sex</th><th scope=col>model_output</th></tr></thead>\n",
       "<tbody>\n",
       "\t<tr><td>M       </td><td>40236.35</td></tr>\n",
       "\t<tr><td>F       </td><td>35501.25</td></tr>\n",
       "</tbody>\n",
       "</table>\n"
      ],
      "text/latex": [
       "\\begin{tabular}{r|ll}\n",
       " sex & model\\_output\\\\\n",
       "\\hline\n",
       "\t M        & 40236.35\\\\\n",
       "\t F        & 35501.25\\\\\n",
       "\\end{tabular}\n"
      ],
      "text/markdown": [
       "\n",
       "sex | model_output | \n",
       "|---|---|\n",
       "| M        | 40236.35 | \n",
       "| F        | 35501.25 | \n",
       "\n",
       "\n"
      ],
      "text/plain": [
       "  sex model_output\n",
       "1 M   40236.35    \n",
       "2 F   35501.25    "
      ]
     },
     "metadata": {},
     "output_type": "display_data"
    },
    {
     "data": {
      "text/html": [
       "<table>\n",
       "<thead><tr><th scope=col>sex</th><th scope=col>age</th><th scope=col>model_output</th></tr></thead>\n",
       "<tbody>\n",
       "\t<tr><td>M       </td><td>30      </td><td>35138.86</td></tr>\n",
       "\t<tr><td>F       </td><td>30      </td><td>32784.54</td></tr>\n",
       "</tbody>\n",
       "</table>\n"
      ],
      "text/latex": [
       "\\begin{tabular}{r|lll}\n",
       " sex & age & model\\_output\\\\\n",
       "\\hline\n",
       "\t M        & 30       & 35138.86\\\\\n",
       "\t F        & 30       & 32784.54\\\\\n",
       "\\end{tabular}\n"
      ],
      "text/markdown": [
       "\n",
       "sex | age | model_output | \n",
       "|---|---|\n",
       "| M        | 30       | 35138.86 | \n",
       "| F        | 30       | 32784.54 | \n",
       "\n",
       "\n"
      ],
      "text/plain": [
       "  sex age model_output\n",
       "1 M   30  35138.86    \n",
       "2 F   30  32784.54    "
      ]
     },
     "metadata": {},
     "output_type": "display_data"
    },
    {
     "data": {
      "text/html": [
       "<table>\n",
       "<thead><tr><th scope=col>sex</th><th scope=col>hiredyears</th><th scope=col>model_output</th></tr></thead>\n",
       "<tbody>\n",
       "\t<tr><td>M       </td><td>4       </td><td>39331.05</td></tr>\n",
       "\t<tr><td>F       </td><td>4       </td><td>35701.01</td></tr>\n",
       "</tbody>\n",
       "</table>\n"
      ],
      "text/latex": [
       "\\begin{tabular}{r|lll}\n",
       " sex & hiredyears & model\\_output\\\\\n",
       "\\hline\n",
       "\t M        & 4        & 39331.05\\\\\n",
       "\t F        & 4        & 35701.01\\\\\n",
       "\\end{tabular}\n"
      ],
      "text/markdown": [
       "\n",
       "sex | hiredyears | model_output | \n",
       "|---|---|\n",
       "| M        | 4        | 39331.05 | \n",
       "| F        | 4        | 35701.01 | \n",
       "\n",
       "\n"
      ],
      "text/plain": [
       "  sex hiredyears model_output\n",
       "1 M   4          39331.05    \n",
       "2 F   4          35701.01    "
      ]
     },
     "metadata": {},
     "output_type": "display_data"
    },
    {
     "data": {
      "text/html": [
       "<table>\n",
       "<thead><tr><th scope=col>sex</th><th scope=col>title</th><th scope=col>model_output</th></tr></thead>\n",
       "<tbody>\n",
       "\t<tr><td>M        </td><td>RECRUITER</td><td>27027.94 </td></tr>\n",
       "\t<tr><td>F        </td><td>RECRUITER</td><td>27360.28 </td></tr>\n",
       "</tbody>\n",
       "</table>\n"
      ],
      "text/latex": [
       "\\begin{tabular}{r|lll}\n",
       " sex & title & model\\_output\\\\\n",
       "\\hline\n",
       "\t M         & RECRUITER & 27027.94 \\\\\n",
       "\t F         & RECRUITER & 27360.28 \\\\\n",
       "\\end{tabular}\n"
      ],
      "text/markdown": [
       "\n",
       "sex | title | model_output | \n",
       "|---|---|\n",
       "| M         | RECRUITER | 27027.94  | \n",
       "| F         | RECRUITER | 27360.28  | \n",
       "\n",
       "\n"
      ],
      "text/plain": [
       "  sex title     model_output\n",
       "1 M   RECRUITER 27027.94    \n",
       "2 F   RECRUITER 27360.28    "
      ]
     },
     "metadata": {},
     "output_type": "display_data"
    },
    {
     "data": {
      "text/html": [
       "<table>\n",
       "<thead><tr><th scope=col>sex</th><th scope=col>age</th><th scope=col>hiredyears</th><th scope=col>title</th><th scope=col>model_output</th></tr></thead>\n",
       "<tbody>\n",
       "\t<tr><td>M        </td><td>30       </td><td>4        </td><td>RECRUITER</td><td>27204.96 </td></tr>\n",
       "\t<tr><td>F        </td><td>30       </td><td>4        </td><td>RECRUITER</td><td>27220.24 </td></tr>\n",
       "</tbody>\n",
       "</table>\n"
      ],
      "text/latex": [
       "\\begin{tabular}{r|lllll}\n",
       " sex & age & hiredyears & title & model\\_output\\\\\n",
       "\\hline\n",
       "\t M         & 30        & 4         & RECRUITER & 27204.96 \\\\\n",
       "\t F         & 30        & 4         & RECRUITER & 27220.24 \\\\\n",
       "\\end{tabular}\n"
      ],
      "text/markdown": [
       "\n",
       "sex | age | hiredyears | title | model_output | \n",
       "|---|---|\n",
       "| M         | 30        | 4         | RECRUITER | 27204.96  | \n",
       "| F         | 30        | 4         | RECRUITER | 27220.24  | \n",
       "\n",
       "\n"
      ],
      "text/plain": [
       "  sex age hiredyears title     model_output\n",
       "1 M   30  4          RECRUITER 27204.96    \n",
       "2 F   30  4          RECRUITER 27220.24    "
      ]
     },
     "metadata": {},
     "output_type": "display_data"
    }
   ],
   "source": [
    "library(statisticalModeling)\n",
    "data(Trucking_jobs)\n",
    "\n",
    "# Train the five models\n",
    "model_1 <- lm(earnings ~ sex, data = Trucking_jobs)\n",
    "model_2 <- lm(earnings ~ sex + age, data = Trucking_jobs)\n",
    "model_3 <- lm(earnings ~ sex + hiredyears, data = Trucking_jobs)\n",
    "model_4 <- lm(earnings ~ sex + title, data = Trucking_jobs)\n",
    "model_5 <- lm(earnings ~ sex + age + hiredyears + title, data = Trucking_jobs)\n",
    "\n",
    "# Evaluate each model...\n",
    "evaluate_model(model_1)\n",
    "evaluate_model(model_2, age = 30)\n",
    "evaluate_model(model_3, hiredyears = 4)\n",
    "evaluate_model(model_4, title = \"RECRUITER\")\n",
    "evaluate_model(model_5, age = 30, hiredyears = 4,\n",
    "               title = \"RECRUITER\")\n",
    "\n",
    "# ...and calculate the gender difference in earnings \n",
    "diff_1 <- 40236.35 - 35501.25\n",
    "diff_2 <- 35138.86 - 32784.54\n",
    "diff_3 <- 39331.05 - 35701.01 \n",
    "diff_4 <- 27027.94 - 27360.28\n",
    "diff_5 <- 27204.96 - 27220.24"
   ]
  },
  {
   "cell_type": "markdown",
   "metadata": {},
   "source": [
    "#### Sex and death"
   ]
  },
  {
   "cell_type": "markdown",
   "metadata": {},
   "source": [
    "This exercise deals with the cost of life insurance. Data are from the AARP dataset in the statisticalModeling package.\n",
    "\n",
    "The cost of life insurance changes as a person ages. It also (usually) depends on the person's sex, since life expectancy for women in most countries is greater than that for men. And, of course, it depends on the coverage, the amount of life insurance bought.\n",
    "\n",
    "Your goal in this exercise is to find the effect size of Age, or Sex, and of Coverage. Keep in mind that the effect size for each variable is calculated holding each of the other explanatory variables constant.\n",
    "\n",
    "In the console:\n",
    "-  Train a linear model Cost ~ Age + Sex + Coverage.\n",
    "-  Use evaluate_model() to see the model output for several values of the inputs.\n",
    "-  Use effect_size() to measure how a change in the input value changes the output. Do this for each of Age, Sex and Coverage. (Remember, effect_size() takes two arguments: the model and a formula indicating which variable to vary when looking at the model output, e.g. ~ Age to get the effect size of Age on the model's response variable.)\n",
    "\n",
    "Which of these statements are true?\n",
    "1. The effect size of Age is a rate, while for Sex it's a difference.\n",
    "2. A change in Coverage from 50 to 75 corresponds to an increase in Cost of roughly 1.80 USD/month.\n",
    "3. Cost is greater for men than women.\n",
    "4. A person aging from 55 to 65 will see a change in Cost of 33 USD/month.\n",
    "5. The natural units of the effect size of Coverage are USD/month per USD, or more simply, 1/month.\n"
   ]
  },
  {
   "cell_type": "code",
   "execution_count": 34,
   "metadata": {},
   "outputs": [
    {
     "data": {
      "text/html": [
       "<table>\n",
       "<thead><tr><th scope=col>Age</th><th scope=col>Sex</th><th scope=col>Coverage</th><th scope=col>model_output</th></tr></thead>\n",
       "<tbody>\n",
       "\t<tr><td>40         </td><td>F          </td><td> 0         </td><td>-66.4702087</td></tr>\n",
       "\t<tr><td>60         </td><td>F          </td><td> 0         </td><td>  0.5638866</td></tr>\n",
       "\t<tr><td>80         </td><td>F          </td><td> 0         </td><td> 67.5979818</td></tr>\n",
       "\t<tr><td>40         </td><td>M          </td><td> 0         </td><td>-56.2374309</td></tr>\n",
       "\t<tr><td>60         </td><td>M          </td><td> 0         </td><td> 10.7966643</td></tr>\n",
       "\t<tr><td>80         </td><td>M          </td><td> 0         </td><td> 77.8307596</td></tr>\n",
       "\t<tr><td>40         </td><td>F          </td><td>50         </td><td> 24.2980606</td></tr>\n",
       "\t<tr><td>60         </td><td>F          </td><td>50         </td><td> 91.3321558</td></tr>\n",
       "\t<tr><td>80         </td><td>F          </td><td>50         </td><td>158.3662510</td></tr>\n",
       "\t<tr><td>40         </td><td>M          </td><td>50         </td><td> 34.5308383</td></tr>\n",
       "\t<tr><td>60         </td><td>M          </td><td>50         </td><td>101.5649336</td></tr>\n",
       "\t<tr><td>80         </td><td>M          </td><td>50         </td><td>168.5990288</td></tr>\n",
       "</tbody>\n",
       "</table>\n"
      ],
      "text/latex": [
       "\\begin{tabular}{r|llll}\n",
       " Age & Sex & Coverage & model\\_output\\\\\n",
       "\\hline\n",
       "\t 40          & F           &  0          & -66.4702087\\\\\n",
       "\t 60          & F           &  0          &   0.5638866\\\\\n",
       "\t 80          & F           &  0          &  67.5979818\\\\\n",
       "\t 40          & M           &  0          & -56.2374309\\\\\n",
       "\t 60          & M           &  0          &  10.7966643\\\\\n",
       "\t 80          & M           &  0          &  77.8307596\\\\\n",
       "\t 40          & F           & 50          &  24.2980606\\\\\n",
       "\t 60          & F           & 50          &  91.3321558\\\\\n",
       "\t 80          & F           & 50          & 158.3662510\\\\\n",
       "\t 40          & M           & 50          &  34.5308383\\\\\n",
       "\t 60          & M           & 50          & 101.5649336\\\\\n",
       "\t 80          & M           & 50          & 168.5990288\\\\\n",
       "\\end{tabular}\n"
      ],
      "text/markdown": [
       "\n",
       "Age | Sex | Coverage | model_output | \n",
       "|---|---|---|---|---|---|---|---|---|---|---|---|\n",
       "| 40          | F           |  0          | -66.4702087 | \n",
       "| 60          | F           |  0          |   0.5638866 | \n",
       "| 80          | F           |  0          |  67.5979818 | \n",
       "| 40          | M           |  0          | -56.2374309 | \n",
       "| 60          | M           |  0          |  10.7966643 | \n",
       "| 80          | M           |  0          |  77.8307596 | \n",
       "| 40          | F           | 50          |  24.2980606 | \n",
       "| 60          | F           | 50          |  91.3321558 | \n",
       "| 80          | F           | 50          | 158.3662510 | \n",
       "| 40          | M           | 50          |  34.5308383 | \n",
       "| 60          | M           | 50          | 101.5649336 | \n",
       "| 80          | M           | 50          | 168.5990288 | \n",
       "\n",
       "\n"
      ],
      "text/plain": [
       "   Age Sex Coverage model_output\n",
       "1  40  F    0       -66.4702087 \n",
       "2  60  F    0         0.5638866 \n",
       "3  80  F    0        67.5979818 \n",
       "4  40  M    0       -56.2374309 \n",
       "5  60  M    0        10.7966643 \n",
       "6  80  M    0        77.8307596 \n",
       "7  40  F   50        24.2980606 \n",
       "8  60  F   50        91.3321558 \n",
       "9  80  F   50       158.3662510 \n",
       "10 40  M   50        34.5308383 \n",
       "11 60  M   50       101.5649336 \n",
       "12 80  M   50       168.5990288 "
      ]
     },
     "metadata": {},
     "output_type": "display_data"
    },
    {
     "data": {
      "text/html": [
       "<table>\n",
       "<thead><tr><th scope=col>slope</th><th scope=col>Age</th><th scope=col>to:Age</th><th scope=col>Sex</th><th scope=col>Coverage</th></tr></thead>\n",
       "<tbody>\n",
       "\t<tr><td>3.351705</td><td>59.5    </td><td>68.16025</td><td>F       </td><td>20      </td></tr>\n",
       "</tbody>\n",
       "</table>\n"
      ],
      "text/latex": [
       "\\begin{tabular}{r|lllll}\n",
       " slope & Age & to:Age & Sex & Coverage\\\\\n",
       "\\hline\n",
       "\t 3.351705 & 59.5     & 68.16025 & F        & 20      \\\\\n",
       "\\end{tabular}\n"
      ],
      "text/markdown": [
       "\n",
       "slope | Age | to:Age | Sex | Coverage | \n",
       "|---|\n",
       "| 3.351705 | 59.5     | 68.16025 | F        | 20       | \n",
       "\n",
       "\n"
      ],
      "text/plain": [
       "  slope    Age  to:Age   Sex Coverage\n",
       "1 3.351705 59.5 68.16025 F   20      "
      ]
     },
     "metadata": {},
     "output_type": "display_data"
    },
    {
     "data": {
      "text/html": [
       "<table>\n",
       "<thead><tr><th scope=col>change</th><th scope=col>Sex</th><th scope=col>to:Sex</th><th scope=col>Age</th><th scope=col>Coverage</th></tr></thead>\n",
       "<tbody>\n",
       "\t<tr><td>10.23278</td><td>F       </td><td>M       </td><td>59.5    </td><td>20      </td></tr>\n",
       "</tbody>\n",
       "</table>\n"
      ],
      "text/latex": [
       "\\begin{tabular}{r|lllll}\n",
       " change & Sex & to:Sex & Age & Coverage\\\\\n",
       "\\hline\n",
       "\t 10.23278 & F        & M        & 59.5     & 20      \\\\\n",
       "\\end{tabular}\n"
      ],
      "text/markdown": [
       "\n",
       "change | Sex | to:Sex | Age | Coverage | \n",
       "|---|\n",
       "| 10.23278 | F        | M        | 59.5     | 20       | \n",
       "\n",
       "\n"
      ],
      "text/plain": [
       "  change   Sex to:Sex Age  Coverage\n",
       "1 10.23278 F   M      59.5 20      "
      ]
     },
     "metadata": {},
     "output_type": "display_data"
    },
    {
     "data": {
      "text/html": [
       "<table>\n",
       "<thead><tr><th scope=col>slope</th><th scope=col>Coverage</th><th scope=col>to:Coverage</th><th scope=col>Age</th><th scope=col>Sex</th></tr></thead>\n",
       "<tbody>\n",
       "\t<tr><td>1.815365</td><td>20      </td><td>37.23783</td><td>59.5    </td><td>F       </td></tr>\n",
       "</tbody>\n",
       "</table>\n"
      ],
      "text/latex": [
       "\\begin{tabular}{r|lllll}\n",
       " slope & Coverage & to:Coverage & Age & Sex\\\\\n",
       "\\hline\n",
       "\t 1.815365 & 20       & 37.23783 & 59.5     & F       \\\\\n",
       "\\end{tabular}\n"
      ],
      "text/markdown": [
       "\n",
       "slope | Coverage | to:Coverage | Age | Sex | \n",
       "|---|\n",
       "| 1.815365 | 20       | 37.23783 | 59.5     | F        | \n",
       "\n",
       "\n"
      ],
      "text/plain": [
       "  slope    Coverage to:Coverage Age  Sex\n",
       "1 1.815365 20       37.23783    59.5 F  "
      ]
     },
     "metadata": {},
     "output_type": "display_data"
    },
    {
     "data": {
      "text/plain": [
       "\n",
       "Call:\n",
       "lm(formula = Cost ~ Age + Sex + Coverage, data = AARP)\n",
       "\n",
       "Residuals:\n",
       "    Min      1Q  Median      3Q     Max \n",
       "-28.229 -15.328  -3.387   7.965  65.465 \n",
       "\n",
       "Coefficients:\n",
       "             Estimate Std. Error t value Pr(>|t|)    \n",
       "(Intercept) -200.5384    26.7475  -7.497 1.55e-08 ***\n",
       "Age            3.3517     0.4302   7.791 6.93e-09 ***\n",
       "SexM          10.2328     7.3472   1.393    0.173    \n",
       "Coverage       1.8154     0.2161   8.399 1.35e-09 ***\n",
       "---\n",
       "Signif. codes:  0 '***' 0.001 '**' 0.01 '*' 0.05 '.' 0.1 ' ' 1\n",
       "\n",
       "Residual standard error: 22.04 on 32 degrees of freedom\n",
       "Multiple R-squared:  0.8063,\tAdjusted R-squared:  0.7881 \n",
       "F-statistic:  44.4 on 3 and 32 DF,  p-value: 1.643e-11\n"
      ]
     },
     "metadata": {},
     "output_type": "display_data"
    }
   ],
   "source": [
    "data(AARP, package = \"statisticalModeling\")\n",
    "\n",
    "model <- lm(Cost ~ Age + Sex + Coverage, data = AARP)\n",
    "evaluate_model(model)\n",
    "\n",
    "model <- lm(Cost ~ Age + Sex + Coverage, data = AARP)\n",
    "effect_size(model, ~Age)\n",
    "effect_size(model, ~Sex)\n",
    "effect_size(model, ~Coverage)\n",
    "summary(model)"
   ]
  },
  {
   "cell_type": "markdown",
   "metadata": {},
   "source": [
    "#### How do GPAs compare?"
   ]
  },
  {
   "cell_type": "code",
   "execution_count": 35,
   "metadata": {},
   "outputs": [
    {
     "data": {
      "text/html": [
       "<table>\n",
       "<thead><tr><th scope=col>sid</th><th scope=col>model_output</th></tr></thead>\n",
       "<tbody>\n",
       "\t<tr><td>S32115  </td><td>3.448571</td></tr>\n",
       "\t<tr><td>S32262  </td><td>3.442500</td></tr>\n",
       "</tbody>\n",
       "</table>\n"
      ],
      "text/latex": [
       "\\begin{tabular}{r|ll}\n",
       " sid & model\\_output\\\\\n",
       "\\hline\n",
       "\t S32115   & 3.448571\\\\\n",
       "\t S32262   & 3.442500\\\\\n",
       "\\end{tabular}\n"
      ],
      "text/markdown": [
       "\n",
       "sid | model_output | \n",
       "|---|---|\n",
       "| S32115   | 3.448571 | \n",
       "| S32262   | 3.442500 | \n",
       "\n",
       "\n"
      ],
      "text/plain": [
       "  sid    model_output\n",
       "1 S32115 3.448571    \n",
       "2 S32262 3.442500    "
      ]
     },
     "metadata": {},
     "output_type": "display_data"
    },
    {
     "data": {
      "text/html": [
       "<table>\n",
       "<thead><tr><th scope=col>change</th><th scope=col>sid</th><th scope=col>to:sid</th></tr></thead>\n",
       "<tbody>\n",
       "\t<tr><td>0.4886364</td><td>S32259   </td><td>S32364   </td></tr>\n",
       "</tbody>\n",
       "</table>\n"
      ],
      "text/latex": [
       "\\begin{tabular}{r|lll}\n",
       " change & sid & to:sid\\\\\n",
       "\\hline\n",
       "\t 0.4886364 & S32259    & S32364   \\\\\n",
       "\\end{tabular}\n"
      ],
      "text/markdown": [
       "\n",
       "change | sid | to:sid | \n",
       "|---|\n",
       "| 0.4886364 | S32259    | S32364    | \n",
       "\n",
       "\n"
      ],
      "text/plain": [
       "  change    sid    to:sid\n",
       "1 0.4886364 S32259 S32364"
      ]
     },
     "metadata": {},
     "output_type": "display_data"
    },
    {
     "data": {
      "text/html": [
       "<table>\n",
       "<thead><tr><th scope=col>change</th><th scope=col>sid</th><th scope=col>to:sid</th></tr></thead>\n",
       "<tbody>\n",
       "\t<tr><td>-0.006071429</td><td>S32115      </td><td>S32262      </td></tr>\n",
       "</tbody>\n",
       "</table>\n"
      ],
      "text/latex": [
       "\\begin{tabular}{r|lll}\n",
       " change & sid & to:sid\\\\\n",
       "\\hline\n",
       "\t -0.006071429 & S32115       & S32262      \\\\\n",
       "\\end{tabular}\n"
      ],
      "text/markdown": [
       "\n",
       "change | sid | to:sid | \n",
       "|---|\n",
       "| -0.006071429 | S32115       | S32262       | \n",
       "\n",
       "\n"
      ],
      "text/plain": [
       "  change       sid    to:sid\n",
       "1 -0.006071429 S32115 S32262"
      ]
     },
     "metadata": {},
     "output_type": "display_data"
    },
    {
     "data": {
      "text/html": [
       "<table>\n",
       "<thead><tr><th scope=col>change</th><th scope=col>sid</th><th scope=col>to:sid</th><th scope=col>dept</th><th scope=col>level</th></tr></thead>\n",
       "<tbody>\n",
       "\t<tr><td>0.4216295</td><td>S32115   </td><td>S32262   </td><td>d        </td><td>200      </td></tr>\n",
       "</tbody>\n",
       "</table>\n"
      ],
      "text/latex": [
       "\\begin{tabular}{r|lllll}\n",
       " change & sid & to:sid & dept & level\\\\\n",
       "\\hline\n",
       "\t 0.4216295 & S32115    & S32262    & d         & 200      \\\\\n",
       "\\end{tabular}\n"
      ],
      "text/markdown": [
       "\n",
       "change | sid | to:sid | dept | level | \n",
       "|---|\n",
       "| 0.4216295 | S32115    | S32262    | d         | 200       | \n",
       "\n",
       "\n"
      ],
      "text/plain": [
       "  change    sid    to:sid dept level\n",
       "1 0.4216295 S32115 S32262 d    200  "
      ]
     },
     "metadata": {},
     "output_type": "display_data"
    }
   ],
   "source": [
    "data(College_grades, package = \"statisticalModeling\")\n",
    "\n",
    "# Calculating the GPA \n",
    "gpa_mod_1 <- lm(gradepoint ~ sid, data = College_grades)\n",
    "\n",
    "# The GPA for two students\n",
    "evaluate_model(gpa_mod_1, sid = c(\"S32115\", \"S32262\"))\n",
    "\n",
    "# Use effect_size()\n",
    "effect_size(gpa_mod_1, ~ sid)\n",
    "\n",
    "# Specify from and to levels to compare\n",
    "effect_size(gpa_mod_1, ~ sid, sid = \"S32115\", to = \"S32262\")\n",
    "\n",
    "# A better model?\n",
    "gpa_mod_2 <- lm(gradepoint ~ sid + dept + level, data = College_grades)\n",
    "\n",
    "# Find difference between the same two students as before\n",
    "effect_size(gpa_mod_2, ~ sid, sid = \"S32115\", to = \"S32262\")"
   ]
  },
  {
   "cell_type": "markdown",
   "metadata": {},
   "source": [
    "#### Housing Units"
   ]
  },
  {
   "cell_type": "code",
   "execution_count": null,
   "metadata": {
    "collapsed": true
   },
   "outputs": [],
   "source": []
  }
 ],
 "metadata": {
  "kernelspec": {
   "display_name": "R 3.4.2",
   "language": "R",
   "name": "ir342"
  },
  "language_info": {
   "codemirror_mode": "r",
   "file_extension": ".r",
   "mimetype": "text/x-r-source",
   "name": "R",
   "pygments_lexer": "r",
   "version": "3.4.2"
  }
 },
 "nbformat": 4,
 "nbformat_minor": 2
}
